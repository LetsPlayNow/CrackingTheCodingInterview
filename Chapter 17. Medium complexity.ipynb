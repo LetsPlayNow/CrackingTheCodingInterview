{
 "cells": [
  {
   "cell_type": "markdown",
   "metadata": {},
   "source": [
    "### 17.1 XOR exchange"
   ]
  },
  {
   "cell_type": "code",
   "execution_count": 21,
   "metadata": {
    "collapsed": true
   },
   "outputs": [],
   "source": [
    "a = 56\n",
    "b = 231"
   ]
  },
  {
   "cell_type": "code",
   "execution_count": 22,
   "metadata": {
    "collapsed": false
   },
   "outputs": [
    {
     "data": {
      "text/plain": [
       "231"
      ]
     },
     "execution_count": 22,
     "metadata": {},
     "output_type": "execute_result"
    }
   ],
   "source": [
    "a ^ b ^ a"
   ]
  },
  {
   "cell_type": "code",
   "execution_count": 19,
   "metadata": {
    "collapsed": true
   },
   "outputs": [],
   "source": [
    "def bin_repr(num):\n",
    "    return bin(num)[2:].zfill(8)"
   ]
  },
  {
   "cell_type": "code",
   "execution_count": 27,
   "metadata": {
    "collapsed": false
   },
   "outputs": [
    {
     "name": "stdout",
     "output_type": "stream",
     "text": [
      "a 00111000\n",
      "b 11100111\n",
      "^ 11011111\n",
      "b 11100111 a^b^a\n"
     ]
    }
   ],
   "source": [
    "print('a', bin_repr(a))\n",
    "print('b', bin_repr(b))\n",
    "print('^', bin_repr(a ^ b))\n",
    "print('b', bin_repr(a ^ b ^ a), 'a^b^a')"
   ]
  },
  {
   "cell_type": "markdown",
   "metadata": {},
   "source": [
    "Those digits who we the same become 0.   \n",
    "Then they are can stay zero if both a and b have 0 in this digit, or become 1 if they have 1.  \n",
    "Digits which were different become 1 and then can become 1 or 0"
   ]
  },
  {
   "cell_type": "markdown",
   "metadata": {},
   "source": [
    "### 17.2 Tic - tac - toe"
   ]
  },
  {
   "cell_type": "code",
   "execution_count": 66,
   "metadata": {
    "collapsed": true
   },
   "outputs": [],
   "source": [
    "import itertools"
   ]
  },
  {
   "cell_type": "code",
   "execution_count": 98,
   "metadata": {
    "collapsed": false
   },
   "outputs": [],
   "source": [
    "class TicTAcToeField:\n",
    "    def __init__(self, n):\n",
    "        self.field = [[None for i in range(n)] for j in range(n)]\n",
    "        self.n = n\n",
    "        self.win_length = n\n",
    "    \n",
    "    def _line_winner(self, line):\n",
    "        \"\"\"\n",
    "        line(iterable): line of game field or (0, x or None)'s\n",
    "        \"\"\"\n",
    "        counts = {'x': 0, '0': 0, None: 0}\n",
    "        for cell in line:\n",
    "            counts[cell] += 1\n",
    "\n",
    "            for key, val in counts.items():\n",
    "                if key != cell:\n",
    "                    counts[key] = 0\n",
    "                elif key and val >= self.win_length:\n",
    "                    return key\n",
    "            \n",
    "    def col(self, j):\n",
    "        for i in range(self.n):\n",
    "            yield self.field[i][j]\n",
    "    \n",
    "    def row(self, i):\n",
    "        for j in range(self.n):\n",
    "            yield self.field[i][j]\n",
    "    \n",
    "    def main_diag(self, i, j):\n",
    "        for k in range(n-1-max(i, j)):\n",
    "            yield self.field[i+k][j+k]\n",
    "     \n",
    "    def coll_diag(self, i, j):\n",
    "        for k in range(min(0-j, n-1-i)):\n",
    "            yield self.field[i+k][j-k]\n",
    "    \n",
    "    def get_winner(self):\n",
    "        rows = []\n",
    "        for i in range(self.n):\n",
    "            rows.append(self.row(i))\n",
    "        \n",
    "        cols = []\n",
    "        for j in range(self.n):\n",
    "            cols.append(self.col(j))\n",
    "            \n",
    "        diags = []\n",
    "        for i in range(self.n):\n",
    "            diags.append(self.main_diag(i, 0))\n",
    "        \n",
    "        for j in range(self.n):\n",
    "            diags.append(self.main_diag(0, j))\n",
    "            diags.append(self.coll_diag(0, j))\n",
    "        \n",
    "        for i in range(self.n):\n",
    "            diags.append(self.coll_diag(i, self.n-1))\n",
    "        \n",
    "        for l in itertools.chain(rows, cols, diags):\n",
    "            winner = self._line_winner(l)\n",
    "            if winner:\n",
    "                return winner\n",
    "            \n",
    "    def __repr__(self):\n",
    "        str_rows = []\n",
    "        for row in self.field:\n",
    "            str_row = \"\".join(str(cell) if cell else \" \" for cell in row)\n",
    "            str_rows.append(str_row)\n",
    "        return \"\\n\".join(str_rows)"
   ]
  },
  {
   "cell_type": "code",
   "execution_count": 104,
   "metadata": {
    "collapsed": true
   },
   "outputs": [],
   "source": [
    "n = 5\n",
    "field = TicTAcToeField(n)"
   ]
  },
  {
   "cell_type": "code",
   "execution_count": 105,
   "metadata": {
    "collapsed": false
   },
   "outputs": [
    {
     "data": {
      "text/plain": [
       "     \n",
       "     \n",
       "     \n",
       "     \n",
       "     "
      ]
     },
     "execution_count": 105,
     "metadata": {},
     "output_type": "execute_result"
    }
   ],
   "source": [
    "field"
   ]
  },
  {
   "cell_type": "code",
   "execution_count": 103,
   "metadata": {
    "collapsed": true
   },
   "outputs": [],
   "source": [
    "import random"
   ]
  },
  {
   "cell_type": "code",
   "execution_count": 106,
   "metadata": {
    "collapsed": true
   },
   "outputs": [],
   "source": [
    "for i in range(n):\n",
    "    for j in range(n):\n",
    "        field.field[i][j] = random.choice(['x', '0', None])"
   ]
  },
  {
   "cell_type": "code",
   "execution_count": 107,
   "metadata": {
    "collapsed": false
   },
   "outputs": [
    {
     "data": {
      "text/plain": [
       "000 x\n",
       "xx xx\n",
       "x   x\n",
       "0xx x\n",
       "x00 x"
      ]
     },
     "execution_count": 107,
     "metadata": {},
     "output_type": "execute_result"
    }
   ],
   "source": [
    "field"
   ]
  },
  {
   "cell_type": "code",
   "execution_count": 108,
   "metadata": {
    "collapsed": false
   },
   "outputs": [
    {
     "data": {
      "text/plain": [
       "'x'"
      ]
     },
     "execution_count": 108,
     "metadata": {},
     "output_type": "execute_result"
    }
   ],
   "source": [
    "field.get_winner()"
   ]
  },
  {
   "cell_type": "markdown",
   "metadata": {},
   "source": [
    "### 17.3"
   ]
  },
  {
   "cell_type": "markdown",
   "metadata": {},
   "source": [
    "Нули порождают вроде только 10, 5 * 2.\n",
    "Просто считаем их"
   ]
  },
  {
   "cell_type": "code",
   "execution_count": 123,
   "metadata": {
    "collapsed": true
   },
   "outputs": [],
   "source": [
    "# O(n log_2(n)) because for each number we must find it's x for 2^x ~ number\n",
    "def zeros_count(n):\n",
    "    dividers = {5: 0, 2: 0}\n",
    "    for num in range(1, n+1):\n",
    "        for div in dividers:\n",
    "            while num % div == 0:\n",
    "                num /= div\n",
    "                dividers[div] += 1\n",
    "        \n",
    "    return min(dividers.values())"
   ]
  },
  {
   "cell_type": "code",
   "execution_count": 131,
   "metadata": {
    "collapsed": true
   },
   "outputs": [],
   "source": [
    "# Easy as possible O(n / 10)\n",
    "def zeros_count(n):\n",
    "    return len(range(0, n+1, 10))"
   ]
  },
  {
   "cell_type": "code",
   "execution_count": 110,
   "metadata": {
    "collapsed": true
   },
   "outputs": [],
   "source": [
    "def factorial(n):\n",
    "    f = 1\n",
    "    for i in range(2, n+1):\n",
    "        f *= i\n",
    "    return f"
   ]
  },
  {
   "cell_type": "code",
   "execution_count": 130,
   "metadata": {
    "collapsed": false
   },
   "outputs": [
    {
     "name": "stdout",
     "output_type": "stream",
     "text": [
      "120\n",
      "zeros: 1\n"
     ]
    }
   ],
   "source": [
    "print(factorial(5))\n",
    "print(\"zeros:\", zeros_count(5))"
   ]
  },
  {
   "cell_type": "code",
   "execution_count": 129,
   "metadata": {
    "collapsed": false
   },
   "outputs": [
    {
     "name": "stdout",
     "output_type": "stream",
     "text": [
      "3628800\n",
      "zeros: 2\n"
     ]
    }
   ],
   "source": [
    "print(factorial(10))\n",
    "print(\"zeros:\", zeros_count(10))"
   ]
  },
  {
   "cell_type": "markdown",
   "metadata": {},
   "source": [
    "### 17.4"
   ]
  },
  {
   "cell_type": "code",
   "execution_count": 135,
   "metadata": {
    "collapsed": false
   },
   "outputs": [],
   "source": [
    "def max_2(a, b):\n",
    "    # Разве что придумать что - нибудь с разрядами?\n",
    "    pass"
   ]
  },
  {
   "cell_type": "markdown",
   "metadata": {},
   "source": [
    "### 17.5"
   ]
  },
  {
   "cell_type": "code",
   "execution_count": 3,
   "metadata": {
    "collapsed": true
   },
   "outputs": [],
   "source": [
    "from collections import defaultdict"
   ]
  },
  {
   "cell_type": "code",
   "execution_count": 7,
   "metadata": {
    "collapsed": false
   },
   "outputs": [],
   "source": [
    "def get_0():\n",
    "    return 0"
   ]
  },
  {
   "cell_type": "code",
   "execution_count": 8,
   "metadata": {
    "collapsed": true
   },
   "outputs": [],
   "source": [
    "def hint(real, given):\n",
    "    \"\"\"\n",
    "    real: password itself\n",
    "    given: user's attempt to guess password\n",
    "    \"\"\"\n",
    "    \n",
    "    hits_count = 0\n",
    "    pseudo_hits_count = 0\n",
    "    unknown_in_real = defaultdict(get_0)\n",
    "    misses_in_given = defaultdict(get_0)\n",
    "    for r, g in zip(real, given):\n",
    "        if r == g:\n",
    "            hits_count += 1\n",
    "        else:\n",
    "            unknown_in_real[r] += 1\n",
    "            misses_in_given[g] += 1\n",
    "    \n",
    "    for r, r_cnt in unknown_in_real.items():\n",
    "        if misses_in_given[r] != 0:\n",
    "            pseudo_hits_count += min(misses_in_given[r], r_cnt)\n",
    "            \n",
    "    return hits_count, pseudo_hits_count"
   ]
  },
  {
   "cell_type": "code",
   "execution_count": 9,
   "metadata": {
    "collapsed": false
   },
   "outputs": [
    {
     "data": {
      "text/plain": [
       "(0, 2)"
      ]
     },
     "execution_count": 9,
     "metadata": {},
     "output_type": "execute_result"
    }
   ],
   "source": [
    "hint('RGBY', 'GRRR')"
   ]
  },
  {
   "cell_type": "code",
   "execution_count": 10,
   "metadata": {
    "collapsed": false
   },
   "outputs": [
    {
     "data": {
      "text/plain": [
       "(0, 4)"
      ]
     },
     "execution_count": 10,
     "metadata": {},
     "output_type": "execute_result"
    }
   ],
   "source": [
    "hint('RRGG', 'GGRR')"
   ]
  },
  {
   "cell_type": "markdown",
   "metadata": {},
   "source": [
    "### all task with monets"
   ]
  },
  {
   "cell_type": "code",
   "execution_count": 44,
   "metadata": {
    "collapsed": true
   },
   "outputs": [],
   "source": [
    "def num_ways(coins, amount):\n",
    "    def helper(coins, current_amount):\n",
    "        if len(coins) == 0:\n",
    "            if current_amount == 0:\n",
    "                return 1\n",
    "            else:\n",
    "                return 0\n",
    "        i = 0\n",
    "        next_coin = coins[0]\n",
    "        unused_coins = list(coins[1:])\n",
    "        ways_count = 0\n",
    "        while i * next_coin <= amount:\n",
    "            ways_count += num_ways(unused_coins, amount - i * next_coin)\n",
    "            i += 1\n",
    "        return ways_count\n",
    "    return helper(coins, amount)"
   ]
  },
  {
   "cell_type": "code",
   "execution_count": 47,
   "metadata": {
    "collapsed": false
   },
   "outputs": [
    {
     "data": {
      "text/plain": [
       "6"
      ]
     },
     "execution_count": 47,
     "metadata": {},
     "output_type": "execute_result"
    }
   ],
   "source": [
    "num_ways([1,5,10], 15)"
   ]
  },
  {
   "cell_type": "markdown",
   "metadata": {},
   "source": [
    "### 17.6"
   ]
  },
  {
   "cell_type": "code",
   "execution_count": 69,
   "metadata": {
    "collapsed": false
   },
   "outputs": [],
   "source": [
    "def get_unsorted(a: list):\n",
    "    size = len(a)\n",
    "    for m in range(size-1):\n",
    "        if a[m] > a[m+1]:\n",
    "            break\n",
    "        right_part_min = min(a[m+1:])\n",
    "        if right_part_min < a[m]:\n",
    "            break\n",
    "    \n",
    "    for n in reversed(range(m, size)):\n",
    "        if a[n] < a[n-1]:\n",
    "            break\n",
    "        left_part_max = max(a[:n])\n",
    "        if left_part_max > a[n]:\n",
    "            break\n",
    "    \n",
    "    return m, n"
   ]
  },
  {
   "cell_type": "code",
   "execution_count": 66,
   "metadata": {
    "collapsed": true
   },
   "outputs": [],
   "source": [
    "a = [1, 2, 4, 7, 10, 11, 7, 12, 6, 7, 16, 18, 19]"
   ]
  },
  {
   "cell_type": "code",
   "execution_count": 68,
   "metadata": {
    "collapsed": false
   },
   "outputs": [
    {
     "data": {
      "text/plain": [
       "(3, 9)"
      ]
     },
     "execution_count": 68,
     "metadata": {},
     "output_type": "execute_result"
    }
   ],
   "source": [
    "get_unsorted(a)"
   ]
  },
  {
   "cell_type": "markdown",
   "metadata": {},
   "source": [
    "Complexity: $O(n^2)$\n",
    "I think, we can improve this with min stack"
   ]
  },
  {
   "cell_type": "markdown",
   "metadata": {},
   "source": [
    "### 17.7  1234 -> одна тысяча двести тридцать четыре"
   ]
  },
  {
   "cell_type": "code",
   "execution_count": null,
   "metadata": {
    "collapsed": true
   },
   "outputs": [],
   "source": []
  },
  {
   "cell_type": "markdown",
   "metadata": {},
   "source": [
    "## 17.8"
   ]
  },
  {
   "cell_type": "code",
   "execution_count": 65,
   "metadata": {
    "collapsed": true
   },
   "outputs": [],
   "source": [
    "def max_rising_subseq(a:list):\n",
    "    summ = 0\n",
    "    max_summ = a[0]\n",
    "    subsequence = [0,0]\n",
    "    for i, x in enumerate(a):\n",
    "        if x >= summ + x:\n",
    "            if x >= summ:\n",
    "                subsequence[0] = i\n",
    "            summ = x\n",
    "        else:\n",
    "            summ += x\n",
    "            \n",
    "        if summ >= max_summ:\n",
    "            max_summ = summ\n",
    "            subsequence[1] = i\n",
    "    return max_summ, subsequence"
   ]
  },
  {
   "cell_type": "code",
   "execution_count": 61,
   "metadata": {
    "collapsed": false
   },
   "outputs": [
    {
     "name": "stdout",
     "output_type": "stream",
     "text": [
      "(5, [2, 4])\n"
     ]
    }
   ],
   "source": [
    "a = [2,-8,3,-2,4,-10]\n",
    "print(max_rising_subseq(a))"
   ]
  },
  {
   "cell_type": "code",
   "execution_count": 62,
   "metadata": {
    "collapsed": false
   },
   "outputs": [
    {
     "name": "stdout",
     "output_type": "stream",
     "text": [
      "(0, [2, 2])\n"
     ]
    }
   ],
   "source": [
    "a = [-1, -2, 0]\n",
    "print(max_rising_subseq(a))"
   ]
  },
  {
   "cell_type": "code",
   "execution_count": 63,
   "metadata": {
    "collapsed": false
   },
   "outputs": [
    {
     "name": "stdout",
     "output_type": "stream",
     "text": [
      "(101, [2, 5])\n"
     ]
    }
   ],
   "source": [
    "a = [-1, -2, 100,-3, -96, 100]\n",
    "print(max_rising_subseq(a))"
   ]
  },
  {
   "cell_type": "code",
   "execution_count": 60,
   "metadata": {
    "collapsed": false
   },
   "outputs": [
    {
     "name": "stdout",
     "output_type": "stream",
     "text": [
      "(-1, [0, 0])\n"
     ]
    }
   ],
   "source": [
    "a = [-1, -2, -3]\n",
    "print(max_rising_subseq(a))"
   ]
  },
  {
   "cell_type": "code",
   "execution_count": null,
   "metadata": {
    "collapsed": true
   },
   "outputs": [],
   "source": [
    "17.9"
   ]
  },
  {
   "cell_type": "markdown",
   "metadata": {},
   "source": [
    "## 17.10 Encoding XML"
   ]
  },
  {
   "cell_type": "markdown",
   "metadata": {},
   "source": [
    "Recursion or automata will be nice here. But I think we can solve it easiver"
   ]
  },
  {
   "cell_type": "markdown",
   "metadata": {},
   "source": [
    "### Recursion method"
   ]
  },
  {
   "cell_type": "code",
   "execution_count": 10,
   "metadata": {
    "collapsed": true
   },
   "outputs": [],
   "source": [
    "# Will work only for correct XML\n",
    "# procedure parse\n",
    "# parse tag\n",
    "# Parse Arguments (if present)\n",
    "# END \n",
    "# call parse\n",
    "# END"
   ]
  },
  {
   "cell_type": "markdown",
   "metadata": {},
   "source": [
    "Solution above has wrong idea about one children for each tag"
   ]
  },
  {
   "cell_type": "code",
   "execution_count": 13,
   "metadata": {
    "collapsed": true
   },
   "outputs": [],
   "source": [
    "import string\n",
    "\n",
    "whitespace_chars = set(string.whitespace)"
   ]
  },
  {
   "cell_type": "code",
   "execution_count": 16,
   "metadata": {
    "collapsed": true
   },
   "outputs": [],
   "source": [
    "def encode_xml(xml: str):\n",
    "    encoded = []\n",
    "    keywords = {}\n",
    "    cur_id = 1\n",
    "    end_tag = 0\n",
    "\n",
    "    def add_keyword(word: str):\n",
    "        if word not in keywords:\n",
    "            keywords[word] = cur_id\n",
    "            cur_id += 1\n",
    "        encoded.append(keywords[word])\n",
    "\n",
    "    def read_while(it, condition):\n",
    "        char = next(it)\n",
    "        readed = ''\n",
    "        while condition(char):\n",
    "            readed += char\n",
    "            char = next(it)\n",
    "        return readed, char\n",
    "\n",
    "    def skip_whitespace(it):\n",
    "        whitespace, last_char = read_while(it, lambda x: x in whitespace_chars)\n",
    "        return last_char\n",
    "\n",
    "    def parse_tag(it):\n",
    "        char = skip_whitespace(it)\n",
    "\n",
    "        if char != '<':\n",
    "            tag_value = read_while(it, lambda x: x != '<')\n",
    "            encoded.append(tag_value)\n",
    "            return\n",
    "\n",
    "        # Parse open tag\n",
    "        tag_name, char = read_while(it, lambda x: x not in whitespace_chars and x != '>')\n",
    "        add_keyword(tag_name)\n",
    "\n",
    "        # Parse arguments\n",
    "        while char != '>':\n",
    "            # Attribute keyword\n",
    "            attr_name, char = read_while(it, lambda x: x not in whitespace_chars and x != '=')\n",
    "            if attr_name:\n",
    "                add_keyword(attr_name)\n",
    "\n",
    "                # Attribute value\n",
    "                read_while(it, lambda x: x != '\"')\n",
    "\n",
    "                attr_value, char = read_while(it, lambda x: x != '\"')\n",
    "                encoded.append(attr_value)\n",
    "\n",
    "            char = next(it)\n",
    "\n",
    "        if char == '>':\n",
    "            encoded.append(end_tag)\n",
    "\n",
    "        parse_tag(it)\n",
    "\n",
    "        if char == '/':\n",
    "            closing_tag, char = read_while(it, lambda x: x != '>')\n",
    "            encoded.append(end_tag)\n",
    "            \n",
    "    parse_tag(iter(xml))\n",
    "    return ' '.join(encoded)"
   ]
  },
  {
   "cell_type": "markdown",
   "metadata": {},
   "source": [
    "### Another approach\n",
    "If we will look at automata of XML syntax we can see,   \n",
    "that we can will see not easiest automata with recursive states.  \n",
    "\n",
    "For example:   \n",
    "`tag: <tag_name [attributes]>[[whitespace_symbols]tag,]|Value]</tag_name> `   \n",
    "But we don't implement syntactic analizer.  \n",
    "For us context is not important.  \n",
    "So we can just pick some unique states, each of them can be easily identified:\n",
    "* tag_name starts with < and ends with whitespace or >\n",
    "* attribute starts with alpha then spaces, =, spaces, \"attribute_value\"\n",
    "* tag value can be after > but before <"
   ]
  },
  {
   "cell_type": "code",
   "execution_count": 18,
   "metadata": {
    "collapsed": false
   },
   "outputs": [
    {
     "data": {
      "text/plain": [
       "['<bla', 'argument', '=', '\"daa\"', 'other=\"daa\"', '>', 'mememe', '</bla>']"
      ]
     },
     "execution_count": 18,
     "metadata": {},
     "output_type": "execute_result"
    }
   ],
   "source": [
    "'<bla argument = \"daa\" other=\"daa\" > mememe </bla>'.split()"
   ]
  },
  {
   "cell_type": "code",
   "execution_count": 19,
   "metadata": {
    "collapsed": false
   },
   "outputs": [
    {
     "data": {
      "text/plain": [
       "['', 'daa', '']"
      ]
     },
     "execution_count": 19,
     "metadata": {},
     "output_type": "execute_result"
    }
   ],
   "source": [
    "'\"daa\"'.split('\"')"
   ]
  },
  {
   "cell_type": "code",
   "execution_count": 81,
   "metadata": {
    "collapsed": false
   },
   "outputs": [],
   "source": [
    "def encode_xml(xml:str):\n",
    "    encoded = []\n",
    "    keywords = {}\n",
    "    cur_id = 1\n",
    "    end_tag = 0\n",
    "\n",
    "    def add_keyword(word: str):\n",
    "        nonlocal cur_id\n",
    "        if word not in keywords:\n",
    "            keywords[word] = cur_id\n",
    "            cur_id += 1\n",
    "        encoded.append(keywords[word])\n",
    "    \n",
    "    def add_word(word:str):\n",
    "        encoded.append(word)\n",
    "        \n",
    "    def read_while(it, condition, first_char = None):\n",
    "        if first_char is None:  \n",
    "            char = next(it)\n",
    "        else:\n",
    "            char = first_char\n",
    "        readed = ''\n",
    "        while condition(char):\n",
    "            readed += char\n",
    "            char = next(it)\n",
    "        return readed, char\n",
    "    \n",
    "    def encode(xml):\n",
    "        it = iter(xml)\n",
    "        char = None\n",
    "        while True:\n",
    "            is_whitespace = char is None or char in whitespace_chars\n",
    "            if is_whitespace or char != '<':\n",
    "                char = next(it)\n",
    "\n",
    "            is_tag = char == '<'\n",
    "            if is_tag:\n",
    "                tag_name, char = read_while(it, lambda char: char not in whitespace_chars and char != '>')\n",
    "                if tag_name[0] == '/':\n",
    "                    add_word(end_tag)\n",
    "                else:\n",
    "                    add_keyword(tag_name)\n",
    "\n",
    "            is_attribute = char.isalpha()\n",
    "            if is_attribute:\n",
    "                attr_name, char = read_while(it, lambda char: char not in whitespace_chars and char != '=', char)\n",
    "                add_keyword(attr_name)\n",
    "\n",
    "                # skip spaces between = and first \"\n",
    "                while char != '\"':\n",
    "                    char = next(it)\n",
    "\n",
    "                attr_value, char = read_while(it, lambda char: char != '\"')\n",
    "                add_word(attr_value)\n",
    "\n",
    "            is_open_tag_end = char == '>'\n",
    "            if is_open_tag_end:\n",
    "                tag_value, char = read_while(it, lambda char: char != '<')\n",
    "                was_alpha = any(char.isalpha() for char in tag_value)\n",
    "                if was_alpha:\n",
    "                    add_word(tag_value)\n",
    "                else:\n",
    "                    add_word(end_tag)\n",
    "    \n",
    "    try:\n",
    "        encode(xml)\n",
    "    except StopIteration:\n",
    "        return ' '.join(str(word) for word in encoded) "
   ]
  },
  {
   "cell_type": "code",
   "execution_count": 75,
   "metadata": {
    "collapsed": true
   },
   "outputs": [],
   "source": [
    "xml = \"\"\"\n",
    "<note attr1=\"bla\" attr2=\"blabla\">\n",
    "    <person firstName=\"Gayle\"> Some Message </person>\n",
    "</note>\n",
    "\"\"\""
   ]
  },
  {
   "cell_type": "code",
   "execution_count": 82,
   "metadata": {
    "collapsed": false
   },
   "outputs": [
    {
     "data": {
      "text/plain": [
       "'1 2 bla 3 blabla 0 4 5 Gayle  Some Message  0 0 0'"
      ]
     },
     "execution_count": 82,
     "metadata": {},
     "output_type": "execute_result"
    }
   ],
   "source": [
    "encode_xml(xml)"
   ]
  },
  {
   "cell_type": "code",
   "execution_count": 77,
   "metadata": {
    "collapsed": true
   },
   "outputs": [],
   "source": [
    "xml2 = \"\"\"\n",
    "<note>\n",
    "<to>Tove</to>\n",
    "<from>Jani</from>\n",
    "<heading>Reminder</heading>\n",
    "<body>Don't forget me this weekend!</body>\n",
    "</note>\n",
    "\"\"\""
   ]
  },
  {
   "cell_type": "code",
   "execution_count": 83,
   "metadata": {
    "collapsed": false
   },
   "outputs": [
    {
     "data": {
      "text/plain": [
       "\"1 0 2 Tove 0 0 3 Jani 0 0 4 Reminder 0 0 5 Don't forget me this weekend! 0 0 0\""
      ]
     },
     "execution_count": 83,
     "metadata": {},
     "output_type": "execute_result"
    }
   ],
   "source": [
    "encode_xml(xml2)"
   ]
  },
  {
   "cell_type": "markdown",
   "metadata": {},
   "source": [
    "Seems like end_tag is broken"
   ]
  }
 ],
 "metadata": {
  "anaconda-cloud": {},
  "kernelspec": {
   "display_name": "Python [conda env:py_36]",
   "language": "python",
   "name": "conda-env-py_36-py"
  },
  "language_info": {
   "codemirror_mode": {
    "name": "ipython",
    "version": 3
   },
   "file_extension": ".py",
   "mimetype": "text/x-python",
   "name": "python",
   "nbconvert_exporter": "python",
   "pygments_lexer": "ipython3",
   "version": "3.6.2"
  }
 },
 "nbformat": 4,
 "nbformat_minor": 1
}
