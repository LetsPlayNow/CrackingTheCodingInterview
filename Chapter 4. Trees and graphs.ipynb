{
 "cells": [
  {
   "cell_type": "markdown",
   "metadata": {},
   "source": [
    "# Cracking the code interview"
   ]
  },
  {
   "cell_type": "markdown",
   "metadata": {},
   "source": [
    "## Trees"
   ]
  },
  {
   "cell_type": "markdown",
   "metadata": {},
   "source": [
    "### 4.1 Check if the tree is balanced"
   ]
  },
  {
   "cell_type": "code",
   "execution_count": 18,
   "metadata": {
    "collapsed": true
   },
   "outputs": [],
   "source": [
    "import sys"
   ]
  },
  {
   "cell_type": "code",
   "execution_count": 43,
   "metadata": {
    "collapsed": false
   },
   "outputs": [
    {
     "name": "stdout",
     "output_type": "stream",
     "text": [
      "[[[[16] <- 20 -> [[10] <- 16]] <- 17 -> [17]] <- 15 -> [[19] <- 19 -> [19]]]\n"
     ]
    }
   ],
   "source": [
    "# 4.1 is_balanced\n",
    "\n",
    "class Node:\n",
    "    def __init__(self, value):\n",
    "        self.left = None\n",
    "        self.right = None\n",
    "        self.value = value\n",
    "        \n",
    "    def __is_leaf(self):\n",
    "        return self.left is None and self.right is None\n",
    "        \n",
    "    def __height(self, node, path_length=1):   \n",
    "        if node is None:\n",
    "            path_length -= 1\n",
    "        elif not node.__is_leaf():\n",
    "            path_length += 1\n",
    "            path_length = max(self.__height(node.left, path_length),\n",
    "                              self.__height(node.right, path_length))\n",
    "        return path_length\n",
    " \n",
    "    def height(self):\n",
    "        return self.__height(self, 1)\n",
    "    \n",
    "    def is_balanced_N2(self):\n",
    "        return self.__is_balanced(self.left) \n",
    "    \n",
    "    def __is_balanced(self, node):\n",
    "        if node is None:\n",
    "            return True\n",
    "        is_self_balanced = abs(self.__height(node.left) - self.__height(node.right)) <= 1\n",
    "        is_left_subtree_balanced = self.__is_balanced(node.left)\n",
    "        is_right_subtree_balanced = self.__is_balanced(node.right)\n",
    "        return is_self_balanced and is_left_subtree_balanced and is_right_subtree_balanced\n",
    "    \n",
    "    @staticmethod\n",
    "    def check_height(root):\n",
    "        if root is None:\n",
    "            return 0\n",
    "        \n",
    "        left_height = Node.check_height(root.left)\n",
    "        if left_height == -1:\n",
    "            return -1\n",
    "        \n",
    "        right_height = Node.check_height(root.right)\n",
    "        if right_height == -1:\n",
    "            return -1\n",
    "        \n",
    "        diff = abs(right_height - left_height) \n",
    "        if diff > 1:\n",
    "            return -1\n",
    "        else:\n",
    "            return max(left_height, right_height) + 1\n",
    "        \n",
    "    def is_balanced_N(self):\n",
    "        return Node.check_height(self) != -1   \n",
    "         \n",
    "    # 4.5 \n",
    "    def checkBST(self):\n",
    "        return Node.__checkBST(self, -sys.maxsize, sys.maxsize)\n",
    "    \n",
    "    @staticmethod\n",
    "    def __checkBST(node, minimum, maximum):\n",
    "        if node is None:\n",
    "            return True\n",
    "        \n",
    "        if node.value < minimum or node.value > maximum:\n",
    "            return False\n",
    "        \n",
    "        left_subtree_is_not_BST = not Node.__checkBST(node.left, minimum, node.value)\n",
    "        right_subtree_is_not_BST = not Node.__checkBST(node.right, node.value, maximum)\n",
    "        if left_subtree_is_not_BST or right_subtree_is_not_BST:\n",
    "            return False\n",
    "        \n",
    "        return True  \n",
    "    \n",
    "    def __contains__(self, x):\n",
    "        if self.value == x:\n",
    "            return True\n",
    "        elif self.left and x in self.left:\n",
    "            return True\n",
    "        elif self.right and x in self.right:\n",
    "            return True\n",
    "        else:\n",
    "            return False\n",
    "    \n",
    "    # 4.4 task\n",
    "    def lists_from_tree(self):\n",
    "        h = self.height()\n",
    "        levels = [list() for i in range(h)]\n",
    "        Node.add_to_level(self, levels, 0)\n",
    "        return levels\n",
    "    \n",
    "    @staticmethod\n",
    "    def add_to_level(node, levels, height):\n",
    "        if node is None:\n",
    "            return\n",
    "        \n",
    "        # In sorted order\n",
    "        Node.add_to_level(node.left, levels, height + 1)\n",
    "        levels[height].append(node.value) \n",
    "        Node.add_to_level(node.right, levels, height + 1)\n",
    "    \n",
    "    def __repr__(self):\n",
    "        str_repr = str(self.value)\n",
    "        if self.left is not None:\n",
    "            str_repr = \"{} <- {}\".format(self.left, str_repr)\n",
    "        if self.right is not None:\n",
    "            str_repr = \"{} -> {}\".format(str_repr, self.right)\n",
    "        return \"[{}]\".format(str_repr)\n",
    "\n",
    "tree = Node(15)\n",
    "tree.left = Node(17)\n",
    "tree.left.right = Node(17)\n",
    "tree.right = Node(19)\n",
    "tree.right.left = Node(19)\n",
    "tree.right.right = Node(19)\n",
    "tree.left.left = Node(20)\n",
    "tree.left.left.left = Node(16)\n",
    "tree.left.left.right = Node(16)\n",
    "tree.left.left.right.left = Node(10) # ruin balance of a tree\n",
    "print(tree)"
   ]
  },
  {
   "cell_type": "code",
   "execution_count": 7,
   "metadata": {
    "collapsed": false
   },
   "outputs": [
    {
     "data": {
      "text/plain": [
       "False"
      ]
     },
     "execution_count": 7,
     "metadata": {},
     "output_type": "execute_result"
    }
   ],
   "source": [
    "33 in tree"
   ]
  },
  {
   "cell_type": "code",
   "execution_count": 28,
   "metadata": {
    "collapsed": false
   },
   "outputs": [
    {
     "data": {
      "text/plain": [
       "[[15], [17, 19], [20, 17, 19, 19], [16, 16], [10]]"
      ]
     },
     "execution_count": 28,
     "metadata": {},
     "output_type": "execute_result"
    }
   ],
   "source": [
    "tree.lists_from_tree()"
   ]
  },
  {
   "cell_type": "code",
   "execution_count": null,
   "metadata": {
    "collapsed": true
   },
   "outputs": [],
   "source": [
    "a = 6\n",
    "if a == 4:\n",
    "    print(a)\n",
    "if a == 5:\n",
    "    print(a)\n",
    "else:\n",
    "    print(114)"
   ]
  },
  {
   "cell_type": "code",
   "execution_count": 154,
   "metadata": {
    "collapsed": false
   },
   "outputs": [
    {
     "data": {
      "text/plain": [
       "False"
      ]
     },
     "execution_count": 154,
     "metadata": {},
     "output_type": "execute_result"
    }
   ],
   "source": [
    "tree.is_balanced_N2()"
   ]
  },
  {
   "cell_type": "code",
   "execution_count": 155,
   "metadata": {
    "collapsed": false
   },
   "outputs": [
    {
     "data": {
      "text/plain": [
       "False"
      ]
     },
     "execution_count": 155,
     "metadata": {},
     "output_type": "execute_result"
    }
   ],
   "source": [
    "tree.is_balanced_N()"
   ]
  },
  {
   "cell_type": "code",
   "execution_count": 65,
   "metadata": {
    "collapsed": false
   },
   "outputs": [
    {
     "data": {
      "text/plain": [
       "1"
      ]
     },
     "execution_count": 65,
     "metadata": {},
     "output_type": "execute_result"
    }
   ],
   "source": [
    "tree.left.left.left.height()"
   ]
  },
  {
   "cell_type": "code",
   "execution_count": 30,
   "metadata": {
    "collapsed": false
   },
   "outputs": [
    {
     "data": {
      "text/plain": [
       "False"
      ]
     },
     "execution_count": 30,
     "metadata": {},
     "output_type": "execute_result"
    }
   ],
   "source": [
    "tree.checkBST()"
   ]
  },
  {
   "cell_type": "markdown",
   "metadata": {},
   "source": [
    "#### Playing with static methods\n",
    "Check more information [here](https://stackoverflow.com/questions/136097/what-is-the-difference-between-staticmethod-and-classmethod-in-python) "
   ]
  },
  {
   "cell_type": "code",
   "execution_count": 45,
   "metadata": {
    "collapsed": true
   },
   "outputs": [],
   "source": [
    "class B:\n",
    "    def __init__(self):\n",
    "        B.mooo(15)\n",
    "    \n",
    "    @staticmethod\n",
    "    def mooo(x):\n",
    "        print(x)"
   ]
  },
  {
   "cell_type": "code",
   "execution_count": 46,
   "metadata": {
    "collapsed": false
   },
   "outputs": [
    {
     "name": "stdout",
     "output_type": "stream",
     "text": [
      "15\n"
     ]
    }
   ],
   "source": [
    "b = B()"
   ]
  },
  {
   "cell_type": "markdown",
   "metadata": {},
   "source": [
    "### 4.2. Path finding between two vertices in oriented graph"
   ]
  },
  {
   "cell_type": "markdown",
   "metadata": {},
   "source": [
    "#### Ordered graph without weights"
   ]
  },
  {
   "cell_type": "code",
   "execution_count": 66,
   "metadata": {
    "collapsed": true
   },
   "outputs": [],
   "source": [
    "import random"
   ]
  },
  {
   "cell_type": "code",
   "execution_count": 76,
   "metadata": {
    "collapsed": false
   },
   "outputs": [
    {
     "name": "stdout",
     "output_type": "stream",
     "text": [
      "[[1], [3, 2], [2, 2], [5, 7], [7, 4, 6], [], [], [5, 8, 3, 7], [7], []]\n"
     ]
    }
   ],
   "source": [
    "# Generate graph\n",
    "def get_rand(b):\n",
    "    return random.randint(0, b-1)\n",
    "\n",
    "n = 10\n",
    "m = 15\n",
    "graph = [list() for i in range(n)]\n",
    "for i in range(m):\n",
    "    a, b = get_rand(n-1), get_rand(n-1)\n",
    "    graph[a].append(b)\n",
    "    \n",
    "print(graph)"
   ]
  },
  {
   "cell_type": "code",
   "execution_count": 73,
   "metadata": {
    "collapsed": true
   },
   "outputs": [],
   "source": [
    "from collections import deque"
   ]
  },
  {
   "cell_type": "code",
   "execution_count": 97,
   "metadata": {
    "collapsed": false
   },
   "outputs": [],
   "source": [
    "def restore_path(parents, a, b):\n",
    "        current = b\n",
    "        path = []\n",
    "        \n",
    "        while current is not None:\n",
    "            path.append(current)\n",
    "            current = parents[current]\n",
    "        \n",
    "        path.reverse()\n",
    "        return path\n",
    "\n",
    "def bfs(graph, n, a, b):\n",
    "    parents = [None for i in range(n)]\n",
    "    used = [False for i in range(n)]\n",
    "    used[a] = True\n",
    "    active_vertices = deque([a])\n",
    "    \n",
    "    while active_vertices:\n",
    "        where = active_vertices.popleft()\n",
    "        \n",
    "        for to in graph[where]:\n",
    "            if not used[to]:\n",
    "                parents[to] = where\n",
    "                used[to] = True\n",
    "                active_vertices.append(to)\n",
    "                if to == b:\n",
    "                    break\n",
    "    \n",
    "    return restore_path(parents, a, b)    "
   ]
  },
  {
   "cell_type": "code",
   "execution_count": 95,
   "metadata": {
    "collapsed": false
   },
   "outputs": [
    {
     "data": {
      "text/plain": [
       "[0, 1, 3, 5]"
      ]
     },
     "execution_count": 95,
     "metadata": {},
     "output_type": "execute_result"
    }
   ],
   "source": [
    "bfs(graph, n, 0, 5)"
   ]
  },
  {
   "cell_type": "code",
   "execution_count": 98,
   "metadata": {
    "collapsed": true
   },
   "outputs": [],
   "source": [
    "# But dfs is a little bit better in path finding\n",
    "def dfs(graph, n, a, b):\n",
    "    used = [False for i in range(n)] \n",
    "    parents = [None for i in range(n)]\n",
    "    active_vertices = [a]\n",
    "    \n",
    "    while active_vertices:\n",
    "        where = active_vertices.pop()\n",
    "        used[where] = True\n",
    "        \n",
    "        for to in graph[where]:\n",
    "            if not used[to]:\n",
    "                parents[to] = where\n",
    "                active_vertices.append(to)\n",
    "                \n",
    "                if to == b:\n",
    "                    break\n",
    "    return restore_path(parents, a, b)"
   ]
  },
  {
   "cell_type": "code",
   "execution_count": 99,
   "metadata": {
    "collapsed": false
   },
   "outputs": [
    {
     "data": {
      "text/plain": [
       "[0, 1, 3, 5]"
      ]
     },
     "execution_count": 99,
     "metadata": {},
     "output_type": "execute_result"
    }
   ],
   "source": [
    "dfs(graph, n, 0, 5)"
   ]
  },
  {
   "cell_type": "markdown",
   "metadata": {},
   "source": [
    "For unordered graph Dijkstra just a waste of time I guess  \n",
    "BFS is a (n + m)  \n",
    "Dijkstra is a (nlog(n) + m)  "
   ]
  },
  {
   "cell_type": "markdown",
   "metadata": {},
   "source": [
    "But for ordered graph BFS doens't works  \n",
    "As DFS  \n",
    "Maybe if we will use BFS and DFS from all vertices. But it's hillarious  "
   ]
  },
  {
   "cell_type": "markdown",
   "metadata": {},
   "source": [
    "#### Ordered graph with weights"
   ]
  },
  {
   "cell_type": "code",
   "execution_count": 36,
   "metadata": {
    "collapsed": true
   },
   "outputs": [],
   "source": [
    "import random"
   ]
  },
  {
   "cell_type": "code",
   "execution_count": 37,
   "metadata": {
    "collapsed": true
   },
   "outputs": [],
   "source": [
    "def rand(n):\n",
    "    return random.randint(0, n-1)"
   ]
  },
  {
   "cell_type": "code",
   "execution_count": 121,
   "metadata": {
    "collapsed": false
   },
   "outputs": [
    {
     "name": "stdout",
     "output_type": "stream",
     "text": [
      "[[(3,73)], [(2,71), (1,60)], [], [], [(0,79), (2,0), (1,56), (1,77), (4,73)]]\n"
     ]
    }
   ],
   "source": [
    "n = 5\n",
    "m = 8\n",
    "\n",
    "class Edge:\n",
    "    def __init__(self, to, dist):\n",
    "        self.to = to\n",
    "        self.dist = dist\n",
    "    def __repr__(self):\n",
    "        return \"({},{})\".format(self.to, self.dist)\n",
    "    \n",
    "graph = [list() for i in range(n)]\n",
    "for i in range(m):\n",
    "    a, b, dist = rand(n), rand(n), rand(101)\n",
    "    graph[a].append(Edge(b, dist))\n",
    "print(graph)"
   ]
  },
  {
   "cell_type": "code",
   "execution_count": 132,
   "metadata": {
    "collapsed": true
   },
   "outputs": [],
   "source": [
    "import heapq\n",
    "# But Dijkstra is much better\n",
    "def dijkstra(graph, n, a, b):\n",
    "    distances = [10**9 for i in range(n)]\n",
    "    distances[a] = 0\n",
    "    active_vertices = []\n",
    "    heapq.heappush(active_vertices, (0, a))\n",
    "    parents = [None for i in range(n)]\n",
    "    \n",
    "    while active_vertices:\n",
    "        dist, where = heapq.heappop(active_vertices)\n",
    "        if distances[where] < dist:\n",
    "            continue\n",
    "            \n",
    "        for edge in graph[where]:\n",
    "            dist_through_where = distances[where] + edge.dist\n",
    "            if dist_through_where < distances[edge.to]:\n",
    "                distances[edge.to] = dist_through_where\n",
    "                heapq.heappush(active_vertices, (dist_through_where, edge.to))\n",
    "                parents[edge.to] = where\n",
    "    return parents, distances         "
   ]
  },
  {
   "cell_type": "code",
   "execution_count": 133,
   "metadata": {
    "collapsed": false
   },
   "outputs": [
    {
     "data": {
      "text/plain": [
       "([4, 4, 4, 0, None], [79, 56, 0, 152, 0])"
      ]
     },
     "execution_count": 133,
     "metadata": {},
     "output_type": "execute_result"
    }
   ],
   "source": [
    "dijkstra(graph, n, 4, 10)"
   ]
  },
  {
   "cell_type": "markdown",
   "metadata": {},
   "source": [
    "### 4.3 Binary Tree from sorted array"
   ]
  },
  {
   "cell_type": "markdown",
   "metadata": {},
   "source": [
    "> I think I shoud write more unique code.  \n",
    "Unity and some other books will can help me in that  \n",
    "Also good idea will be to remember some old languages  "
   ]
  },
  {
   "cell_type": "code",
   "execution_count": 16,
   "metadata": {
    "collapsed": true
   },
   "outputs": [],
   "source": [
    "def unique_from_sorted(array):\n",
    "    uniques = []\n",
    "    prev = None\n",
    "    for curr in array:\n",
    "        if curr != prev:\n",
    "            uniques.append(curr)\n",
    "        prev = curr\n",
    "    return uniques"
   ]
  },
  {
   "cell_type": "code",
   "execution_count": 17,
   "metadata": {
    "collapsed": false
   },
   "outputs": [
    {
     "data": {
      "text/plain": [
       "[0, 3, 1, 2]"
      ]
     },
     "execution_count": 17,
     "metadata": {},
     "output_type": "execute_result"
    }
   ],
   "source": [
    "unique_from_sorted([0,0,0,0, 3,1,2])"
   ]
  },
  {
   "cell_type": "code",
   "execution_count": 18,
   "metadata": {
    "collapsed": false
   },
   "outputs": [],
   "source": [
    "# For this code we will need Tree from begin of this chapter\n",
    "# Tree has minimal depth when it is balanced\n",
    "# It can be more elegant if we will use start, mid, end instead of slicing: Done! and more efficent by memory\n",
    "def tree_from_sorted_array(array):\n",
    "    # Make array unique to simplify building\n",
    "    uniques = unique_from_sorted(array)\n",
    "    \n",
    "    def build_subtree(array, start, end):\n",
    "        if end < start:\n",
    "            return None\n",
    "        \n",
    "        middle = (start + end) // 2\n",
    "        root = Node(array[middle])\n",
    "        root.left = build_subtree(array, start, middle-1)\n",
    "        root.right = build_subtree(array, middle+1, end)\n",
    "            \n",
    "        return root\n",
    "    \n",
    "    tree = build_subtree(uniques, 0, len(uniques) - 1)\n",
    "    return tree"
   ]
  },
  {
   "cell_type": "code",
   "execution_count": 61,
   "metadata": {
    "collapsed": false
   },
   "outputs": [],
   "source": [
    "import random\n",
    "sorted_array = sorted(random.randint(0, 16) for i in range(6))\n",
    "tree = tree_from_sorted_array(sorted_array)"
   ]
  },
  {
   "cell_type": "code",
   "execution_count": 62,
   "metadata": {
    "collapsed": false
   },
   "outputs": [
    {
     "data": {
      "text/plain": [
       "[5, 7, 8, 8, 16, 16]"
      ]
     },
     "execution_count": 62,
     "metadata": {},
     "output_type": "execute_result"
    }
   ],
   "source": [
    "sorted_array"
   ]
  },
  {
   "cell_type": "code",
   "execution_count": 63,
   "metadata": {
    "collapsed": false
   },
   "outputs": [
    {
     "data": {
      "text/plain": [
       "[5, 7, 8, 16]"
      ]
     },
     "execution_count": 63,
     "metadata": {},
     "output_type": "execute_result"
    }
   ],
   "source": [
    "unique_from_sorted(sorted_array)"
   ]
  },
  {
   "cell_type": "code",
   "execution_count": 23,
   "metadata": {
    "collapsed": false
   },
   "outputs": [
    {
     "data": {
      "text/plain": [
       "True"
      ]
     },
     "execution_count": 23,
     "metadata": {},
     "output_type": "execute_result"
    }
   ],
   "source": [
    "tree.is_balanced_N2()"
   ]
  },
  {
   "cell_type": "code",
   "execution_count": 24,
   "metadata": {
    "collapsed": false
   },
   "outputs": [
    {
     "data": {
      "text/plain": [
       "[[0] <- 12 -> [13 -> [14]]]"
      ]
     },
     "execution_count": 24,
     "metadata": {},
     "output_type": "execute_result"
    }
   ],
   "source": [
    "tree"
   ]
  },
  {
   "cell_type": "code",
   "execution_count": 26,
   "metadata": {
    "collapsed": true
   },
   "outputs": [],
   "source": [
    "import sys"
   ]
  },
  {
   "cell_type": "code",
   "execution_count": 27,
   "metadata": {
    "collapsed": false
   },
   "outputs": [
    {
     "data": {
      "text/plain": [
       "True"
      ]
     },
     "execution_count": 27,
     "metadata": {},
     "output_type": "execute_result"
    }
   ],
   "source": [
    "tree.checkBST()"
   ]
  },
  {
   "cell_type": "code",
   "execution_count": 28,
   "metadata": {
    "collapsed": false
   },
   "outputs": [
    {
     "data": {
      "text/plain": [
       "[13 -> [14]]"
      ]
     },
     "execution_count": 28,
     "metadata": {},
     "output_type": "execute_result"
    }
   ],
   "source": [
    "tree.right"
   ]
  },
  {
   "cell_type": "markdown",
   "metadata": {},
   "source": [
    "### 4.3 linked list from all nodes of equal depth D\n",
    "Also make it for each D in tree"
   ]
  },
  {
   "cell_type": "markdown",
   "metadata": {},
   "source": [
    "### 4.5 Is tree a balanced\n",
    "Check is tree a balanced is not so easy as I expected"
   ]
  },
  {
   "cell_type": "markdown",
   "metadata": {},
   "source": [
    "I choosed recursive variant by using property of BST.  \n",
    "But here also variant of using inorder traversal and checking are vertices goes in order"
   ]
  },
  {
   "cell_type": "code",
   "execution_count": 43,
   "metadata": {
    "collapsed": false
   },
   "outputs": [
    {
     "name": "stdout",
     "output_type": "stream",
     "text": [
      "[[10 -> [25]] <- 20 -> [30]]\n"
     ]
    },
    {
     "data": {
      "text/plain": [
       "False"
      ]
     },
     "execution_count": 43,
     "metadata": {},
     "output_type": "execute_result"
    }
   ],
   "source": [
    "tree = Node(20)\n",
    "tree.left = Node(10)\n",
    "tree.right = Node(30)\n",
    "tree.left.right = Node(25)\n",
    "print(tree)\n",
    "# tree.is_a_search_tree() # Wrong answer, because 25 should be less than 20\n",
    "tree.checkBST()"
   ]
  },
  {
   "cell_type": "markdown",
   "metadata": {},
   "source": [
    "### 4.6 Next()"
   ]
  },
  {
   "cell_type": "markdown",
   "metadata": {},
   "source": [
    "### 4.7 Least Common Ancestor"
   ]
  },
  {
   "cell_type": "code",
   "execution_count": 8,
   "metadata": {
    "collapsed": true
   },
   "outputs": [],
   "source": [
    "def covers(root, v):\n",
    "    if root is None:\n",
    "        return False\n",
    "    else:\n",
    "        return v in root"
   ]
  },
  {
   "cell_type": "code",
   "execution_count": 86,
   "metadata": {
    "collapsed": true
   },
   "outputs": [],
   "source": [
    "# Воспользуемся свойством уникальности вершин бинарного дерева\n",
    "# Этот алгоритм изначальнр не работал если из 2 вершин предком являлась одна из них\n",
    "# Много повторных просмотров дерева. Это можно оптимизировать!\n",
    "def LCM_helper(root, p, q):\n",
    "    if root is None:\n",
    "        return None\n",
    "    \n",
    "    p_in_left = covers(root.left, p)\n",
    "    q_in_left = covers(root.left, q)\n",
    "    \n",
    "    if q_in_left != p_in_left:\n",
    "        return root\n",
    "    \n",
    "    # Parent is one of 2 vertices (wow!)\n",
    "    if root.value in (p, q):\n",
    "        return root\n",
    "    \n",
    "    tree_side = root.left if p_in_left else root.right\n",
    "    return LCM_helper(tree_side, p, q)\n",
    "\n",
    "def LCM(root, p, q):\n",
    "    if not covers(root, p) or not covers(root, q):\n",
    "        return None\n",
    "    else:\n",
    "        return LCM_helper(root, p, q)"
   ]
  },
  {
   "cell_type": "code",
   "execution_count": 78,
   "metadata": {
    "collapsed": false
   },
   "outputs": [
    {
     "data": {
      "text/plain": [
       "[[5] <- 7 -> [[15] <- 8 -> [16]]]"
      ]
     },
     "execution_count": 78,
     "metadata": {},
     "output_type": "execute_result"
    }
   ],
   "source": [
    "tree"
   ]
  },
  {
   "cell_type": "code",
   "execution_count": 85,
   "metadata": {
    "collapsed": false
   },
   "outputs": [
    {
     "data": {
      "text/plain": [
       "[[15] <- 8 -> [16]]"
      ]
     },
     "execution_count": 85,
     "metadata": {},
     "output_type": "execute_result"
    }
   ],
   "source": [
    "LCM(tree, 8, 16)"
   ]
  },
  {
   "cell_type": "markdown",
   "metadata": {},
   "source": [
    "### 4.8 Check is a tree contains other tree as subtree"
   ]
  },
  {
   "cell_type": "markdown",
   "metadata": {},
   "source": [
    "### Simple check"
   ]
  },
  {
   "cell_type": "code",
   "execution_count": 31,
   "metadata": {
    "collapsed": false
   },
   "outputs": [],
   "source": [
    "class TreeNode:\n",
    "    def __init__(self, value):\n",
    "        self.left = None\n",
    "        self.right = None\n",
    "        self.value = value\n",
    "        \n",
    "    def contains(self, other):\n",
    "        if other is None:\n",
    "            return False\n",
    "        \n",
    "        if self == other:\n",
    "            return True\n",
    "        if self.left:\n",
    "            return self.left.contains(other)\n",
    "        if self.right:\n",
    "            return self.right.contains(other)\n",
    "        return False\n",
    "    \n",
    "    def insert(self, value):\n",
    "        current = self\n",
    "        \n",
    "        while current:\n",
    "            parent = current\n",
    "            if value < current.value:\n",
    "                current = current.left\n",
    "            elif value > current.value:\n",
    "                current = current.right\n",
    "        \n",
    "        if value < parent.value:\n",
    "            parent.left = TreeNode(value)\n",
    "        elif value > parent.value:\n",
    "            parent.right = TreeNode(value)\n",
    "\n",
    "    def __eq__(self, other):\n",
    "        if self.value == other.value:\n",
    "            return self.left == other.left and self.right == other.right\n",
    "        return False\n",
    "    \n",
    "    def __repr__(self):\n",
    "        str_repr = str(self.value)\n",
    "        if self.left is not None:\n",
    "            str_repr = \"{} <- {}\".format(self.left, str_repr)\n",
    "        if self.right is not None:\n",
    "            str_repr = \"{} -> {}\".format(str_repr, self.right)\n",
    "        return \"[{}]\".format(str_repr)"
   ]
  },
  {
   "cell_type": "code",
   "execution_count": 79,
   "metadata": {
    "collapsed": true
   },
   "outputs": [],
   "source": [
    "import random \n",
    "\n",
    "def build_random_tree(n):\n",
    "    values = range(n)\n",
    "    del values[n//2]\n",
    "    tree = TreeNode(n//2)\n",
    "    random.shuffle(values)\n",
    "    \n",
    "    for val in values:\n",
    "        tree.insert(val)\n",
    "    return tree"
   ]
  },
  {
   "cell_type": "code",
   "execution_count": 11,
   "metadata": {
    "collapsed": false
   },
   "outputs": [
    {
     "name": "stdout",
     "output_type": "stream",
     "text": [
      "[[0 -> [[1 -> [2]] <- 3 -> [4]]] <- 5 -> [[6 -> [7 -> [8]]] <- 9]]\n"
     ]
    }
   ],
   "source": [
    "tree = build_random_tree(10)\n",
    "print(tree)"
   ]
  },
  {
   "cell_type": "code",
   "execution_count": 15,
   "metadata": {
    "collapsed": false
   },
   "outputs": [
    {
     "data": {
      "text/plain": [
       "[[[1 -> [2]] <- 3 -> [4]],\n",
       " [[0 -> [[1 -> [2]] <- 3 -> [4]]] <- 5 -> [[6 -> [7 -> [8]]] <- 9]]]"
      ]
     },
     "execution_count": 15,
     "metadata": {},
     "output_type": "execute_result"
    }
   ],
   "source": [
    "tree.left.neighbors()"
   ]
  },
  {
   "cell_type": "code",
   "execution_count": 115,
   "metadata": {
    "collapsed": false
   },
   "outputs": [
    {
     "name": "stdout",
     "output_type": "stream",
     "text": [
      "('Contains?', True)\n",
      "('Equals?', False)\n",
      "('Contains unexisting Node?', False)\n"
     ]
    }
   ],
   "source": [
    "print(\"Contains?\", tree.contains(tree.left))\n",
    "print(\"Equals?\", tree == tree.left)\n",
    "print(\"Contains unexisting Node?\", tree.contains(TreeNode(10)))"
   ]
  },
  {
   "cell_type": "markdown",
   "metadata": {},
   "source": [
    "**Complexity**  \n",
    "Let size of bigger tree be 'n'  \n",
    "Let size of smaller tree be 'm'  \n",
    "\n",
    "For each of n vertices we check m vertices\n",
    "$ O(nm) $\n",
    "\n",
    "But books says that it's not that true"
   ]
  },
  {
   "cell_type": "markdown",
   "metadata": {},
   "source": [
    "### 4.9 All paths with predetermined lengthes"
   ]
  },
  {
   "cell_type": "code",
   "execution_count": 78,
   "metadata": {
    "collapsed": false
   },
   "outputs": [],
   "source": [
    "class ExtendedTreeNode(TreeNode):\n",
    "    def __hash__(self):\n",
    "        return id(self)\n",
    "    \n",
    "    def __init__(self, value):\n",
    "        TreeNode.__init__(self, value)\n",
    "        \n",
    "    def assign_parents(self, parent=None):\n",
    "        self.parent = parent\n",
    "        for child in [self.left, self.right]:\n",
    "            if child is not None:\n",
    "                child.assign_parents(parent=self)\n",
    "    \n",
    "    # В дереве мы не можем сказать: начинаем с 9-ой вершины внизу дерева и идем в верх. \n",
    "    # Нам надо будет сначала найти ее за O(n) в обычном бинарном дереве\n",
    "    # Ну и как потом хранить массив путей, родителей и посещенных вершин? (сеты, словари словарей и прочая гадость)\n",
    "    def nodes_dict(self):\n",
    "        nodes_dict = {}\n",
    "        \n",
    "        node_id = 0\n",
    "        active_vertices = [self]\n",
    "        \n",
    "        # Will be better to use BFS here\n",
    "        while active_vertices:\n",
    "            where = active_vertices.pop()\n",
    "            if where not in nodes_dict:\n",
    "                nodes_dict[where] = node_id\n",
    "                node_id += 1\n",
    "                \n",
    "                for children in [where.left, where.right]:\n",
    "                    if children:\n",
    "                        active_vertices.append(children)\n",
    "        \n",
    "        return nodes_dict\n",
    "    \n",
    "    def to_graph(self):\n",
    "        nodes_to_id = self.nodes_dict()\n",
    "        graph = [None for i in range(len(nodes_to_id))]  \n",
    "        self.add_to_graph(self, graph, None, \n",
    "                          lambda node: nodes_to_ids[node])\n",
    "          \n",
    "    def add_to_graph(self, graph, parent, node_id):\n",
    "        self_id = node_id(self)\n",
    "        if graph[self_id] is not None:\n",
    "            return\n",
    "\n",
    "        possible_neighbors = [self.left, self.right, parent]\n",
    "        neighbors = filter(None, possible_neighbors)\n",
    "        neighbors_ids = list(map(node_id, neighbors))\n",
    "        graph[self_id] = neighbors_ids\n",
    "        \n",
    "        for child in [self.left, self.right]:\n",
    "            if child is not None:\n",
    "                child.add_to_graph(graph, self, node_id)"
   ]
  },
  {
   "cell_type": "code",
   "execution_count": 37,
   "metadata": {
    "collapsed": false
   },
   "outputs": [],
   "source": [
    "def mee():\n",
    "    a = {a:b for a, b in zip(range(15), range(15))}\n",
    "    m = lambda x: a[x]\n",
    "    return m\n",
    "\n",
    "m = mee()\n",
    "def bee(m, x):\n",
    "    return m(x)"
   ]
  },
  {
   "cell_type": "code",
   "execution_count": 38,
   "metadata": {
    "collapsed": false
   },
   "outputs": [
    {
     "data": {
      "text/plain": [
       "13"
      ]
     },
     "execution_count": 38,
     "metadata": {},
     "output_type": "execute_result"
    }
   ],
   "source": [
    "bee(m, 13)"
   ]
  },
  {
   "cell_type": "code",
   "execution_count": 28,
   "metadata": {
    "collapsed": true
   },
   "outputs": [
    {
     "data": {
      "text/plain": [
       "{'In': ['',\n",
       "  u'a = {\"a\":1, \"b\":2, \"c\":3}',\n",
       "  u'b.items()',\n",
       "  u'a.items()',\n",
       "  u'dict(a.items())',\n",
       "  u'dict(reversed(a.items())',\n",
       "  u'dict(reversed(a.items()))',\n",
       "  u'dict(pair[1], pair[0] for pair in a.items())',\n",
       "  u'dict((pair[1], pair[0]) for pair in a.items())',\n",
       "  u'a = {\"a\":1, \"b\":2, \"c\":3}\\nmee = lambda x: a[x]\\n\\ndef b(x):\\n    return mee(x)',\n",
       "  u'b(1)',\n",
       "  u'b(\"a\")',\n",
       "  u'def mee(x):\\n    a = {a:b for a, b in zip(range(15), range(15))}\\n    m = lambda x: a[x]\\n    \\ndef bee(b, x):\\n    return b(x)',\n",
       "  u'bee(m, 1)',\n",
       "  u'def mee(x):\\n    a = {a:b for a, b in zip(range(15), range(15))}\\n    m = lambda x: a[x]\\n    return m\\n    \\ndef bee(b, x):\\n    return b(x)',\n",
       "  u'bee(m, 1)',\n",
       "  u'def mee(x):\\n    a = {a:b for a, b in zip(range(15), range(15))}\\n    m = lambda x: a[x]\\n    return m\\n\\ndef bee(mee(x), x):\\n    return b(x)',\n",
       "  u'def mee():\\n    a = {a:b for a, b in zip(range(15), range(15))}\\n    m = lambda x: a[x]\\n    return m\\n\\ndef bee(mee(), x):\\n    return b(x)',\n",
       "  u'def mee():\\n    a = {a:b for a, b in zip(range(15), range(15))}\\n    m = lambda x: a[x]\\n    return m\\n\\nm = mee()\\ndef bee(m, x):\\n    return b(x)',\n",
       "  u'bee(m, 1)',\n",
       "  u'bee(m, 1)',\n",
       "  u'def mee():\\n    a = {a:b for a, b in zip(range(15), range(15))}\\n    m = lambda x: a[x]\\n    return m\\n\\nm = mee()\\ndef bee(m, x):\\n    return m(x)',\n",
       "  u'bee(m, 1)',\n",
       "  u'bee(m, 13)',\n",
       "  u'm',\n",
       "  u'm.func_dict',\n",
       "  u'm.func_globals',\n",
       "  u'm.func_code',\n",
       "  u'm.func_globals'],\n",
       " 'Out': {3: [('a', 1), ('c', 3), ('b', 2)],\n",
       "  4: {'a': 1, 'b': 2, 'c': 3},\n",
       "  6: {'a': 1, 'b': 2, 'c': 3},\n",
       "  8: {1: 'a', 2: 'b', 3: 'c'},\n",
       "  11: 1,\n",
       "  22: 1,\n",
       "  23: 13,\n",
       "  24: <function __main__.<lambda>>,\n",
       "  25: {},\n",
       "  26: {...},\n",
       "  27: <code object <lambda> at 0x7fbed004be30, file \"<ipython-input-21-46988f57e972>\", line 3>},\n",
       " '_': <code object <lambda> at 0x7fbed004be30, file \"<ipython-input-21-46988f57e972>\", line 3>,\n",
       " '_11': 1,\n",
       " '_22': 1,\n",
       " '_23': 13,\n",
       " '_24': <function __main__.<lambda>>,\n",
       " '_25': {},\n",
       " '_26': {...},\n",
       " '_27': <code object <lambda> at 0x7fbed004be30, file \"<ipython-input-21-46988f57e972>\", line 3>,\n",
       " '_3': [('a', 1), ('c', 3), ('b', 2)],\n",
       " '_4': {'a': 1, 'b': 2, 'c': 3},\n",
       " '_6': {'a': 1, 'b': 2, 'c': 3},\n",
       " '_8': {1: 'a', 2: 'b', 3: 'c'},\n",
       " '__': {...},\n",
       " '___': {},\n",
       " '__builtin__': <module '__builtin__' (built-in)>,\n",
       " '__builtins__': <module '__builtin__' (built-in)>,\n",
       " '__doc__': 'Automatically created module for IPython interactive environment',\n",
       " '__name__': '__main__',\n",
       " '_dh': [u'/mnt/5A34EB2234EB003D/My/Workspace/Sandbox'],\n",
       " '_i': u'm.func_code',\n",
       " '_i1': u'a = {\"a\":1, \"b\":2, \"c\":3}',\n",
       " '_i10': u'b(1)',\n",
       " '_i11': u'b(\"a\")',\n",
       " '_i12': u'def mee(x):\\n    a = {a:b for a, b in zip(range(15), range(15))}\\n    m = lambda x: a[x]\\n    \\ndef bee(b, x):\\n    return b(x)',\n",
       " '_i13': u'bee(m, 1)',\n",
       " '_i14': u'def mee(x):\\n    a = {a:b for a, b in zip(range(15), range(15))}\\n    m = lambda x: a[x]\\n    return m\\n    \\ndef bee(b, x):\\n    return b(x)',\n",
       " '_i15': u'bee(m, 1)',\n",
       " '_i16': u'def mee(x):\\n    a = {a:b for a, b in zip(range(15), range(15))}\\n    m = lambda x: a[x]\\n    return m\\n\\ndef bee(mee(x), x):\\n    return b(x)',\n",
       " '_i17': u'def mee():\\n    a = {a:b for a, b in zip(range(15), range(15))}\\n    m = lambda x: a[x]\\n    return m\\n\\ndef bee(mee(), x):\\n    return b(x)',\n",
       " '_i18': u'def mee():\\n    a = {a:b for a, b in zip(range(15), range(15))}\\n    m = lambda x: a[x]\\n    return m\\n\\nm = mee()\\ndef bee(m, x):\\n    return b(x)',\n",
       " '_i19': u'bee(m, 1)',\n",
       " '_i2': u'b.items()',\n",
       " '_i20': u'bee(m, 1)',\n",
       " '_i21': u'def mee():\\n    a = {a:b for a, b in zip(range(15), range(15))}\\n    m = lambda x: a[x]\\n    return m\\n\\nm = mee()\\ndef bee(m, x):\\n    return m(x)',\n",
       " '_i22': u'bee(m, 1)',\n",
       " '_i23': u'bee(m, 13)',\n",
       " '_i24': u'm',\n",
       " '_i25': u'm.func_dict',\n",
       " '_i26': u'm.func_globals',\n",
       " '_i27': u'm.func_code',\n",
       " '_i28': u'm.func_globals',\n",
       " '_i3': u'a.items()',\n",
       " '_i4': u'dict(a.items())',\n",
       " '_i5': u'dict(reversed(a.items())',\n",
       " '_i6': u'dict(reversed(a.items()))',\n",
       " '_i7': u'dict(pair[1], pair[0] for pair in a.items())',\n",
       " '_i8': u'dict((pair[1], pair[0]) for pair in a.items())',\n",
       " '_i9': u'a = {\"a\":1, \"b\":2, \"c\":3}\\nmee = lambda x: a[x]\\n\\ndef b(x):\\n    return mee(x)',\n",
       " '_ih': ['',\n",
       "  u'a = {\"a\":1, \"b\":2, \"c\":3}',\n",
       "  u'b.items()',\n",
       "  u'a.items()',\n",
       "  u'dict(a.items())',\n",
       "  u'dict(reversed(a.items())',\n",
       "  u'dict(reversed(a.items()))',\n",
       "  u'dict(pair[1], pair[0] for pair in a.items())',\n",
       "  u'dict((pair[1], pair[0]) for pair in a.items())',\n",
       "  u'a = {\"a\":1, \"b\":2, \"c\":3}\\nmee = lambda x: a[x]\\n\\ndef b(x):\\n    return mee(x)',\n",
       "  u'b(1)',\n",
       "  u'b(\"a\")',\n",
       "  u'def mee(x):\\n    a = {a:b for a, b in zip(range(15), range(15))}\\n    m = lambda x: a[x]\\n    \\ndef bee(b, x):\\n    return b(x)',\n",
       "  u'bee(m, 1)',\n",
       "  u'def mee(x):\\n    a = {a:b for a, b in zip(range(15), range(15))}\\n    m = lambda x: a[x]\\n    return m\\n    \\ndef bee(b, x):\\n    return b(x)',\n",
       "  u'bee(m, 1)',\n",
       "  u'def mee(x):\\n    a = {a:b for a, b in zip(range(15), range(15))}\\n    m = lambda x: a[x]\\n    return m\\n\\ndef bee(mee(x), x):\\n    return b(x)',\n",
       "  u'def mee():\\n    a = {a:b for a, b in zip(range(15), range(15))}\\n    m = lambda x: a[x]\\n    return m\\n\\ndef bee(mee(), x):\\n    return b(x)',\n",
       "  u'def mee():\\n    a = {a:b for a, b in zip(range(15), range(15))}\\n    m = lambda x: a[x]\\n    return m\\n\\nm = mee()\\ndef bee(m, x):\\n    return b(x)',\n",
       "  u'bee(m, 1)',\n",
       "  u'bee(m, 1)',\n",
       "  u'def mee():\\n    a = {a:b for a, b in zip(range(15), range(15))}\\n    m = lambda x: a[x]\\n    return m\\n\\nm = mee()\\ndef bee(m, x):\\n    return m(x)',\n",
       "  u'bee(m, 1)',\n",
       "  u'bee(m, 13)',\n",
       "  u'm',\n",
       "  u'm.func_dict',\n",
       "  u'm.func_globals',\n",
       "  u'm.func_code',\n",
       "  u'm.func_globals'],\n",
       " '_ii': u'm.func_globals',\n",
       " '_iii': u'm.func_dict',\n",
       " '_oh': {3: [('a', 1), ('c', 3), ('b', 2)],\n",
       "  4: {'a': 1, 'b': 2, 'c': 3},\n",
       "  6: {'a': 1, 'b': 2, 'c': 3},\n",
       "  8: {1: 'a', 2: 'b', 3: 'c'},\n",
       "  11: 1,\n",
       "  22: 1,\n",
       "  23: 13,\n",
       "  24: <function __main__.<lambda>>,\n",
       "  25: {},\n",
       "  26: {...},\n",
       "  27: <code object <lambda> at 0x7fbed004be30, file \"<ipython-input-21-46988f57e972>\", line 3>},\n",
       " '_sh': <module 'IPython.core.shadowns' from '/home/aleksey/anaconda2/lib/python2.7/site-packages/IPython/core/shadowns.pyc'>,\n",
       " 'a': {'a': 1, 'b': 2, 'c': 3},\n",
       " 'b': <function __main__.b>,\n",
       " 'bee': <function __main__.bee>,\n",
       " 'exit': <IPython.core.autocall.ZMQExitAutocall at 0x7fbed4198950>,\n",
       " 'get_ipython': <bound method ZMQInteractiveShell.get_ipython of <ipykernel.zmqshell.ZMQInteractiveShell object at 0x7fbedad3df50>>,\n",
       " 'm': <function __main__.<lambda>>,\n",
       " 'mee': <function __main__.mee>,\n",
       " 'quit': <IPython.core.autocall.ZMQExitAutocall at 0x7fbed4198950>}"
      ]
     },
     "execution_count": 28,
     "metadata": {},
     "output_type": "execute_result"
    }
   ],
   "source": [
    "m.func_globals"
   ]
  },
  {
   "cell_type": "code",
   "execution_count": 8,
   "metadata": {
    "collapsed": false
   },
   "outputs": [
    {
     "data": {
      "text/plain": [
       "{1: 'a', 2: 'b', 3: 'c'}"
      ]
     },
     "execution_count": 8,
     "metadata": {},
     "output_type": "execute_result"
    }
   ],
   "source": [
    "dict((pair[1], pair[0]) for pair in a.items())"
   ]
  },
  {
   "cell_type": "code",
   "execution_count": 72,
   "metadata": {
    "collapsed": true
   },
   "outputs": [],
   "source": [
    "import random\n",
    "\n",
    "def build_random_extended_tree(n):\n",
    "    values = range(n)\n",
    "    del values[n//2]\n",
    "    tree = ExtendedTreeNode(n//2)\n",
    "    random.shuffle(values)\n",
    "    \n",
    "    for val in values:\n",
    "        tree.insert(val)\n",
    "    return tree"
   ]
  },
  {
   "cell_type": "code",
   "execution_count": 75,
   "metadata": {
    "collapsed": false
   },
   "outputs": [
    {
     "name": "stdout",
     "output_type": "stream",
     "text": [
      "[[[0 -> [[1] <- 2]] <- 3 -> [4]] <- 5 -> [[6] <- 7 -> [8 -> [9]]]]\n"
     ]
    }
   ],
   "source": [
    "tree = build_random_extended_tree(10)\n",
    "print(tree)"
   ]
  },
  {
   "cell_type": "code",
   "execution_count": 68,
   "metadata": {
    "collapsed": false
   },
   "outputs": [
    {
     "ename": "AttributeError",
     "evalue": "ExtendedTreeNode instance has no attribute 'neighbors'",
     "output_type": "error",
     "traceback": [
      "\u001b[0;31m---------------------------------------------------------------------------\u001b[0m",
      "\u001b[0;31mAttributeError\u001b[0m                            Traceback (most recent call last)",
      "\u001b[0;32m<ipython-input-68-4fe7bd574ed1>\u001b[0m in \u001b[0;36m<module>\u001b[0;34m()\u001b[0m\n\u001b[0;32m----> 1\u001b[0;31m \u001b[0mtree\u001b[0m\u001b[0;34m.\u001b[0m\u001b[0mneighbors\u001b[0m\u001b[0;34m(\u001b[0m\u001b[0;34m)\u001b[0m\u001b[0;34m\u001b[0m\u001b[0m\n\u001b[0m",
      "\u001b[0;31mAttributeError\u001b[0m: ExtendedTreeNode instance has no attribute 'neighbors'"
     ]
    }
   ],
   "source": [
    "tree.neighbors()"
   ]
  },
  {
   "cell_type": "code",
   "execution_count": 77,
   "metadata": {
    "collapsed": false
   },
   "outputs": [
    {
     "name": "stdout",
     "output_type": "stream",
     "text": [
      "36020624\n",
      "36020600\n"
     ]
    },
    {
     "ename": "TypeError",
     "evalue": "unhashable instance",
     "output_type": "error",
     "traceback": [
      "\u001b[0;31m---------------------------------------------------------------------------\u001b[0m",
      "\u001b[0;31mTypeError\u001b[0m                                 Traceback (most recent call last)",
      "\u001b[0;32m<ipython-input-77-17cf6c95d9d5>\u001b[0m in \u001b[0;36m<module>\u001b[0;34m()\u001b[0m\n\u001b[0;32m----> 1\u001b[0;31m \u001b[0mtree\u001b[0m\u001b[0;34m.\u001b[0m\u001b[0mnodes_dict\u001b[0m\u001b[0;34m(\u001b[0m\u001b[0;34m)\u001b[0m\u001b[0;34m\u001b[0m\u001b[0m\n\u001b[0m",
      "\u001b[0;32m<ipython-input-74-3ebe216f25fb>\u001b[0m in \u001b[0;36mnodes_dict\u001b[0;34m(self)\u001b[0m\n\u001b[1;32m     25\u001b[0m             \u001b[0mwhere\u001b[0m \u001b[0;34m=\u001b[0m \u001b[0mactive_vertices\u001b[0m\u001b[0;34m.\u001b[0m\u001b[0mpop\u001b[0m\u001b[0;34m(\u001b[0m\u001b[0;34m)\u001b[0m\u001b[0;34m\u001b[0m\u001b[0m\n\u001b[1;32m     26\u001b[0m             \u001b[0;32mprint\u001b[0m\u001b[0;34m(\u001b[0m\u001b[0mid\u001b[0m\u001b[0;34m(\u001b[0m\u001b[0mnode_id\u001b[0m\u001b[0;34m)\u001b[0m\u001b[0;34m)\u001b[0m\u001b[0;34m\u001b[0m\u001b[0m\n\u001b[0;32m---> 27\u001b[0;31m             \u001b[0;32mif\u001b[0m \u001b[0mwhere\u001b[0m \u001b[0;32mnot\u001b[0m \u001b[0;32min\u001b[0m \u001b[0mnodes_dict\u001b[0m\u001b[0;34m:\u001b[0m\u001b[0;34m\u001b[0m\u001b[0m\n\u001b[0m\u001b[1;32m     28\u001b[0m                 \u001b[0mnodes_dict\u001b[0m\u001b[0;34m[\u001b[0m\u001b[0mwhere\u001b[0m\u001b[0;34m]\u001b[0m \u001b[0;34m=\u001b[0m \u001b[0mnode_id\u001b[0m\u001b[0;34m\u001b[0m\u001b[0m\n\u001b[1;32m     29\u001b[0m                 \u001b[0mnode_id\u001b[0m \u001b[0;34m+=\u001b[0m \u001b[0;36m1\u001b[0m\u001b[0;34m\u001b[0m\u001b[0m\n",
      "\u001b[0;31mTypeError\u001b[0m: unhashable instance"
     ]
    }
   ],
   "source": [
    "tree.nodes_dict()"
   ]
  },
  {
   "cell_type": "markdown",
   "metadata": {},
   "source": [
    "#### 4.9 Normal"
   ]
  },
  {
   "cell_type": "code",
   "execution_count": 122,
   "metadata": {
    "collapsed": false
   },
   "outputs": [
    {
     "name": "stdout",
     "output_type": "stream",
     "text": [
      "[[[0] <- 1 -> [[2 -> [3]] <- 4]] <- 5 -> [6 -> [7 -> [8 -> [9]]]]]\n"
     ]
    }
   ],
   "source": [
    "tree = build_random_tree(10)\n",
    "print(tree)"
   ]
  },
  {
   "cell_type": "code",
   "execution_count": 125,
   "metadata": {
    "collapsed": false
   },
   "outputs": [],
   "source": [
    "# naive solution with sequencies from root only\n",
    "\n",
    "def nominal_paths_in(tree, nominal_length):\n",
    "    path = []\n",
    "    extend_path(tree, path, 0, nominal_length)\n",
    "\n",
    "\n",
    "def extend_path(current, path, length, nominal_length):\n",
    "    if current is None:\n",
    "        return\n",
    "    \n",
    "    new_length = length + current.value\n",
    "    new_path = path[:] # Not a good trick with memory\n",
    "    new_path.append(current.value)\n",
    "    if new_length == nominal_length:\n",
    "        print(new_path)\n",
    "    \n",
    "    extend_path(current.left, new_path, new_length, nominal_length)\n",
    "    extend_path(current.right, new_path, new_length, nominal_length)"
   ]
  },
  {
   "cell_type": "code",
   "execution_count": 120,
   "metadata": {
    "collapsed": false
   },
   "outputs": [],
   "source": [
    "a = []\n",
    "b = a[:]"
   ]
  },
  {
   "cell_type": "code",
   "execution_count": 126,
   "metadata": {
    "collapsed": false
   },
   "outputs": [],
   "source": [
    "tree = TreeNode(1)\n",
    "tree.left = TreeNode(-1)\n",
    "tree.left.left = TreeNode(1)\n",
    "tree.left.left.left = TreeNode(-1)\n",
    "\n",
    "tree.right = TreeNode(-1)\n",
    "tree.right.right = TreeNode(1)\n",
    "tree.right.right.right = TreeNode(-1)"
   ]
  },
  {
   "cell_type": "code",
   "execution_count": 127,
   "metadata": {
    "collapsed": false
   },
   "outputs": [
    {
     "name": "stdout",
     "output_type": "stream",
     "text": [
      "[1, -1]\n",
      "[1, -1, 1, -1]\n",
      "[1, -1]\n",
      "[1, -1, 1, -1]\n"
     ]
    }
   ],
   "source": [
    "nominal_paths_in(tree, 0)"
   ]
  }
 ],
 "metadata": {
  "anaconda-cloud": {},
  "kernelspec": {
   "display_name": "Python [conda env:py_36]",
   "language": "python",
   "name": "conda-env-py_36-py"
  },
  "language_info": {
   "codemirror_mode": {
    "name": "ipython",
    "version": 3
   },
   "file_extension": ".py",
   "mimetype": "text/x-python",
   "name": "python",
   "nbconvert_exporter": "python",
   "pygments_lexer": "ipython3",
   "version": "3.6.2"
  }
 },
 "nbformat": 4,
 "nbformat_minor": 1
}
