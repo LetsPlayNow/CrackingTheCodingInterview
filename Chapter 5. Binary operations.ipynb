{
 "cells": [
  {
   "cell_type": "markdown",
   "metadata": {},
   "source": [
    "# Cracking the code interview"
   ]
  },
  {
   "cell_type": "markdown",
   "metadata": {},
   "source": [
    "## 5. Binary Operations"
   ]
  },
  {
   "cell_type": "markdown",
   "metadata": {},
   "source": [
    "### 5.1. Insert M in N"
   ]
  },
  {
   "cell_type": "code",
   "execution_count": 1,
   "metadata": {
    "collapsed": true
   },
   "outputs": [],
   "source": [
    "import bitarray"
   ]
  },
  {
   "cell_type": "code",
   "execution_count": 48,
   "metadata": {
    "collapsed": true
   },
   "outputs": [],
   "source": [
    "def naive_insert(m, n, i, j):\n",
    "    if len(n) == j - i + 1:\n",
    "        max_idx = len(m)-1\n",
    "        m[max_idx-j:max_idx-i+1] = n\n",
    "    return m"
   ]
  },
  {
   "cell_type": "code",
   "execution_count": 50,
   "metadata": {
    "collapsed": false
   },
   "outputs": [
    {
     "data": {
      "text/plain": [
       "bitarray('100000001011101')"
      ]
     },
     "execution_count": 50,
     "metadata": {},
     "output_type": "execute_result"
    }
   ],
   "source": [
    "m = bitarray.bitarray('100000000000000')\n",
    "n = bitarray.bitarray('1011101')\n",
    "i = 0\n",
    "j = i + len(n) - 1\n",
    "\n",
    "naive_insert(m, n, i, j)"
   ]
  },
  {
   "cell_type": "markdown",
   "metadata": {},
   "source": [
    "With bitwise operations now"
   ]
  },
  {
   "cell_type": "code",
   "execution_count": 36,
   "metadata": {
    "collapsed": true
   },
   "outputs": [],
   "source": [
    "def get_bit(num, i):\n",
    "    return int(num & (1 << i) != 0)"
   ]
  },
  {
   "cell_type": "code",
   "execution_count": 34,
   "metadata": {
    "collapsed": false
   },
   "outputs": [
    {
     "name": "stdout",
     "output_type": "stream",
     "text": [
      "0b1101\n"
     ]
    }
   ],
   "source": [
    "num = 13\n",
    "print(bin(13))"
   ]
  },
  {
   "cell_type": "code",
   "execution_count": 38,
   "metadata": {
    "collapsed": false
   },
   "outputs": [
    {
     "data": {
      "text/plain": [
       "str"
      ]
     },
     "execution_count": 38,
     "metadata": {},
     "output_type": "execute_result"
    }
   ],
   "source": [
    "type(bin(13))"
   ]
  },
  {
   "cell_type": "code",
   "execution_count": 37,
   "metadata": {
    "collapsed": false
   },
   "outputs": [
    {
     "name": "stdout",
     "output_type": "stream",
     "text": [
      "1\n",
      "0\n"
     ]
    }
   ],
   "source": [
    "print(get_bit(num, 0))\n",
    "print(get_bit(num, 1))"
   ]
  },
  {
   "cell_type": "code",
   "execution_count": 39,
   "metadata": {
    "collapsed": true
   },
   "outputs": [],
   "source": [
    "def set_bit(num, i):\n",
    "    return num | (1 << i)"
   ]
  },
  {
   "cell_type": "code",
   "execution_count": 40,
   "metadata": {
    "collapsed": true
   },
   "outputs": [],
   "source": [
    "def reset_bit(num, i):\n",
    "    return num & (~(1 << i))"
   ]
  },
  {
   "cell_type": "code",
   "execution_count": 41,
   "metadata": {
    "collapsed": true
   },
   "outputs": [],
   "source": [
    "def update_bit(num, i, v):\n",
    "    mask = ~(1 << i)\n",
    "    return (num & mask) | (v << i)"
   ]
  },
  {
   "cell_type": "code",
   "execution_count": 102,
   "metadata": {
    "collapsed": true
   },
   "outputs": [],
   "source": [
    "def bits_count(n):\n",
    "    cnt = 0\n",
    "    while n != 0:\n",
    "        n /= 2\n",
    "        cnt += 1\n",
    "    return cnt"
   ]
  },
  {
   "cell_type": "code",
   "execution_count": 106,
   "metadata": {
    "collapsed": false
   },
   "outputs": [
    {
     "name": "stdout",
     "output_type": "stream",
     "text": [
      "0b1101\n",
      "(4, 'bits here')\n"
     ]
    }
   ],
   "source": [
    "print(bin(13))\n",
    "print(bits_count(13), \"bits here\")"
   ]
  },
  {
   "cell_type": "markdown",
   "metadata": {},
   "source": [
    "$ O(len(n)) $"
   ]
  },
  {
   "cell_type": "code",
   "execution_count": 108,
   "metadata": {
    "collapsed": false
   },
   "outputs": [],
   "source": [
    "def insert(m, n, i, j):\n",
    "    if bits_count(n) <= j-i+1:\n",
    "        n_idx = 0\n",
    "        for idx in range(i, j+1):\n",
    "            n_bit = get_bit(n, n_idx)\n",
    "            m = update_bit(m, idx, n_bit)\n",
    "            n_idx += 1\n",
    "    return m"
   ]
  },
  {
   "cell_type": "code",
   "execution_count": 131,
   "metadata": {
    "collapsed": false
   },
   "outputs": [
    {
     "name": "stdout",
     "output_type": "stream",
     "text": [
      "(512, '0b1000000000')\n",
      "(61, '0b111101')\n"
     ]
    }
   ],
   "source": [
    "m = 512\n",
    "n = 61\n",
    "\n",
    "print(m, bin(m))\n",
    "print(n, bin(n))"
   ]
  },
  {
   "cell_type": "code",
   "execution_count": 138,
   "metadata": {
    "collapsed": false
   },
   "outputs": [
    {
     "name": "stdout",
     "output_type": "stream",
     "text": [
      "0b1000000000\n"
     ]
    }
   ],
   "source": [
    "n_in_m = insert(m, n, 2, 6)\n",
    "print(bin(n_in_m))"
   ]
  },
  {
   "cell_type": "markdown",
   "metadata": {},
   "source": [
    "Better version"
   ]
  },
  {
   "cell_type": "markdown",
   "metadata": {},
   "source": [
    "$ O(1) $ if no check here or $O(log_2(n))$ is we check count of bytes in $n$"
   ]
  },
  {
   "cell_type": "code",
   "execution_count": 142,
   "metadata": {
    "collapsed": true
   },
   "outputs": [],
   "source": [
    "# It works! But I don't know how to O(1) check count of bits in n\n",
    "def insert_v2(m, n, i, j):\n",
    "    if bits_count(n) <= (j - i) + 1:\n",
    "        mask = ~((1<<(j-i)-1) << i)\n",
    "        m = (m & mask) | (n << i)\n",
    "    return m"
   ]
  },
  {
   "cell_type": "code",
   "execution_count": 146,
   "metadata": {
    "collapsed": false
   },
   "outputs": [
    {
     "name": "stdout",
     "output_type": "stream",
     "text": [
      "0b1001111010\n"
     ]
    }
   ],
   "source": [
    "n_in_m = insert_v2(m, n, 1, 6)\n",
    "print(bin(n_in_m))"
   ]
  },
  {
   "cell_type": "markdown",
   "metadata": {},
   "source": [
    "###  5.2 Bitwise representation of double n range [0, 1]"
   ]
  },
  {
   "cell_type": "code",
   "execution_count": 151,
   "metadata": {
    "collapsed": true
   },
   "outputs": [],
   "source": [
    "def double_to_bitwise(number):\n",
    "    bitwise_representation = \"\"\n",
    "    \n",
    "    while len(bitwise_representation) != 32 and number != 0:\n",
    "        number *= 2\n",
    "        if number >= 1:\n",
    "            bitwise_representation += '1'\n",
    "            number -= 1\n",
    "        else:\n",
    "            bitwise_representation += '0'\n",
    "    return bitwise_representation"
   ]
  },
  {
   "cell_type": "code",
   "execution_count": 153,
   "metadata": {
    "collapsed": true
   },
   "outputs": [],
   "source": [
    "import math"
   ]
  },
  {
   "cell_type": "code",
   "execution_count": 157,
   "metadata": {
    "collapsed": false
   },
   "outputs": [
    {
     "data": {
      "text/plain": [
       "'1'"
      ]
     },
     "execution_count": 157,
     "metadata": {},
     "output_type": "execute_result"
    }
   ],
   "source": [
    "double_to_bitwise(0.5)"
   ]
  },
  {
   "cell_type": "code",
   "execution_count": 158,
   "metadata": {
    "collapsed": false
   },
   "outputs": [
    {
     "name": "stdout",
     "output_type": "stream",
     "text": [
      "00100100001111110110101010001000\n",
      "32\n"
     ]
    }
   ],
   "source": [
    "double_of_pi = double_to_bitwise(math.pi-3)\n",
    "print(double_of_pi)\n",
    "print(len(double_of_pi))"
   ]
  },
  {
   "cell_type": "code",
   "execution_count": 167,
   "metadata": {
    "collapsed": false
   },
   "outputs": [
    {
     "data": {
      "text/plain": [
       "'00101110000101000111101011100001'"
      ]
     },
     "execution_count": 167,
     "metadata": {},
     "output_type": "execute_result"
    }
   ],
   "source": [
    "double_to_bitwise(0.18)"
   ]
  },
  {
   "cell_type": "markdown",
   "metadata": {},
   "source": [
    "#### Experiments\n",
    "\n",
    "-----------------"
   ]
  },
  {
   "cell_type": "code",
   "execution_count": 184,
   "metadata": {
    "collapsed": true
   },
   "outputs": [],
   "source": [
    "def clear_bits_through_0(num, i):\n",
    "    mask = ~((1 << (i+1)) - 1)\n",
    "    return num & mask"
   ]
  },
  {
   "cell_type": "code",
   "execution_count": 196,
   "metadata": {
    "collapsed": false
   },
   "outputs": [
    {
     "data": {
      "text/plain": [
       "'0b1111101000'"
      ]
     },
     "execution_count": 196,
     "metadata": {},
     "output_type": "execute_result"
    }
   ],
   "source": [
    "bin(-2 & 1000)"
   ]
  },
  {
   "cell_type": "code",
   "execution_count": 191,
   "metadata": {
    "collapsed": false
   },
   "outputs": [
    {
     "name": "stdout",
     "output_type": "stream",
     "text": [
      "0b11000110011\n",
      "0b11000000000\n"
     ]
    }
   ],
   "source": [
    "num = 1587\n",
    "print(bin(num))\n",
    "res = clear_bits_through_0(num, 5)\n",
    "print(bin(res))"
   ]
  },
  {
   "cell_type": "code",
   "execution_count": 194,
   "metadata": {
    "collapsed": false
   },
   "outputs": [
    {
     "data": {
      "text/plain": [
       "'0b10'"
      ]
     },
     "execution_count": 194,
     "metadata": {},
     "output_type": "execute_result"
    }
   ],
   "source": [
    "a = int('01100110', 2)\n",
    "b = int('011', 2)\n",
    "\n",
    "bin(a & b)"
   ]
  },
  {
   "cell_type": "code",
   "execution_count": 201,
   "metadata": {
    "collapsed": false
   },
   "outputs": [
    {
     "data": {
      "text/plain": [
       "1020"
      ]
     },
     "execution_count": 201,
     "metadata": {},
     "output_type": "execute_result"
    }
   ],
   "source": [
    "~3 & 1023"
   ]
  },
  {
   "cell_type": "code",
   "execution_count": 203,
   "metadata": {
    "collapsed": false
   },
   "outputs": [
    {
     "data": {
      "text/plain": [
       "'0b1111111111'"
      ]
     },
     "execution_count": 203,
     "metadata": {},
     "output_type": "execute_result"
    }
   ],
   "source": [
    "bin(1023)"
   ]
  },
  {
   "cell_type": "code",
   "execution_count": 202,
   "metadata": {
    "collapsed": false
   },
   "outputs": [
    {
     "data": {
      "text/plain": [
       "'-0b100'"
      ]
     },
     "execution_count": 202,
     "metadata": {},
     "output_type": "execute_result"
    }
   ],
   "source": [
    "bin(~3)"
   ]
  },
  {
   "cell_type": "markdown",
   "metadata": {},
   "source": [
    "Пожалуй, лучше всего представить, что длина меньше операнда продливается до длины большего.  \n",
    "Т.е. изначально все они одинаковой длины и оператор ~ работает на все биты   \n",
    "(дописываем нули слева чтобы добрать длину большего).  И на них тоже  "
   ]
  },
  {
   "cell_type": "markdown",
   "metadata": {},
   "source": [
    "-----------------"
   ]
  },
  {
   "cell_type": "markdown",
   "metadata": {},
   "source": [
    "###  5.3 Nearest smallest and biggest (wrong solution)"
   ]
  },
  {
   "cell_type": "code",
   "execution_count": 182,
   "metadata": {
    "collapsed": true
   },
   "outputs": [],
   "source": [
    "def ones_count(number):\n",
    "    count = 0\n",
    "    while number != 0:\n",
    "        count += (number & 1)\n",
    "        number >>= 1\n",
    "    return count\n",
    "\n",
    "print(bin(112))\n",
    "print(ones_count(112))"
   ]
  },
  {
   "cell_type": "code",
   "execution_count": 208,
   "metadata": {
    "collapsed": true
   },
   "outputs": [],
   "source": [
    "# O(log(number))\n",
    "def smaller_than(number):\n",
    "    ones = ones_count(number)\n",
    "    return (1 << ones) - 1\n",
    "\n",
    "# O(log(number))\n",
    "def bigger_than(number):\n",
    "    ones = ones_count(number)\n",
    "    n = bits_count(number)\n",
    "    \n",
    "    return ((1 << ones) - 1) << (n - ones)"
   ]
  },
  {
   "cell_type": "code",
   "execution_count": 207,
   "metadata": {
    "collapsed": false
   },
   "outputs": [
    {
     "name": "stdout",
     "output_type": "stream",
     "text": [
      "Bin of 1053 is 0b10000011101\n",
      "('Smaller is', '0b11111')\n",
      "('Bigger is', '0b11111000000')\n"
     ]
    }
   ],
   "source": [
    "num = 1053\n",
    "print(\"Bin of {} is {}\".format(num, bin(num)))\n",
    "print(\"Smaller is\", bin(smaller_than(num)))\n",
    "print(\"Bigger is\", bin(bigger_than(num)))"
   ]
  },
  {
   "cell_type": "markdown",
   "metadata": {},
   "source": [
    "И когда работаешь с временной сложностью, помни что ты принимаешь за входные (число битов или само число)\n",
    "O(n) или O("
   ]
  },
  {
   "cell_type": "markdown",
   "metadata": {},
   "source": [
    "### 5.6 Replace at Odd and even positions"
   ]
  },
  {
   "cell_type": "code",
   "execution_count": 5,
   "metadata": {
    "collapsed": false
   },
   "outputs": [
    {
     "data": {
      "text/plain": [
       "'0b10101010'"
      ]
     },
     "execution_count": 5,
     "metadata": {},
     "output_type": "execute_result"
    }
   ],
   "source": [
    "bin(0xAA)"
   ]
  },
  {
   "cell_type": "markdown",
   "metadata": {},
   "source": [
    "Reffer to http://vestikinc.narod.ru/AB/hex_bin_oct_tr.htm\n",
    "How to create masks:\n",
    "\n",
    "|0b|0x|\n",
    "|---|---|\n",
    "|$1010_2$|is 10 aka $A_{16}$|\n",
    "|$0101_2$|is 5 aka $5_{16}$|\n"
   ]
  },
  {
   "cell_type": "code",
   "execution_count": 6,
   "metadata": {
    "collapsed": true
   },
   "outputs": [],
   "source": [
    "def swap_odd_with_even(number):\n",
    "    return ((0xAAAAAAAA & number) >> 1) | (((0x55555555) & number) << 1)"
   ]
  },
  {
   "cell_type": "code",
   "execution_count": 11,
   "metadata": {
    "collapsed": false
   },
   "outputs": [
    {
     "data": {
      "text/plain": [
       "'0b101'"
      ]
     },
     "execution_count": 11,
     "metadata": {},
     "output_type": "execute_result"
    }
   ],
   "source": [
    "bin(5)"
   ]
  },
  {
   "cell_type": "code",
   "execution_count": 33,
   "metadata": {
    "collapsed": false
   },
   "outputs": [
    {
     "name": "stdout",
     "output_type": "stream",
     "text": [
      "0b110101010\n",
      "0b1010101\n",
      "0b1000000000\n",
      "0b1001010101\n"
     ]
    }
   ],
   "source": [
    "n = 426\n",
    "print(bin(n))\n",
    "print(bin((0xAAAAAAAA & n) >> 1))\n",
    "print(bin((0x55555555 & n) << 1))\n",
    "print(bin(swap_odd_with_even(n)))"
   ]
  },
  {
   "cell_type": "code",
   "execution_count": 34,
   "metadata": {
    "collapsed": false
   },
   "outputs": [
    {
     "data": {
      "text/plain": [
       "\"That's fine now!\""
      ]
     },
     "execution_count": 34,
     "metadata": {},
     "output_type": "execute_result"
    }
   ],
   "source": [
    "\"That's fine now!\""
   ]
  },
  {
   "cell_type": "markdown",
   "metadata": {},
   "source": [
    "###  5.7 Strange array"
   ]
  },
  {
   "cell_type": "code",
   "execution_count": 19,
   "metadata": {
    "collapsed": true
   },
   "outputs": [],
   "source": [
    "import math"
   ]
  },
  {
   "cell_type": "code",
   "execution_count": 92,
   "metadata": {
    "collapsed": true
   },
   "outputs": [],
   "source": [
    " def get_bit(n, i):\n",
    "        return int(n & (1 << i) != 0)\n",
    "\n",
    "class StrangeArray:\n",
    "    def __init__(self, n):\n",
    "        self.n = n\n",
    "        self.__array = list(range(n))\n",
    "    \n",
    "    # Key is a tuple\n",
    "    def __getitem__(self, key):\n",
    "        number = self.__array[key[0]]\n",
    "        return get_bit(number, key[1])  \n",
    "    \n",
    "    def __setitem__(self, key, item):\n",
    "        self.__array[key] = item\n",
    "        \n",
    "    def __str__(self):\n",
    "        return \"\\n\".join([bin(num)[2:].zfill(8) for num in self.__array])"
   ]
  },
  {
   "cell_type": "code",
   "execution_count": 93,
   "metadata": {
    "collapsed": false
   },
   "outputs": [
    {
     "data": {
      "text/plain": [
       "1"
      ]
     },
     "execution_count": 93,
     "metadata": {},
     "output_type": "execute_result"
    }
   ],
   "source": [
    "a = StrangeArray(10)\n",
    "a[9,3]"
   ]
  },
  {
   "cell_type": "code",
   "execution_count": 65,
   "metadata": {
    "collapsed": false
   },
   "outputs": [
    {
     "name": "stdout",
     "output_type": "stream",
     "text": [
      "(0, [0], [])\n",
      "(1, [0, 1], [0])\n",
      "(0, [0, 1, 0], [])\n",
      "(2, [0, 1, 0, 2], [0, 1, 0])\n",
      "(0, [0, 1, 0, 2, 0], [1, 0])\n",
      "(1, [0, 1, 0, 2, 0, 1], [0])\n",
      "(0, [0, 1, 0, 2, 0, 1, 0], [])\n",
      "(3, [0, 1, 0, 2, 0, 1, 0, 3], [0, 1, 0, 2, 0, 1, 0])\n",
      "(0, [0, 1, 0, 2, 0, 1, 0, 3, 0], [1, 0, 2, 0, 1, 0])\n"
     ]
    }
   ],
   "source": [
    "# Генерация последовательности индексов, в которых появляется новая единица\n",
    "# Это довольно упоротое решение )\n",
    "changing_indices = []\n",
    "to_repeat = [0]\n",
    "last_max_idx = 0\n",
    "for i in range(1, a.n):\n",
    "    if to_repeat:\n",
    "        current_idx = to_repeat[0]\n",
    "        del to_repeat[0]\n",
    "        changing_indices.append(current_idx)\n",
    "    else:\n",
    "        last_max_idx += 1\n",
    "        current_idx = last_max_idx\n",
    "        changing_indices.append(current_idx)\n",
    "        to_repeat = changing_indices[:-1]\n",
    "    \n",
    "    print(current_idx, changing_indices, to_repeat)"
   ]
  },
  {
   "cell_type": "code",
   "execution_count": 66,
   "metadata": {
    "collapsed": true
   },
   "outputs": [],
   "source": [
    "def is_ok(a):\n",
    "    changing_indices = []\n",
    "    to_repeat = [0]\n",
    "    last_max_idx = 0\n",
    "    for i in range(1, a.n):\n",
    "        if to_repeat:\n",
    "            current_idx = to_repeat[0]\n",
    "            del to_repeat[0]\n",
    "            changing_indices.append(current_idx)\n",
    "        else:\n",
    "            last_max_idx += 1\n",
    "            current_idx = last_max_idx\n",
    "            changing_indices.append(current_idx)\n",
    "            to_repeat = changing_indices[:-1]\n",
    "        \n",
    "        if a[i, current_idx] != 1:\n",
    "            return False\n",
    "    return a[0,0] == 0"
   ]
  },
  {
   "cell_type": "code",
   "execution_count": 67,
   "metadata": {
    "collapsed": false
   },
   "outputs": [
    {
     "data": {
      "text/plain": [
       "True"
      ]
     },
     "execution_count": 67,
     "metadata": {},
     "output_type": "execute_result"
    }
   ],
   "source": [
    "is_ok(a)"
   ]
  },
  {
   "cell_type": "code",
   "execution_count": 79,
   "metadata": {
    "collapsed": false
   },
   "outputs": [
    {
     "data": {
      "text/plain": [
       "False"
      ]
     },
     "execution_count": 79,
     "metadata": {},
     "output_type": "execute_result"
    }
   ],
   "source": [
    "a = StrangeArray(10)\n",
    "a[0] = 1\n",
    "is_ok(a)"
   ]
  },
  {
   "cell_type": "code",
   "execution_count": 90,
   "metadata": {
    "collapsed": false
   },
   "outputs": [
    {
     "data": {
      "text/plain": [
       "True"
      ]
     },
     "execution_count": 90,
     "metadata": {},
     "output_type": "execute_result"
    }
   ],
   "source": [
    "a = StrangeArray(10)\n",
    "a[2] = 3\n",
    "is_ok(a)"
   ]
  },
  {
   "cell_type": "code",
   "execution_count": 94,
   "metadata": {
    "collapsed": false
   },
   "outputs": [
    {
     "name": "stdout",
     "output_type": "stream",
     "text": [
      "00000000\n",
      "00000001\n",
      "00000010\n",
      "00000011\n",
      "00000100\n",
      "00000101\n",
      "00000110\n",
      "00000111\n",
      "00001000\n",
      "00001001\n"
     ]
    }
   ],
   "source": [
    "print(a)"
   ]
  },
  {
   "cell_type": "markdown",
   "metadata": {},
   "source": [
    "А вот и неверно: и у двойки и у тройки на проверяемой позиции (1) стоят единицы. Но разница в непроверяемой позиции"
   ]
  },
  {
   "cell_type": "markdown",
   "metadata": {},
   "source": [
    "###  5.8 Display (в задаче требовалось другое. Переделай)"
   ]
  },
  {
   "cell_type": "code",
   "execution_count": 111,
   "metadata": {
    "collapsed": true
   },
   "outputs": [],
   "source": [
    "class Display:\n",
    "    def __init__(self, n):\n",
    "        self.array = [0 for _ in range(n)]\n",
    "        self.n = n\n",
    "        self.w = 8\n",
    "        \n",
    "    # Don't know what width means\n",
    "    # 0 point in left upper corner\n",
    "    def draw_horizontal_line(self, width, x1, x2, y):\n",
    "        line_length = x2 - x1\n",
    "        mask = (1 << line_length) - 1\n",
    "        start_index = self.w - 1 - x2\n",
    "        aligned_mask = mask << start_index\n",
    "        \n",
    "        y_start = y-width//2\n",
    "        y_end = y-width//2 + width\n",
    "        for i in range(y_start, y_end):\n",
    "            self.array[i] |= aligned_mask\n",
    "            \n",
    "    def correct_draw_horizontal_line(self, width, x1, x2, y):\n",
    "        line_length = x2 - x1\n",
    "        mask = (1 << line_length) - 1\n",
    "        start_index = self.w - 1 - x2\n",
    "        aligned_mask = mask << start_index\n",
    "        \n",
    "        y_start = y-width//2\n",
    "        y_end = y-width//2 + width\n",
    "        for i in range(y_start, y_end):\n",
    "            self.array[i] |= aligned_mask\n",
    "            \n",
    "        \n",
    "        \n",
    "    def __repr__(self):\n",
    "        return \"\\n\".join([bin(num)[2:].zfill(self.w) for num in self.array])"
   ]
  },
  {
   "cell_type": "code",
   "execution_count": 97,
   "metadata": {
    "collapsed": false
   },
   "outputs": [
    {
     "name": "stdout",
     "output_type": "stream",
     "text": [
      "Help on method draw_horizontal_line in module __main__:\n",
      "\n",
      "draw_horizontal_line(self, width, x1, x2, y) unbound __main__.Display method\n",
      "    From (1 is x1, 2 is x2:\n",
      "       --------\n",
      "       -1----2-\n",
      "       \n",
      "    To --------\n",
      "       -******-\n",
      "    Where - is 0/1 (what was earlier) and * is 1\n",
      "\n"
     ]
    }
   ],
   "source": [
    "help(Display.draw_horizontal_line)"
   ]
  },
  {
   "cell_type": "code",
   "execution_count": 112,
   "metadata": {
    "collapsed": false
   },
   "outputs": [
    {
     "name": "stdout",
     "output_type": "stream",
     "text": [
      "00000000\n",
      "00000000\n",
      "00000000\n",
      "00000000\n",
      "00000000\n",
      "00000000\n",
      "00000000\n",
      "00000000\n",
      "00000000\n",
      "00000000\n",
      "Later\n",
      "00000000\n",
      "00000000\n",
      "00001110\n",
      "00001110\n",
      "00001110\n",
      "00000000\n",
      "00000000\n",
      "00000000\n",
      "00000000\n",
      "00000000\n"
     ]
    }
   ],
   "source": [
    "d = Display(10)\n",
    "print(d)\n",
    "\n",
    "print(\"Later\")\n",
    "d.draw_horizontal_line(3, 3, 6, 3)\n",
    "print(d)"
   ]
  },
  {
   "cell_type": "code",
   "execution_count": 6,
   "metadata": {
    "collapsed": false
   },
   "outputs": [],
   "source": [
    "import math\n",
    "n = 15\n",
    "ones_cnt = 0\n",
    "zeros_cnt = 0\n",
    "bits_cnt = int(math.log(n, 2))\n",
    "for i in range(n):\n",
    "    bin_str = bin(i)[2:].zfill(bits_cnt)\n",
    "    ones_cnt += bin_str.count('1')\n",
    "    zeros_cnt += bin_str.count('0')"
   ]
  },
  {
   "cell_type": "code",
   "execution_count": 7,
   "metadata": {
    "collapsed": false
   },
   "outputs": [
    {
     "name": "stdout",
     "output_type": "stream",
     "text": [
      "('0 here: ', 24)\n",
      "('1 here: ', 28)\n"
     ]
    }
   ],
   "source": [
    "print('0 here: ', zeros_cnt)\n",
    "print('1 here: ', ones_cnt)"
   ]
  },
  {
   "cell_type": "code",
   "execution_count": 8,
   "metadata": {
    "collapsed": false
   },
   "outputs": [
    {
     "name": "stdout",
     "output_type": "stream",
     "text": [
      "3\n"
     ]
    }
   ],
   "source": [
    "print(bits_cnt)"
   ]
  },
  {
   "cell_type": "code",
   "execution_count": 4,
   "metadata": {
    "collapsed": false
   },
   "outputs": [
    {
     "data": {
      "text/plain": [
       "'0b101010101010'"
      ]
     },
     "execution_count": 4,
     "metadata": {},
     "output_type": "execute_result"
    }
   ],
   "source": [
    "bin(0xAAA)"
   ]
  }
 ],
 "metadata": {
  "anaconda-cloud": {},
  "kernelspec": {
   "display_name": "Python [conda env:py_36]",
   "language": "python",
   "name": "conda-env-py_36-py"
  },
  "language_info": {
   "codemirror_mode": {
    "name": "ipython",
    "version": 3
   },
   "file_extension": ".py",
   "mimetype": "text/x-python",
   "name": "python",
   "nbconvert_exporter": "python",
   "pygments_lexer": "ipython3",
   "version": "3.6.2"
  }
 },
 "nbformat": 4,
 "nbformat_minor": 1
}
