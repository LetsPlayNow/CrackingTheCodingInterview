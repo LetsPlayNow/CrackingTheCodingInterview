{
 "cells": [
  {
   "cell_type": "markdown",
   "metadata": {},
   "source": [
    "# Cracking the code interview"
   ]
  },
  {
   "cell_type": "markdown",
   "metadata": {},
   "source": [
    "## Linked list"
   ]
  },
  {
   "cell_type": "markdown",
   "metadata": {},
   "source": [
    "* __repr__ goal is to be unambiguous\n",
    "* __str__ goal is to be readable"
   ]
  },
  {
   "cell_type": "code",
   "execution_count": 82,
   "metadata": {
    "collapsed": false
   },
   "outputs": [],
   "source": [
    "class Node:\n",
    "    def __init__(self, data):\n",
    "        self.next = None\n",
    "        self.data = data\n",
    "    \n",
    "    def append(self, data):\n",
    "        end = Node(data)\n",
    "        \n",
    "        current = self\n",
    "        while current.next is not None:\n",
    "            current = current.next\n",
    "        \n",
    "        current.next = end\n",
    "        \n",
    "    def remove(self, data): \n",
    "        if self.data == data:\n",
    "            return self.next\n",
    "        \n",
    "        current = self\n",
    "        while current.next is not None:\n",
    "            if current.next.data == data:\n",
    "                current.next = current.next.next\n",
    "                break\n",
    "            current = current.next\n",
    "        \n",
    "        return self\n",
    "    \n",
    "    def remove_duplicates(self):\n",
    "        visited = set([self.data])\n",
    "        \n",
    "        current = self\n",
    "        while current.next is not None:\n",
    "            if current.next.data in visited:\n",
    "                # Remove this node\n",
    "                current.next = current.next.next\n",
    "            else:\n",
    "                visited.add(current.next.data)\n",
    "                current = current.next\n",
    "    \n",
    "    # Without using set or another additional memory\n",
    "    def remove_duplicates_naive(self):\n",
    "        head = self\n",
    "        while head is not None:\n",
    "            cur = head\n",
    "            while cur.next is not None:\n",
    "                duplicate_found = head.data == cur.next.data\n",
    "                if duplicate_found:\n",
    "                    cur.next = cur.next.next\n",
    "                else:\n",
    "                    cur = cur.next\n",
    "            head = head.next\n",
    "            \n",
    "    def __add__(self, other):\n",
    "        term_1 = self\n",
    "        term_2 = other\n",
    "        summ_list = Node(None)\n",
    "        overflow = 0\n",
    "        \n",
    "        while term_1 is not None and term_2 is not None:\n",
    "            summ = term_1.data + term_2.data + overflow\n",
    "            summ_list.append(summ % 10)\n",
    "            overflow = summ // 10\n",
    "            term_1 = term_1.next\n",
    "            term_2 = term_2.next\n",
    "        \n",
    "        if term_1 is not None:\n",
    "            longer_term = term_1\n",
    "        elif term_2 is not None:\n",
    "            longer_term = term_2\n",
    "        else: \n",
    "            longer_term = None\n",
    "        \n",
    "        if longer_term is not None:\n",
    "            while longer_term is not None:\n",
    "                summ = longer_term.data + overflow\n",
    "                summ_list.append(summ % 10)\n",
    "                overflow = summ // 10\n",
    "                longer_term = longer_term.next\n",
    "                \n",
    "        if overflow != 0:\n",
    "            summ_list.append(overflow)\n",
    "        \n",
    "        return summ_list.next                             \n",
    "    \n",
    "    def \n",
    "    \n",
    "    def __repr__(self):\n",
    "        return \"[{}] > {}\".format(self.data, self.next.__repr__())\n",
    "        "
   ]
  },
  {
   "cell_type": "code",
   "execution_count": 78,
   "metadata": {
    "collapsed": false
   },
   "outputs": [],
   "source": [
    "lst = Node(15)\n",
    "lst.append(13)\n",
    "lst.append(15)\n",
    "lst.append(13)"
   ]
  },
  {
   "cell_type": "code",
   "execution_count": 60,
   "metadata": {
    "collapsed": false
   },
   "outputs": [
    {
     "name": "stdout",
     "output_type": "stream",
     "text": [
      "[15] > [13] > [15] > [13] > None\n"
     ]
    }
   ],
   "source": [
    "print(str(lst))"
   ]
  },
  {
   "cell_type": "code",
   "execution_count": 63,
   "metadata": {
    "collapsed": false
   },
   "outputs": [
    {
     "data": {
      "text/plain": [
       "[13] > [13] > None"
      ]
     },
     "execution_count": 63,
     "metadata": {},
     "output_type": "execute_result"
    }
   ],
   "source": [
    "lst.remove(15).remove(15).remove(None)"
   ]
  },
  {
   "cell_type": "code",
   "execution_count": 79,
   "metadata": {
    "collapsed": false
   },
   "outputs": [],
   "source": [
    "lst.remove_duplicates_naive()"
   ]
  },
  {
   "cell_type": "code",
   "execution_count": 80,
   "metadata": {
    "collapsed": false
   },
   "outputs": [
    {
     "data": {
      "text/plain": [
       "[15] > [13] > None"
      ]
     },
     "execution_count": 80,
     "metadata": {},
     "output_type": "execute_result"
    }
   ],
   "source": [
    "lst"
   ]
  },
  {
   "cell_type": "code",
   "execution_count": 83,
   "metadata": {
    "collapsed": false
   },
   "outputs": [
    {
     "data": {
      "text/plain": [
       "[4] > [0] > [5] > [4] > None"
      ]
     },
     "execution_count": 83,
     "metadata": {},
     "output_type": "execute_result"
    }
   ],
   "source": [
    "a = Node(1)\n",
    "a.append(1)\n",
    "a.append(9)\n",
    "\n",
    "b = Node(3)\n",
    "b.append(9)\n",
    "b.append(5)\n",
    "b.append(3)\n",
    "\n",
    "a + b"
   ]
  }
 ],
 "metadata": {
  "anaconda-cloud": {},
  "kernelspec": {
   "display_name": "Python [conda env:py_36]",
   "language": "python",
   "name": "conda-env-py_36-py"
  },
  "language_info": {
   "codemirror_mode": {
    "name": "ipython",
    "version": 3
   },
   "file_extension": ".py",
   "mimetype": "text/x-python",
   "name": "python",
   "nbconvert_exporter": "python",
   "pygments_lexer": "ipython3",
   "version": "3.6.2"
  }
 },
 "nbformat": 4,
 "nbformat_minor": 1
}
