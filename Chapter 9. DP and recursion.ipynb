{
 "cells": [
  {
   "cell_type": "markdown",
   "metadata": {},
   "source": [
    "# Cracking the code interview"
   ]
  },
  {
   "cell_type": "markdown",
   "metadata": {},
   "source": [
    "## Recursion and DP"
   ]
  },
  {
   "cell_type": "markdown",
   "metadata": {},
   "source": [
    "### 9.1 Children and ladder"
   ]
  },
  {
   "cell_type": "code",
   "execution_count": 70,
   "metadata": {
    "collapsed": true
   },
   "outputs": [],
   "source": [
    "# I think this solution will work only when step +1 is available\n",
    "# It's wrong assumption! because if ladders_dp[i] will be 0 (no way). \n",
    "# The others also will be 0, because of ladders_dp[i+step] += ladders_dp[i]\n",
    "\n",
    "def rising_dp(n):\n",
    "    # Rising recursion\n",
    "    ladders_dp = [0 for i in range(n)]\n",
    "    ladders_dp[0] = 1\n",
    "    steps = [+1, +2, +3]\n",
    "\n",
    "    for i in range(0, n):\n",
    "        for step in steps:\n",
    "            if i+step < n:\n",
    "                ladders_dp[i+step] += ladders_dp[i]\n",
    "\n",
    "    print(ladders_dp[-1])"
   ]
  },
  {
   "cell_type": "code",
   "execution_count": 88,
   "metadata": {
    "collapsed": false
   },
   "outputs": [
    {
     "name": "stdout",
     "output_type": "stream",
     "text": [
      "4\n"
     ]
    }
   ],
   "source": [
    "rising_dp(4)"
   ]
  },
  {
   "cell_type": "code",
   "execution_count": 89,
   "metadata": {
    "collapsed": true
   },
   "outputs": [],
   "source": [
    "def descending_dp(n):\n",
    "    dp = [0 for i in range(n)]\n",
    "    dp[0] = 1\n",
    "    steps = [+1, +2, +3]\n",
    "    \n",
    "    def count_ways(ladder):\n",
    "        if dp[ladder] == 0:\n",
    "            ways_cnt = 0\n",
    "            for step in steps:\n",
    "                prev_ladder = ladder - step\n",
    "                if prev_ladder >= 0:\n",
    "                    dp[ladder] += count_ways(prev_ladder)\n",
    "        return dp[ladder]\n",
    "    \n",
    "    return count_ways(n-1)"
   ]
  },
  {
   "cell_type": "code",
   "execution_count": 86,
   "metadata": {
    "collapsed": false
   },
   "outputs": [
    {
     "data": {
      "text/plain": [
       "4"
      ]
     },
     "execution_count": 86,
     "metadata": {},
     "output_type": "execute_result"
    }
   ],
   "source": [
    "descending_dp(4)"
   ]
  },
  {
   "cell_type": "markdown",
   "metadata": {},
   "source": [
    "###  9.2"
   ]
  },
  {
   "cell_type": "code",
   "execution_count": 143,
   "metadata": {
    "collapsed": false
   },
   "outputs": [],
   "source": [
    "def descending_dp(n):\n",
    "    dp = [[0 for i in range(n)] for j in range(n)]\n",
    "    dp[0][0] = 1\n",
    "    \n",
    "    steps = [(+1, 0), (0, +1)] # Down and right\n",
    "    \n",
    "    def count_ways(i, j):\n",
    "        if dp[i][j] == 0:\n",
    "            for step in steps:\n",
    "                di, dj = step\n",
    "                prev_i, prev_j = i-di, j-dj\n",
    "                if prev_i >=0 and prev_j >= 0:\n",
    "                    dp[i][j] += count_ways(prev_i, prev_j)\n",
    "        return dp[i][j]\n",
    "    \n",
    "    return count_ways(n-1, n-1)"
   ]
  },
  {
   "cell_type": "code",
   "execution_count": 141,
   "metadata": {
    "collapsed": false
   },
   "outputs": [
    {
     "name": "stdout",
     "output_type": "stream",
     "text": [
      "19801\n"
     ]
    },
    {
     "data": {
      "text/plain": [
       "22750883079422934966181954039568885395604168260154104734000"
      ]
     },
     "execution_count": 141,
     "metadata": {},
     "output_type": "execute_result"
    }
   ],
   "source": [
    "# First number below is a count of calls of count_ways function.\n",
    "# It should be O(n**2) where n - side of a matrix\n",
    "# I removed this counter. If you need reffer extended example below\n",
    "descending_dp(100)"
   ]
  },
  {
   "cell_type": "markdown",
   "metadata": {},
   "source": [
    "Seems fine. But now there are an obstacles somewhere"
   ]
  },
  {
   "cell_type": "code",
   "execution_count": 99,
   "metadata": {
    "collapsed": true
   },
   "outputs": [],
   "source": [
    "import random"
   ]
  },
  {
   "cell_type": "code",
   "execution_count": 114,
   "metadata": {
    "collapsed": false
   },
   "outputs": [],
   "source": [
    "def generate_new_field(n):\n",
    "    field = [[0 for i in range(n)] for j in range(n)]\n",
    "    for i in range(n**2):\n",
    "        if random.choice([True, False]):\n",
    "            field[(i // n)][i % n] = -1\n",
    "    print(\"\\n\".join(str(row) for row in field))\n",
    "    return field"
   ]
  },
  {
   "cell_type": "code",
   "execution_count": 116,
   "metadata": {
    "collapsed": false
   },
   "outputs": [
    {
     "name": "stdout",
     "output_type": "stream",
     "text": [
      "[0, -1, 0]\n",
      "[-1, -1, 0]\n",
      "[-1, -1, -1]\n"
     ]
    }
   ],
   "source": [
    "field = generate_new_field(3)"
   ]
  },
  {
   "cell_type": "code",
   "execution_count": 127,
   "metadata": {
    "collapsed": false
   },
   "outputs": [],
   "source": [
    "def descending_dp(field, n):\n",
    "    dp = [[0 for i in range(n)] for j in range(n)]\n",
    "    if field[0][0] != -1:\n",
    "        dp[0][0] = 1\n",
    "    steps = [(+1, 0), (0, +1)]\n",
    "    calls_count = 0 # For experiment only\n",
    "    \n",
    "    def count_ways(i, j):\n",
    "        nonlocal calls_count\n",
    "        calls_count += 1\n",
    "        should_count = field[i][j] != -1 and dp[i][j] == 0\n",
    "        if should_count:\n",
    "            for step in steps:\n",
    "                di, dj = step\n",
    "                prev_i, prev_j = i-di, j-dj\n",
    "                if prev_i >= 0 and prev_j >= 0:\n",
    "                    dp[i][j] += count_ways(prev_i, prev_j)\n",
    "        return dp[i][j]\n",
    "    \n",
    "    res = count_ways(n-1, n-1)\n",
    "    print(calls_count)\n",
    "    return res"
   ]
  },
  {
   "cell_type": "code",
   "execution_count": 135,
   "metadata": {
    "collapsed": false
   },
   "outputs": [
    {
     "name": "stdout",
     "output_type": "stream",
     "text": [
      "[0, -1, 0]\n",
      "[0, 0, -1]\n",
      "[0, 0, 0]\n"
     ]
    }
   ],
   "source": [
    "field = generate_new_field(3)"
   ]
  },
  {
   "cell_type": "code",
   "execution_count": 136,
   "metadata": {
    "collapsed": false
   },
   "outputs": [
    {
     "name": "stdout",
     "output_type": "stream",
     "text": [
      "9\n"
     ]
    },
    {
     "data": {
      "text/plain": [
       "2"
      ]
     },
     "execution_count": 136,
     "metadata": {},
     "output_type": "execute_result"
    }
   ],
   "source": [
    "descending_dp(field, 3)"
   ]
  },
  {
   "cell_type": "markdown",
   "metadata": {},
   "source": [
    "Wow! Python 3.6 has new format feature!"
   ]
  },
  {
   "cell_type": "code",
   "execution_count": 144,
   "metadata": {
    "collapsed": false
   },
   "outputs": [
    {
     "data": {
      "text/plain": [
       "'printting field [[0, -1, 0], [0, 0, -1], [0, 0, 0]]'"
      ]
     },
     "execution_count": 144,
     "metadata": {},
     "output_type": "execute_result"
    }
   ],
   "source": [
    "f\"printting field {field}\""
   ]
  },
  {
   "cell_type": "markdown",
   "metadata": {},
   "source": [
    "### 9.3 Magic index"
   ]
  },
  {
   "cell_type": "code",
   "execution_count": 155,
   "metadata": {
    "collapsed": true
   },
   "outputs": [],
   "source": [
    "ind = [0,1,2,3,4,5] # Visual sugar\n",
    "seq = [5,5,5,5,5,5]\n",
    "\n",
    "def find_magic_idx(seq):\n",
    "    possible_idx = seq[0]\n",
    "    steps_done = 0\n",
    "    \n",
    "    while possible_idx < len(seq):\n",
    "        steps_done += 1\n",
    "        if seq[possible_idx] == possible_idx:\n",
    "            print(f\"Checked {steps_done} elements of {len(seq)}\")\n",
    "            return possible_idx\n",
    "        else:\n",
    "            possible_idx = seq[possible_idx]\n",
    "    \n",
    "    print(f\"Checked {steps_done} elements of {len(seq)}\")\n",
    "    return None"
   ]
  },
  {
   "cell_type": "code",
   "execution_count": 156,
   "metadata": {
    "collapsed": false
   },
   "outputs": [
    {
     "name": "stdout",
     "output_type": "stream",
     "text": [
      "Checked 1 elements of 6\n"
     ]
    },
    {
     "data": {
      "text/plain": [
       "5"
      ]
     },
     "execution_count": 156,
     "metadata": {},
     "output_type": "execute_result"
    }
   ],
   "source": [
    "find_magic_idx(seq)"
   ]
  },
  {
   "cell_type": "code",
   "execution_count": 164,
   "metadata": {
    "collapsed": false
   },
   "outputs": [
    {
     "name": "stdout",
     "output_type": "stream",
     "text": [
      "Checked 5 elements of 1000\n"
     ]
    },
    {
     "data": {
      "text/plain": [
       "22"
      ]
     },
     "execution_count": 164,
     "metadata": {},
     "output_type": "execute_result"
    }
   ],
   "source": [
    "import random\n",
    "seq = [random.randint(0, 1000) for i in range(1000)]\n",
    "seq.sort()\n",
    "find_magic_idx(seq)"
   ]
  },
  {
   "cell_type": "markdown",
   "metadata": {},
   "source": [
    "\n",
    "```\n",
    "Works nice! We can find first magic num in \n",
    "sequence very fast in best cases\n",
    "In worst case, when \n",
    "i 0 1 2 3 4 5 6 7\n",
    "v 1 2 3 4 5 6 7 8\n",
    "then we will get O(n)\n",
    "```\n",
    "\n",
    "\n",
    "```\n",
    "If all values are the same, then \n",
    "if value in sequence's indices range:\n",
    "    O(1) and we will get our value\n",
    "else\n",
    "    O(1) and we will not get our value \n",
    "```"
   ]
  },
  {
   "cell_type": "markdown",
   "metadata": {},
   "source": [
    "### 9.4 All subsets of a set"
   ]
  },
  {
   "cell_type": "markdown",
   "metadata": {},
   "source": [
    "Hacky solution with time complexity is $O(2^n log_2(n))$ where n - cardinality of set  \n",
    "Seems like $O(2^n * n)$ for memory"
   ]
  },
  {
   "cell_type": "code",
   "execution_count": 13,
   "metadata": {
    "collapsed": true
   },
   "outputs": [],
   "source": [
    "# check the biggest number for bin_len binary digits\n",
    "def max_num(bin_len):\n",
    "    return 2**bin_len - 1\n",
    "\n",
    "def get_bit(num, i):\n",
    "    return int((num & (1 << i)) != 0)\n",
    "\n",
    "def all_subsets(s: set):\n",
    "    n = len(s)\n",
    "    subsets = []\n",
    "    elements = list(s)\n",
    "    \n",
    "    for splitting in range(max_num(n) + 1):\n",
    "        subset = []\n",
    "        for i in range(n):\n",
    "            if get_bit(splitting, i):\n",
    "                subset.append(elements[i])\n",
    "        subsets.append(subset)\n",
    "    return subsets"
   ]
  },
  {
   "cell_type": "code",
   "execution_count": 14,
   "metadata": {
    "collapsed": false
   },
   "outputs": [
    {
     "data": {
      "text/plain": [
       "[[], [1], [2], [1, 2], [3], [1, 3], [2, 3], [1, 2, 3]]"
      ]
     },
     "execution_count": 14,
     "metadata": {},
     "output_type": "execute_result"
    }
   ],
   "source": [
    "s = set([1,2,3])\n",
    "all_subsets(s)"
   ]
  },
  {
   "cell_type": "markdown",
   "metadata": {},
   "source": [
    "Better solution ?  \n",
    "Solution below works with elements directly and so we loosing $log_2(n)$ from time complexity bound  \n",
    "Run time - $O(2^n)$ and can't be less then size of the output  \n",
    "Memory usage - $O(2^n * n)$\n",
    "\n",
    "Seems like there is no overlapping cases, because  \n",
    "recursion calls forms descending tree"
   ]
  },
  {
   "cell_type": "markdown",
   "metadata": {},
   "source": [
    "I think lists are not fast when we need often to allocate some memory  \n",
    "Good idea will be:  \n",
    "1) to allocate memory for all sequencies  \n",
    "2) say idxes for subset in allcoated memory for all recursion calls"
   ]
  },
  {
   "cell_type": "code",
   "execution_count": 40,
   "metadata": {
    "collapsed": true
   },
   "outputs": [],
   "source": [
    "# What about recursion?\n",
    "# And work with objects not with indices\n",
    "def gen_subsets(s: set):\n",
    "    def gen_subset(subsets, subset, elements, cur_idx):\n",
    "        if cur_idx == len(elements):\n",
    "            subsets.append(subset)\n",
    "            return\n",
    "        \n",
    "        # Copy to make new set branching on current element\n",
    "        subset_without_cur_el = subset.copy()\n",
    "        subset_with_cur_el = subset + [elements[cur_idx]]\n",
    "        \n",
    "        next_idx = cur_idx + 1\n",
    "        gen_subset(subsets, subset_with_cur_el, elements, next_idx)\n",
    "        gen_subset(subsets, subset_without_cur_el, elements, next_idx)\n",
    "        \n",
    "    subsets = []\n",
    "    subset = []\n",
    "    elements = list(s)\n",
    "    cur_idx = 0\n",
    "    gen_subset(subsets, subset, elements, cur_idx)\n",
    "    return subsets"
   ]
  },
  {
   "cell_type": "code",
   "execution_count": 41,
   "metadata": {
    "collapsed": false
   },
   "outputs": [
    {
     "data": {
      "text/plain": [
       "{1, 2, 3}"
      ]
     },
     "execution_count": 41,
     "metadata": {},
     "output_type": "execute_result"
    }
   ],
   "source": [
    "s"
   ]
  },
  {
   "cell_type": "code",
   "execution_count": 42,
   "metadata": {
    "collapsed": false
   },
   "outputs": [
    {
     "data": {
      "text/plain": [
       "[[1, 2, 3], [1, 2], [1, 3], [1], [2, 3], [2], [3], []]"
      ]
     },
     "execution_count": 42,
     "metadata": {},
     "output_type": "execute_result"
    }
   ],
   "source": [
    "gen_subsets(s)"
   ]
  },
  {
   "cell_type": "markdown",
   "metadata": {},
   "source": [
    "Maybe one more interesting solution?  \n",
    "```\n",
    "n = 0  \n",
    "{}  \n",
    "n = 1\n",
    "{}, {a_1}\n",
    "n = 2\n",
    "{}, {a_1}, {a_2}, {a_1, a_2}\n",
    "```\n",
    "\n",
    "So\n",
    "$P_3 = P_2 + (P_2 + a_3)$ and so on"
   ]
  },
  {
   "cell_type": "code",
   "execution_count": 14,
   "metadata": {
    "collapsed": true
   },
   "outputs": [],
   "source": [
    "def gen_subsets(s: set):\n",
    "    # Iterative will work\n",
    "    elements = list(s)\n",
    "    sets = [{}]\n",
    "    for el in elements:\n",
    "        sets_with_el = []\n",
    "        for set_without_el in sets:\n",
    "            set_with_el = set(set_without_el)\n",
    "            set_with_el.add(el)\n",
    "            sets_with_el.append(set_with_el)\n",
    "        sets.extend(sets_with_el)\n",
    "    return sets"
   ]
  },
  {
   "cell_type": "code",
   "execution_count": 15,
   "metadata": {
    "collapsed": false
   },
   "outputs": [
    {
     "data": {
      "text/plain": [
       "[{}, {1}, {2}, {1, 2}, {3}, {1, 3}, {2, 3}, {1, 2, 3}]"
      ]
     },
     "execution_count": 15,
     "metadata": {},
     "output_type": "execute_result"
    }
   ],
   "source": [
    "gen_subsets({1,2,3})"
   ]
  },
  {
   "cell_type": "markdown",
   "metadata": {},
   "source": [
    "### 9.5 All permutations of string\n",
    "\n",
    "--------\n",
    "\n",
    "First algo below is very bad\n",
    "\n",
    "|Aspect|Complexity|Commentaries|\n",
    "|------|----------|------------|\n",
    "|Time  |$O(n!\\,n)$|            |\n",
    "|Memory|$O(n!\\,n)$|But also there are a lot of copies|\n",
    "\n",
    "I remember that more elegant algorhytms exists"
   ]
  },
  {
   "cell_type": "code",
   "execution_count": 57,
   "metadata": {
    "collapsed": false
   },
   "outputs": [],
   "source": [
    "# It's a bad solution\n",
    "# Whoa. String can contain equal characters!\n",
    "def permitations(s: str):\n",
    "    def permutation(perms, cur_perm, chars_lasts):\n",
    "        if len(chars_lasts) == 0:\n",
    "            perms.append(cur_perm)\n",
    "            return\n",
    "        \n",
    "        for i, char in enumerate(chars_lasts):\n",
    "            new_chars_lasts = chars_lasts.copy()\n",
    "            del new_chars_lasts[i]\n",
    "            permutation(perms, cur_perm.copy() + [char], new_chars_lasts)\n",
    "\n",
    "    perms = []\n",
    "    cur_perm = []\n",
    "    chars_lasts = list(s)\n",
    "    permutation(perms, cur_perm, chars_lasts)\n",
    "    return perms"
   ]
  },
  {
   "cell_type": "code",
   "execution_count": 62,
   "metadata": {
    "collapsed": false
   },
   "outputs": [
    {
     "data": {
      "text/plain": [
       "24"
      ]
     },
     "execution_count": 62,
     "metadata": {},
     "output_type": "execute_result"
    }
   ],
   "source": [
    "len(permitations(\"abba\"))"
   ]
  },
  {
   "cell_type": "markdown",
   "metadata": {},
   "source": [
    "I often forget permutation algorhytms, because they have a hucky idea"
   ]
  },
  {
   "cell_type": "markdown",
   "metadata": {},
   "source": [
    "*TODO read 2 of them in Levitin's book*"
   ]
  },
  {
   "cell_type": "markdown",
   "metadata": {},
   "source": [
    "Try iterative way for these algos \n",
    "\n",
    "And think a bit more about how much memory they use.  \n",
    "Because at every recursion level new array creates for each branch,   \n",
    "but old array may not be deleted for some time  "
   ]
  },
  {
   "cell_type": "markdown",
   "metadata": {},
   "source": [
    "### 9.6 Correct brackets sequencies generator"
   ]
  },
  {
   "cell_type": "code",
   "execution_count": 78,
   "metadata": {
    "collapsed": true
   },
   "outputs": [],
   "source": [
    "def brackets_sequencies(n):\n",
    "    sequencies = []\n",
    "    def bracket_sequence(seq, opened):\n",
    "        if len(seq) == 2*n:\n",
    "            assert(opened == 0)\n",
    "            sequencies.append(seq)\n",
    "        elif opened == 0:\n",
    "            bracket_sequence(seq + '(', opened+1)\n",
    "        elif opened > 0:\n",
    "            lasts = 2*n - len(seq)\n",
    "            if opened < lasts: # any of ( or ) is possible\n",
    "                bracket_sequence(seq + '(', opened + 1)\n",
    "                bracket_sequence(seq + ')', opened - 1)\n",
    "            else: # only ) is possible\n",
    "                bracket_sequence(seq + ')', opened - 1)\n",
    "    \n",
    "    bracket_sequence('(', 1)\n",
    "    return sequencies"
   ]
  },
  {
   "cell_type": "markdown",
   "metadata": {},
   "source": [
    "It works!  \n",
    "cnt = count of all correct seuqencies (**todo**: remember how calculate it)  \n",
    "Seems like time $O(cnt)$ and mem $O(cnt * n)$  "
   ]
  },
  {
   "cell_type": "code",
   "execution_count": 88,
   "metadata": {
    "collapsed": false
   },
   "outputs": [
    {
     "data": {
      "text/plain": [
       "['(((())))',\n",
       " '((()()))',\n",
       " '((())())',\n",
       " '((()))()',\n",
       " '(()(()))',\n",
       " '(()()())',\n",
       " '(()())()',\n",
       " '(())(())',\n",
       " '(())()()',\n",
       " '()((()))',\n",
       " '()(()())',\n",
       " '()(())()',\n",
       " '()()(())',\n",
       " '()()()()']"
      ]
     },
     "execution_count": 88,
     "metadata": {},
     "output_type": "execute_result"
    }
   ],
   "source": [
    "brackets_sequencies(4)"
   ]
  },
  {
   "cell_type": "markdown",
   "metadata": {},
   "source": [
    "### Work on bugs"
   ]
  },
  {
   "cell_type": "markdown",
   "metadata": {
    "collapsed": true
   },
   "source": [
    "![Johnson-Throtter](https://cdn.pbrd.co/images/GKhxZO2.png)"
   ]
  },
  {
   "cell_type": "code",
   "execution_count": 61,
   "metadata": {
    "collapsed": false
   },
   "outputs": [],
   "source": [
    "def DjonsonTrotter(n):\n",
    "    # < < < < < < ... <\n",
    "    marks = [-1 for i in range(n)]\n",
    "    perm = list(range(n))\n",
    "    \n",
    "    # Don't know how but it should be O(1)\n",
    "    # TODO this optimization\n",
    "    def find_max_mobile_idx():\n",
    "        max_idx = None\n",
    "        for idx, el in enumerate(perm):\n",
    "            near_idx = idx+marks[idx]\n",
    "            if near_idx in range(0, n):\n",
    "                is_mobile = perm[idx] > perm[near_idx]\n",
    "                if is_mobile:\n",
    "                    if max_idx is None:\n",
    "                        max_idx = idx\n",
    "                    elif perm[idx] > perm[max_idx]:\n",
    "                        max_idx = idx\n",
    "        return max_idx\n",
    "    \n",
    "    def change_direction(mobile_idx):\n",
    "        mobile_el = perm[mobile_idx]\n",
    "        for idx, el in enumerate(perm):\n",
    "            if el < mobile_el:\n",
    "                marks[idx] = -marks[idx] # invert mark\n",
    "    \n",
    "    while True:\n",
    "        yield perm\n",
    "        \n",
    "        m_idx = find_max_mobile_idx()\n",
    "        if m_idx is None:\n",
    "            break\n",
    "               \n",
    "        near_idx = m_idx + marks[m_idx]\n",
    "        perm[near_idx], perm[m_idx] = perm[m_idx], perm[near_idx]\n",
    "        marks[near_idx], marks[m_idx] = marks[m_idx], marks[near_idx]\n",
    "        \n",
    "        m_idx = near_idx\n",
    "        change_direction(m_idx)"
   ]
  },
  {
   "cell_type": "code",
   "execution_count": 62,
   "metadata": {
    "collapsed": false
   },
   "outputs": [
    {
     "name": "stdout",
     "output_type": "stream",
     "text": [
      "[0, 1, 2]\n",
      "[0, 2, 1]\n",
      "[2, 0, 1]\n",
      "[2, 1, 0]\n"
     ]
    }
   ],
   "source": [
    "for perm in DjonsonTrotter(3):\n",
    "    print(perm)"
   ]
  },
  {
   "cell_type": "code",
   "execution_count": 34,
   "metadata": {
    "collapsed": true
   },
   "outputs": [],
   "source": [
    "def heap_permute(n, A):\n",
    "    # print(f\"{A[:n]} -> {A}\")\n",
    "    if n == 1:\n",
    "        pass\n",
    "        print(A)\n",
    "    else:\n",
    "        for i in range(n):\n",
    "            heap_permute(n-1, A)\n",
    "            if n % 2 != 0:\n",
    "                A[0], A[n-1] = A[n-1], A[0]\n",
    "            else:\n",
    "                A[i], A[n-1] = A[n-1], A[i]"
   ]
  },
  {
   "cell_type": "code",
   "execution_count": 35,
   "metadata": {
    "collapsed": false
   },
   "outputs": [
    {
     "name": "stdout",
     "output_type": "stream",
     "text": [
      "[1, 2, 3, 4]\n",
      "[2, 1, 3, 4]\n",
      "[3, 1, 2, 4]\n",
      "[1, 3, 2, 4]\n",
      "[2, 3, 1, 4]\n",
      "[3, 2, 1, 4]\n",
      "[4, 2, 3, 1]\n",
      "[2, 4, 3, 1]\n",
      "[3, 4, 2, 1]\n",
      "[4, 3, 2, 1]\n",
      "[2, 3, 4, 1]\n",
      "[3, 2, 4, 1]\n",
      "[4, 1, 3, 2]\n",
      "[1, 4, 3, 2]\n",
      "[3, 4, 1, 2]\n",
      "[4, 3, 1, 2]\n",
      "[1, 3, 4, 2]\n",
      "[3, 1, 4, 2]\n",
      "[4, 1, 2, 3]\n",
      "[1, 4, 2, 3]\n",
      "[2, 4, 1, 3]\n",
      "[4, 2, 1, 3]\n",
      "[1, 2, 4, 3]\n",
      "[2, 1, 4, 3]\n"
     ]
    }
   ],
   "source": [
    "seq = [1,2,3,4]\n",
    "heap_permute(len(seq), seq)"
   ]
  },
  {
   "cell_type": "code",
   "execution_count": 73,
   "metadata": {
    "collapsed": true
   },
   "outputs": [],
   "source": [
    "# Time complexity: O(n * 2^n)\n",
    "# Memory complexity: O(n) cause this is generator (generate and forget)\n",
    "# If it wouldn't generator it could be O(2^n*n) lower than example before\n",
    "# Because it case above memory was allocated in a calls tree\n",
    "# So not only at last lever where it's about n*2^n (as many permutations), but at every level before (2^n-1 more)\n",
    "def subsets(s: set):\n",
    "    def subset_by_split(elemments, split):\n",
    "        subset = []\n",
    "        for i, is_in in enumerate(split):\n",
    "            if is_in == 1:\n",
    "                subset.append(elements[i])\n",
    "        return subset\n",
    "    \n",
    "    elements = list(s)\n",
    "    n = len(elements)\n",
    "    split = [0 for i in range(n)]\n",
    "    \n",
    "    while True:\n",
    "        yield subset_by_split(elements, split)\n",
    "        # We can count in any of these 2 directions from 0 or from n\n",
    "        try:\n",
    "            first_zero_idx = split.index(0)\n",
    "        except ValueError:\n",
    "            break # No zeros lasts\n",
    "        \n",
    "        split[first_zero_idx] = 1\n",
    "        for i in range(0, first_zero_idx):\n",
    "            split[i] = 0"
   ]
  },
  {
   "cell_type": "code",
   "execution_count": 74,
   "metadata": {
    "collapsed": false
   },
   "outputs": [
    {
     "name": "stdout",
     "output_type": "stream",
     "text": [
      "[]\n",
      "['m']\n",
      "['b']\n",
      "['m', 'b']\n",
      "['l']\n",
      "['m', 'l']\n",
      "['b', 'l']\n",
      "['m', 'b', 'l']\n",
      "['a']\n",
      "['m', 'a']\n",
      "['b', 'a']\n",
      "['m', 'b', 'a']\n",
      "['l', 'a']\n",
      "['m', 'l', 'a']\n",
      "['b', 'l', 'a']\n",
      "['m', 'b', 'l', 'a']\n"
     ]
    }
   ],
   "source": [
    "for subset in subsets(set('alabama')):\n",
    "    print(subset)"
   ]
  },
  {
   "cell_type": "markdown",
   "metadata": {},
   "source": [
    "### 9.3 Paint Pouring"
   ]
  },
  {
   "cell_type": "code",
   "execution_count": 96,
   "metadata": {
    "collapsed": true
   },
   "outputs": [],
   "source": [
    "import numpy as np\n",
    "from matplotlib import pyplot as plt\n",
    "import random"
   ]
  },
  {
   "cell_type": "code",
   "execution_count": 109,
   "metadata": {
    "collapsed": false
   },
   "outputs": [],
   "source": [
    "# Generate image with splits\n",
    "def get_splitted_image(side_size, splits_count):\n",
    "    image = np.zeros(shape=[n, n])\n",
    "    for split in range(splits_count):\n",
    "        split_color = random.randint(1, 5)\n",
    "        split_idx = random.randint(0, n-1)\n",
    "        horizontally = random.choice([True, False])\n",
    "        if horizontally:\n",
    "            image[split_idx] = split_color\n",
    "        else:\n",
    "            image[:, split_idx] = split_color\n",
    "    return image"
   ]
  },
  {
   "cell_type": "code",
   "execution_count": 110,
   "metadata": {
    "collapsed": false
   },
   "outputs": [
    {
     "data": {
      "image/png": "[encoded data removed]",
      "text/plain": [
       "<matplotlib.figure.Figure at 0x7f4ae5d6e940>"
      ]
     },
     "metadata": {},
     "output_type": "display_data"
    }
   ],
   "source": [
    "image = get_splitted_image(50, 5)\n",
    "plt.imshow(image)\n",
    "plt.show()"
   ]
  },
  {
   "cell_type": "markdown",
   "metadata": {},
   "source": [
    "Fill all of outer space which is in other color  \n",
    "Peek color of a pixel and paint all pixels of this color in given color using recursion"
   ]
  },
  {
   "cell_type": "code",
   "execution_count": 112,
   "metadata": {
    "collapsed": true
   },
   "outputs": [],
   "source": [
    "# helper class of point in matrix\n",
    "class Point:\n",
    "    def __init__(self, i, j):\n",
    "        self.i = i\n",
    "        self.j = j\n",
    "    \n",
    "    def neighbors(self, n):\n",
    "        'n-1 is an upper limit of available space'\n",
    "        points = []\n",
    "        for di in [-1, 0, 1]:\n",
    "            for dj in [-1, 0, 1]:\n",
    "                new_i = self.i - di\n",
    "                new_j = self.j - dj\n",
    "                \n",
    "                if 0 < new_i < n and 0 < new_j < n:\n",
    "                    points.append(Point(new_i, new_j))\n",
    "        return points   "
   ]
  },
  {
   "cell_type": "code",
   "execution_count": 115,
   "metadata": {
    "collapsed": true
   },
   "outputs": [],
   "source": [
    "# naive implementation\n",
    "# for each point some neigbor points are checked more than one time!\n",
    "def fill(image, point, color):\n",
    "    def fill_point(point, old_color, color):\n",
    "        'old_color - initial color of start pixel'\n",
    "        if image[point.i][point.j] == old_color:\n",
    "            image[point.i][point.j] = color\n",
    "            for near_point in point.neighbors(len(image)):\n",
    "                fill_point(near_point, old_color, color)\n",
    "    \n",
    "    old_color = image[point.i, point.j]\n",
    "    fill_point(point, old_color, color)"
   ]
  },
  {
   "cell_type": "code",
   "execution_count": 116,
   "metadata": {
    "collapsed": false
   },
   "outputs": [
    {
     "data": {
      "image/png": "[encoded data removed]",
      "text/plain": [
       "<matplotlib.figure.Figure at 0x7f4ae5aff7f0>"
      ]
     },
     "metadata": {},
     "output_type": "display_data"
    }
   ],
   "source": [
    "# before\n",
    "image = get_splitted_image(50, 5)\n",
    "plt.imshow(image)\n",
    "plt.show()"
   ]
  },
  {
   "cell_type": "code",
   "execution_count": 117,
   "metadata": {
    "collapsed": true
   },
   "outputs": [],
   "source": [
    "fill(image, Point(11, 10), 3)"
   ]
  },
  {
   "cell_type": "code",
   "execution_count": 118,
   "metadata": {
    "collapsed": false
   },
   "outputs": [
    {
     "data": {
      "image/png": "[encoded data removed]",
      "text/plain": [
       "<matplotlib.figure.Figure at 0x7f4ae5a52fd0>"
      ]
     },
     "metadata": {},
     "output_type": "display_data"
    }
   ],
   "source": [
    "# after\n",
    "plt.imshow(image)\n",
    "plt.show()"
   ]
  },
  {
   "cell_type": "code",
   "execution_count": 121,
   "metadata": {
    "collapsed": true
   },
   "outputs": [],
   "source": [
    "fill(image, Point(30, 30), 1)"
   ]
  },
  {
   "cell_type": "code",
   "execution_count": 123,
   "metadata": {
    "collapsed": false
   },
   "outputs": [
    {
     "data": {
      "image/png": "[encoded data removed]",
      "text/plain": [
       "<matplotlib.figure.Figure at 0x7f4ae5ec9780>"
      ]
     },
     "metadata": {},
     "output_type": "display_data"
    }
   ],
   "source": [
    "# after\n",
    "plt.imshow(image)\n",
    "plt.show()"
   ]
  },
  {
   "cell_type": "markdown",
   "metadata": {},
   "source": [
    "### 9.8 Money"
   ]
  },
  {
   "cell_type": "markdown",
   "metadata": {},
   "source": [
    "mem: $O(2^{n+1} - 1)$  \n",
    "time: $O(2^{n+1} + 2^nlog_2n) = O(2^nlog_2n)$  \n",
    "where second term is to add each num of last level of call tree to a set (which is probably a binary tree of search)"
   ]
  },
  {
   "cell_type": "code",
   "execution_count": 3,
   "metadata": {
    "collapsed": true
   },
   "outputs": [],
   "source": [
    "# Don't know how to use dp here\n",
    "# because we don't have relations between different dp[i] and dp[j]\n",
    "# So just a rising recursion\n",
    "# \n",
    "\n",
    "def repr_count(n):\n",
    "    coins = [1, 5, 10, 15]\n",
    "    coins_for_n = set()\n",
    "    \n",
    "    def take_coin(cur_summ, coins_count):\n",
    "        for coin in coins:\n",
    "            new_summ = cur_summ + coin\n",
    "            new_count = coins_count + 1\n",
    "            if new_summ == n:\n",
    "                coins_for_n.add(new_count)    \n",
    "            elif new_summ < n:\n",
    "                take_coin(new_summ, new_count)\n",
    "            elif new_summ > n:\n",
    "                return\n",
    "    \n",
    "    take_coin(0, 0)\n",
    "    return len(coins_for_n)"
   ]
  },
  {
   "cell_type": "code",
   "execution_count": 6,
   "metadata": {
    "collapsed": false
   },
   "outputs": [
    {
     "data": {
      "text/plain": [
       "4"
      ]
     },
     "execution_count": 6,
     "metadata": {},
     "output_type": "execute_result"
    }
   ],
   "source": [
    "repr_count(10)"
   ]
  },
  {
   "cell_type": "code",
   "execution_count": 17,
   "metadata": {
    "collapsed": true
   },
   "outputs": [],
   "source": [
    "# Solution above will fail\n",
    "# Here is the test case (2 different sets of 3 coins with equal summ)\n",
    "# 25 25 5\n",
    "# 25 15 15\n",
    "coins = [1, 5, 10, 25]\n",
    "new_denom = dict(zip(coins[1:], coins[:-1]))\n",
    "\n",
    "def make_change(n, denom):\n",
    "    if denom == 1:\n",
    "        return 1\n",
    "    next_denom = new_denom[denom]\n",
    "    \n",
    "    ways = 0\n",
    "    for denoms_cost in range(0, n+1, denom):\n",
    "        ways += make_change(n-denoms_cost, next_denom)\n",
    "    \n",
    "    return ways"
   ]
  },
  {
   "cell_type": "code",
   "execution_count": 18,
   "metadata": {
    "collapsed": false
   },
   "outputs": [
    {
     "data": {
      "text/plain": [
       "4"
      ]
     },
     "execution_count": 18,
     "metadata": {},
     "output_type": "execute_result"
    }
   ],
   "source": [
    "make_change(10, coins[-1])"
   ]
  },
  {
   "cell_type": "code",
   "execution_count": 9,
   "metadata": {
    "collapsed": false
   },
   "outputs": [
    {
     "data": {
      "text/plain": [
       "{5: 1, 10: 5, 25: 10}"
      ]
     },
     "execution_count": 9,
     "metadata": {},
     "output_type": "execute_result"
    }
   ],
   "source": [
    "new_denom"
   ]
  },
  {
   "cell_type": "markdown",
   "metadata": {},
   "source": [
    "### 9.9 queens placement"
   ]
  },
  {
   "cell_type": "markdown",
   "metadata": {},
   "source": [
    "mem: $complexity = n + n!$ (due to recursion stack length) $O(n!)$  \n",
    "time: $O(n!\\, n^2$(due to position check)$)$"
   ]
  },
  {
   "cell_type": "code",
   "execution_count": 69,
   "metadata": {
    "collapsed": true
   },
   "outputs": [],
   "source": [
    "# До сих пор не понимаю строк 8 и 10\n",
    "# todo буду коцать его и разберу в конце концов\n",
    "def heap_permute(n, A):\n",
    "    if n == 1:\n",
    "        yield A\n",
    "    else:\n",
    "        for i in range(n):\n",
    "            yield from heap_permute(n-1, A)\n",
    "            if n % 2 != 0:\n",
    "                A[0], A[n-1] = A[n-1], A[0]\n",
    "            else:\n",
    "                A[i], A[n-1] = A[n-1], A[i]"
   ]
  },
  {
   "cell_type": "code",
   "execution_count": 62,
   "metadata": {
    "collapsed": false
   },
   "outputs": [],
   "source": [
    "import numpy as np\n",
    "\n",
    "def check_placement(queens):\n",
    "    for v, h in enumerate(queens):\n",
    "        for o_v, o_h in enumerate(queens):\n",
    "            if v != o_v:\n",
    "                dv, dh = o_v - v, o_h - h\n",
    "                beaten_on_diagonal = abs(dv) == abs(dh)\n",
    "                if beaten_on_diagonal:\n",
    "                    return False\n",
    "    return True\n",
    "\n",
    "# Nice idea is to draw lines of queens danger\n",
    "def print_placement(queens):\n",
    "    n = len(queens)\n",
    "    for h in range(n):\n",
    "        for v in range(n):\n",
    "            if v == queens[h]:\n",
    "                print('Q', end='')\n",
    "            else:\n",
    "                print(' ', end='')\n",
    "        print(' ')\n",
    "    print()\n",
    "    \n",
    "\n",
    "def queens_safe_placements(n):\n",
    "    # Index is a vertical, value is a horizontal\n",
    "    queens = list(range(n))\n",
    "    placements_count = 0\n",
    "    \n",
    "    # placement is a safe on verticals and horizontals\n",
    "    # but not always on diagonals\n",
    "    for queens_placement in heap_permute(n, queens):\n",
    "        good_placement = check_placement(queens_placement)\n",
    "        if good_placement:\n",
    "            print_placement(queens) # or yield\n",
    "            placements_count += 1\n",
    "            \n",
    "    return placements_count"
   ]
  },
  {
   "cell_type": "code",
   "execution_count": 41,
   "metadata": {
    "collapsed": true
   },
   "outputs": [],
   "source": [
    "def test_placement(queens):\n",
    "    print(\"Is placement {} is good? {}\".format(queens, \n",
    "                                               check_placement(queens)))\n",
    "    print_placement(queens)"
   ]
  },
  {
   "cell_type": "code",
   "execution_count": 63,
   "metadata": {
    "collapsed": false
   },
   "outputs": [
    {
     "name": "stdout",
     "output_type": "stream",
     "text": [
      "Is placement [0, 1, 2, 3] is good? False\n",
      "Q    \n",
      " Q   \n",
      "  Q  \n",
      "   Q \n",
      "\n",
      "Is placement [2, 0, 3, 1] is good? True\n",
      "  Q  \n",
      "Q    \n",
      "   Q \n",
      " Q   \n",
      "\n"
     ]
    }
   ],
   "source": [
    "bad_placement = [0,1,2,3]\n",
    "good_placement = [2,0,3,1]\n",
    "\n",
    "test_placement(bad_placement)\n",
    "test_placement(good_placement)"
   ]
  },
  {
   "cell_type": "code",
   "execution_count": 68,
   "metadata": {
    "collapsed": false
   },
   "outputs": [
    {
     "name": "stdout",
     "output_type": "stream",
     "text": [
      "  Q  \n",
      "Q    \n",
      "   Q \n",
      " Q   \n",
      "\n",
      " Q   \n",
      "   Q \n",
      "Q    \n",
      "  Q  \n",
      "\n"
     ]
    },
    {
     "data": {
      "text/plain": [
       "2"
      ]
     },
     "execution_count": 68,
     "metadata": {},
     "output_type": "execute_result"
    }
   ],
   "source": [
    "queens_safe_placements(4)"
   ]
  },
  {
   "cell_type": "markdown",
   "metadata": {},
   "source": [
    "### 9.10 Stacks of boxes"
   ]
  },
  {
   "cell_type": "markdown",
   "metadata": {},
   "source": [
    "Я заметил несколько вариантов решения в зависимости от трактовки условия  \n",
    "Самое привлекательное - когда ящики нельзя поворачивать и можно ставить начиная сверху"
   ]
  },
  {
   "cell_type": "code",
   "execution_count": 28,
   "metadata": {
    "collapsed": true
   },
   "outputs": [],
   "source": [
    "class Box:\n",
    "    'h is the third dimension'\n",
    "    def __init__(self, w, d, h):\n",
    "        self.w = w\n",
    "        self.d = d\n",
    "        self.h = h\n",
    "    \n",
    "    def __repr__(self):\n",
    "        return f'[width: {self.w}, depth: {self.d}, height: {self.h}]'"
   ]
  },
  {
   "cell_type": "code",
   "execution_count": 42,
   "metadata": {
    "collapsed": true
   },
   "outputs": [],
   "source": [
    "def make_stack(boxes):\n",
    "    boxes.sort(key=lambda b: b.w) # O(nlogn)\n",
    "    boxes.sort(key=lambda b: b.d)\n",
    "    boxes_stack = [boxes[0]]\n",
    "    prev_box = boxes[0]\n",
    "    for box in boxes[1:]: # Build from top (shoose smallest)\n",
    "        if prev_box < box:\n",
    "            boxes_stack.insert(0, box)\n",
    "            prev_box = box\n",
    "        \n",
    "    return list(reversed(boxes_stack))"
   ]
  },
  {
   "cell_type": "code",
   "execution_count": 43,
   "metadata": {
    "collapsed": false
   },
   "outputs": [
    {
     "data": {
      "text/plain": [
       "[[width: 1, depth: 1, height: 100], [width: 2, depth: 3, height: 30]]"
      ]
     },
     "execution_count": 43,
     "metadata": {},
     "output_type": "execute_result"
    }
   ],
   "source": [
    "boxes = [Box(1,10,2), Box(2,3, 30), Box(30, 1, 10), Box(1, 1, 100)]\n",
    "\n",
    "make_stack(boxes)"
   ]
  },
  {
   "cell_type": "markdown",
   "metadata": {},
   "source": [
    "Вышло не так красиво как предпологалось. Была заминка в сортировке.  \n",
    "Так решение около n log n.  "
   ]
  },
  {
   "cell_type": "markdown",
   "metadata": {},
   "source": [
    "### 9.11 Logic operations"
   ]
  },
  {
   "cell_type": "code",
   "execution_count": 60,
   "metadata": {
    "collapsed": false
   },
   "outputs": [],
   "source": [
    "ops = [\n",
    "    #x  y  ^  &  |\n",
    "    [0, 0, 0, 0, 0],\n",
    "    [0, 1, 1, 0, 1],\n",
    "    [1, 0, 1, 0, 1],\n",
    "    [1, 1, 0, 1, 1]\n",
    "]\n",
    "\n",
    "op_col = {'^': 2, '&': 3, '|': 4}\n",
    "\n",
    "def f(expr, res):\n",
    "    global ops, op_col\n",
    "    # 1 operand (0 or 1)\n",
    "    if len(expr) == 1:\n",
    "        if int(expr) == res:\n",
    "            return 1\n",
    "        else:\n",
    "            return 0\n",
    "    \n",
    "    ways_cnt = 0\n",
    "    for i in range(1, len(expr), 2):\n",
    "        op = expr[i]\n",
    "        lexpr = expr[:i]\n",
    "        rexpr = expr[i+1:] \n",
    "         \n",
    "        for i in range(4):\n",
    "            cur_res = ops[i][op_col[op]]\n",
    "            if cur_res == res:\n",
    "                lres = ops[i][0]\n",
    "                rres = ops[i][1]\n",
    "                ways_cnt += f(lexpr, lres) * f(rexpr, rres)\n",
    "\n",
    "    return ways_cnt"
   ]
  },
  {
   "cell_type": "code",
   "execution_count": 54,
   "metadata": {
    "collapsed": false
   },
   "outputs": [
    {
     "data": {
      "text/plain": [
       "2"
      ]
     },
     "execution_count": 54,
     "metadata": {},
     "output_type": "execute_result"
    }
   ],
   "source": [
    "f('1^0|0|1', 0)"
   ]
  },
  {
   "cell_type": "markdown",
   "metadata": {},
   "source": [
    "Playing with memorization"
   ]
  },
  {
   "cell_type": "code",
   "execution_count": 38,
   "metadata": {
    "collapsed": true
   },
   "outputs": [],
   "source": [
    "def fn(*args):\n",
    "    print(args)\n",
    "    print(type(args))"
   ]
  },
  {
   "cell_type": "code",
   "execution_count": 39,
   "metadata": {
    "collapsed": false
   },
   "outputs": [
    {
     "name": "stdout",
     "output_type": "stream",
     "text": [
      "('a', 5)\n",
      "<class 'tuple'>\n"
     ]
    }
   ],
   "source": [
    "fn('a', 5)"
   ]
  },
  {
   "cell_type": "code",
   "execution_count": 68,
   "metadata": {
    "collapsed": true
   },
   "outputs": [],
   "source": [
    "class Memoize:\n",
    "    def __init__(self, fn):\n",
    "        self.fn = fn\n",
    "        self.memo = {}\n",
    "    def __call__(self, *args):\n",
    "        if args not in self.memo:\n",
    "            self.memo[args] = self.fn(*args)\n",
    "        return self.memo[args]"
   ]
  },
  {
   "cell_type": "code",
   "execution_count": 66,
   "metadata": {
    "collapsed": true
   },
   "outputs": [],
   "source": [
    "def memorize(func):\n",
    "    expr_hash = {}\n",
    "    \n",
    "    def helper(expr, res):\n",
    "        key = f'{expr}={res}'\n",
    "        if key not in expr_hash:\n",
    "            expr_hash[key] = func(expr, res)\n",
    "        return expr_hash[key]\n",
    "    return helper"
   ]
  },
  {
   "cell_type": "code",
   "execution_count": 47,
   "metadata": {
    "collapsed": true
   },
   "outputs": [],
   "source": [
    "df_f = memorize(f) # will not work because only last iteration will be cached"
   ]
  },
  {
   "cell_type": "code",
   "execution_count": 62,
   "metadata": {
    "collapsed": false
   },
   "outputs": [],
   "source": [
    "f = memorize(f) # T"
   ]
  },
  {
   "cell_type": "code",
   "execution_count": 65,
   "metadata": {
    "collapsed": false
   },
   "outputs": [
    {
     "name": "stdout",
     "output_type": "stream",
     "text": [
      "I was called!\n",
      "I was called!\n",
      "I was called!\n",
      "I was called!\n",
      "I was called!\n",
      "I was called!\n",
      "I was called!\n"
     ]
    },
    {
     "data": {
      "text/plain": [
       "1"
      ]
     },
     "execution_count": 65,
     "metadata": {},
     "output_type": "execute_result"
    }
   ],
   "source": [
    "f('1^0|1', 0)"
   ]
  }
 ],
 "metadata": {
  "anaconda-cloud": {},
  "kernelspec": {
   "display_name": "Python [conda env:py_36]",
   "language": "python",
   "name": "conda-env-py_36-py"
  },
  "language_info": {
   "codemirror_mode": {
    "name": "ipython",
    "version": 3
   },
   "file_extension": ".py",
   "mimetype": "text/x-python",
   "name": "python",
   "nbconvert_exporter": "python",
   "pygments_lexer": "ipython3",
   "version": "3.6.2"
  }
 },
 "nbformat": 4,
 "nbformat_minor": 1
}
