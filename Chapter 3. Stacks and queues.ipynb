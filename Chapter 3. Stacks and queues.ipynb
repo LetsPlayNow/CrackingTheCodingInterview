{
 "cells": [
  {
   "cell_type": "markdown",
   "metadata": {},
   "source": [
    "# Cracking the code interview"
   ]
  },
  {
   "cell_type": "markdown",
   "metadata": {},
   "source": [
    "## Stacks and queues"
   ]
  },
  {
   "cell_type": "markdown",
   "metadata": {},
   "source": [
    "### Stack"
   ]
  },
  {
   "cell_type": "code",
   "execution_count": 6,
   "metadata": {
    "collapsed": false
   },
   "outputs": [],
   "source": [
    "# Stack\n",
    "class Stack:  \n",
    "    class Node:\n",
    "        def __init__(self, data):\n",
    "            self.data = data\n",
    "            self.next = None\n",
    "\n",
    "        def __repr__(self):\n",
    "            return \"[{}] > {}\".format(self.data, self.next)\n",
    "            \n",
    "    def __init__(self):\n",
    "        self.length = 0\n",
    "        self.root = None\n",
    "    \n",
    "    def push(self, item):\n",
    "        new_root = Stack.Node(item)\n",
    "        new_root.next = self.root\n",
    "        self.root = new_root     \n",
    "        self.length += 1\n",
    "    \n",
    "    def pop(self):\n",
    "        if self.root is None:\n",
    "            return None\n",
    "        else:\n",
    "            item = self.root\n",
    "            self.root = self.root.next\n",
    "            self.length -= 1\n",
    "            return item.data\n",
    "    \n",
    "    def top(self):\n",
    "        if self.root is None:\n",
    "            return None\n",
    "        else:\n",
    "            return self.root.data\n",
    "        \n",
    "    def is_empty(self):\n",
    "        return self.length == 0\n",
    "        \n",
    "    def __repr__(self):\n",
    "        return str(self.root)"
   ]
  },
  {
   "cell_type": "code",
   "execution_count": 34,
   "metadata": {
    "collapsed": false
   },
   "outputs": [
    {
     "name": "stdout",
     "output_type": "stream",
     "text": [
      "[4] > [3] > [2] > [1] > None\n",
      "4\n",
      "3\n",
      "2\n",
      "1\n",
      "None\n",
      "None\n",
      "None\n"
     ]
    }
   ],
   "source": [
    "s = Stack()\n",
    "s.push(1)\n",
    "s.push(2)\n",
    "s.push(3)\n",
    "s.push(4)\n",
    "print(s)\n",
    "for i in range(6):\n",
    "    print(s.pop()) \n",
    "print(s)"
   ]
  },
  {
   "cell_type": "markdown",
   "metadata": {},
   "source": [
    "### Queue"
   ]
  },
  {
   "cell_type": "code",
   "execution_count": 48,
   "metadata": {
    "collapsed": true
   },
   "outputs": [],
   "source": [
    "class Queue:\n",
    "    class Node:\n",
    "        def __init__(self, data):\n",
    "            self.data = data\n",
    "            self.next = None\n",
    "            \n",
    "        def __repr__(self):\n",
    "            return \"[{}] > {}\".format(self.data, self.next)\n",
    "    \n",
    "    def __init__(self):\n",
    "        self.first = None\n",
    "        self.last = None\n",
    "    \n",
    "    def enqueue(self, item):\n",
    "        if self.first is None:\n",
    "            self.last = Queue.Node(item)\n",
    "            self.first = self.last\n",
    "        else:\n",
    "            self.last.next = Queue.Node(item)\n",
    "            self.last = self.last.next\n",
    "    \n",
    "    def dequeue(self):\n",
    "        if self.first is not None:\n",
    "            item = self.first.data\n",
    "            self.first = self.first.next\n",
    "            return item\n",
    "        return None\n",
    "    \n",
    "    def __repr__(self):\n",
    "        return str(self.first)"
   ]
  },
  {
   "cell_type": "code",
   "execution_count": 50,
   "metadata": {
    "collapsed": false
   },
   "outputs": [
    {
     "name": "stdout",
     "output_type": "stream",
     "text": [
      "15\n"
     ]
    },
    {
     "data": {
      "text/plain": [
       "[11] > None"
      ]
     },
     "execution_count": 50,
     "metadata": {},
     "output_type": "execute_result"
    }
   ],
   "source": [
    "q = Queue()\n",
    "q.enqueue(15)\n",
    "q.enqueue(11)\n",
    "print(q.dequeue())\n",
    "q"
   ]
  },
  {
   "cell_type": "markdown",
   "metadata": {},
   "source": [
    "### Set of stacks"
   ]
  },
  {
   "cell_type": "code",
   "execution_count": 12,
   "metadata": {
    "collapsed": true
   },
   "outputs": [],
   "source": [
    "class SetOfStacks:\n",
    "    def __init__(self, stack_limit):\n",
    "        self.stack_limit = stack_limit\n",
    "        self.stacks = [Stack()]\n",
    "    \n",
    "    def push(self, item):\n",
    "        if not self.stacks or self.stacks[-1].length == self.stack_limit:\n",
    "            self.stacks.append(Stack())\n",
    "        self.stacks[-1].push(item)\n",
    "    \n",
    "    def pop(self):\n",
    "        if self.stacks:\n",
    "            data = self.stacks[-1].pop()\n",
    "            if self.stacks[-1].length == 0:\n",
    "                del self.stacks[-1]\n",
    "            return data\n",
    "    \n",
    "    def popAt(self, index):\n",
    "        data = None\n",
    "        if len(self.stacks) > index:\n",
    "            data = self.stacks[index].pop()\n",
    "        return data\n",
    "    \n",
    "    def __repr__(self):\n",
    "        return str(self.stacks)"
   ]
  },
  {
   "cell_type": "code",
   "execution_count": 13,
   "metadata": {
    "collapsed": false
   },
   "outputs": [
    {
     "name": "stdout",
     "output_type": "stream",
     "text": [
      "[[2] > [1] > [0] > None, [5] > [4] > [3] > None, [8] > [7] > [6] > None, [11] > [10] > [9] > None, [14] > [13] > [12] > None]\n",
      "(14,)\n",
      "(13,)\n",
      "(12,)\n",
      "(11,)\n",
      "(10,)\n",
      "(9,)\n",
      "(8,)\n",
      "(7,)\n",
      "(6,)\n",
      "(5,)\n",
      "(4,)\n",
      "(3,)\n",
      "(2,)\n",
      "(1,)\n",
      "[[0] > None]\n"
     ]
    }
   ],
   "source": [
    "ss = SetOfStacks(3)\n",
    "for i in range(15):\n",
    "    ss.push(i)\n",
    "\n",
    "print(ss)\n",
    "for i in range(14):\n",
    "    print(ss.pop(), )\n",
    "\n",
    "print(ss)"
   ]
  },
  {
   "cell_type": "markdown",
   "metadata": {},
   "source": [
    "### Stack with min"
   ]
  },
  {
   "cell_type": "code",
   "execution_count": 47,
   "metadata": {
    "collapsed": true
   },
   "outputs": [],
   "source": [
    "class StackWithMin(Stack):\n",
    "    def __init__(self):\n",
    "        Stack.__init__(self)\n",
    "        self.minimums = Stack()\n",
    "    \n",
    "    def push(self, item):\n",
    "        Stack.push(self, item)\n",
    "        \n",
    "        last_minimum = self.minimums.top()\n",
    "        if last_minimum is None or item <= last_minimum:\n",
    "            self.minimums.push(item)\n",
    "    \n",
    "    def pop(self):\n",
    "        item = Stack.pop(self)\n",
    "        if self.minimums.top() == item:\n",
    "            self.minimums.pop()\n",
    "        return item\n",
    "    \n",
    "    def minimum(self):\n",
    "        return self.minimums.top()"
   ]
  },
  {
   "cell_type": "code",
   "execution_count": 48,
   "metadata": {
    "collapsed": true
   },
   "outputs": [],
   "source": [
    "s = StackWithMin()"
   ]
  },
  {
   "cell_type": "code",
   "execution_count": 49,
   "metadata": {
    "collapsed": false
   },
   "outputs": [
    {
     "name": "stdout",
     "output_type": "stream",
     "text": [
      "15\n"
     ]
    }
   ],
   "source": [
    "s.push(15)\n",
    "print(s.minimum())"
   ]
  },
  {
   "cell_type": "code",
   "execution_count": 59,
   "metadata": {
    "collapsed": false
   },
   "outputs": [
    {
     "name": "stdout",
     "output_type": "stream",
     "text": [
      "2\n"
     ]
    }
   ],
   "source": [
    "for i in range(10):\n",
    "    s.push(2)\n",
    "print(s.minimum())"
   ]
  },
  {
   "cell_type": "code",
   "execution_count": 60,
   "metadata": {
    "collapsed": false
   },
   "outputs": [
    {
     "name": "stdout",
     "output_type": "stream",
     "text": [
      "2\n"
     ]
    }
   ],
   "source": [
    "for i in range(6):\n",
    "    s.pop()\n",
    "print(s.minimum())"
   ]
  },
  {
   "cell_type": "code",
   "execution_count": 62,
   "metadata": {
    "collapsed": false
   },
   "outputs": [],
   "source": [
    "s.push(-1)"
   ]
  },
  {
   "cell_type": "code",
   "execution_count": 64,
   "metadata": {
    "collapsed": false
   },
   "outputs": [
    {
     "data": {
      "text/plain": [
       "-1"
      ]
     },
     "execution_count": 64,
     "metadata": {},
     "output_type": "execute_result"
    }
   ],
   "source": [
    "s.minimum()"
   ]
  },
  {
   "cell_type": "code",
   "execution_count": 65,
   "metadata": {
    "collapsed": false
   },
   "outputs": [
    {
     "data": {
      "text/plain": [
       "2"
      ]
     },
     "execution_count": 65,
     "metadata": {},
     "output_type": "execute_result"
    }
   ],
   "source": [
    "s.pop()\n",
    "s.pop()"
   ]
  },
  {
   "cell_type": "code",
   "execution_count": 66,
   "metadata": {
    "collapsed": false
   },
   "outputs": [
    {
     "data": {
      "text/plain": [
       "2"
      ]
     },
     "execution_count": 66,
     "metadata": {},
     "output_type": "execute_result"
    }
   ],
   "source": [
    "s.minimum()"
   ]
  },
  {
   "cell_type": "code",
   "execution_count": 8,
   "metadata": {
    "collapsed": true
   },
   "outputs": [],
   "source": [
    "class Node:\n",
    "    def __init__(self, value):\n",
    "        self.next = None\n",
    "        self.value = value\n",
    "    \n",
    "    def __repr__(self):\n",
    "        return \"[{}] > {}\".format(self.value, self.next)\n",
    "    \n",
    "class Stack:\n",
    "    def __init__(self):\n",
    "        self.root = None\n",
    "        self.length = 0\n",
    "    \n",
    "    def push(self, value):\n",
    "        new_root = Node(value)    \n",
    "        new_root.next = self.root\n",
    "        self.root = new_root\n",
    "        self.length += 1\n",
    "    \n",
    "    def pop(self):\n",
    "        if self.root is not None:\n",
    "            value = self.root.value\n",
    "            self.root = self.root.next\n",
    "            self.length -= 1\n",
    "            return value\n",
    "        \n",
    "    def peek(self):\n",
    "        if self.root is not None:\n",
    "            return self.root.value\n",
    "        \n",
    "    def is_empty(self):\n",
    "        return self.length == 0\n",
    "    \n",
    "    def __repr__(self):\n",
    "        return str(self.root)"
   ]
  },
  {
   "cell_type": "code",
   "execution_count": 4,
   "metadata": {
    "collapsed": false
   },
   "outputs": [
    {
     "name": "stdout",
     "output_type": "stream",
     "text": [
      "13\n",
      "[15] > None\n"
     ]
    }
   ],
   "source": [
    "s = Stack()\n",
    "s.push(15)\n",
    "s.push(13)\n",
    "print(s.pop())\n",
    "print(s)"
   ]
  },
  {
   "cell_type": "code",
   "execution_count": 6,
   "metadata": {
    "collapsed": true
   },
   "outputs": [],
   "source": [
    "class QueueOnStacks:\n",
    "    def __init__(self):\n",
    "        self.main_stack = Stack()\n",
    "        self.support_stack = Stack()\n",
    "    def enqueue(self, value):\n",
    "        self.main_stack.push(value)\n",
    "        \n",
    "    def dequeue(self):\n",
    "        while not self.main_stack.is_empty():\n",
    "            value = self.main_stack.pop()\n",
    "            self.support_stack.push(value)\n",
    "        first_value = self.support_stack.pop()\n",
    "        \n",
    "        while not self.support_stack.is_empty():\n",
    "            value = self.support_stack.pop()\n",
    "            self.main_stack.push(value)\n",
    "        return first_value\n",
    "    \n",
    "    def __repr__(self):\n",
    "        return str(self.main_stack)"
   ]
  },
  {
   "cell_type": "code",
   "execution_count": 7,
   "metadata": {
    "collapsed": false
   },
   "outputs": [
    {
     "name": "stdout",
     "output_type": "stream",
     "text": [
      "[14] > [13] > [12] > [11] > [10] > [9] > [8] > [7] > [6] > [5] > [4] > [3] > [2] > [1] > [0] > None\n",
      "0\n",
      "1\n",
      "2\n",
      "3\n",
      "4\n",
      "5\n",
      "6\n",
      "7\n",
      "8\n",
      "9\n",
      "10\n",
      "11\n",
      "12\n",
      "13\n",
      "14\n",
      "None\n",
      "None\n"
     ]
    }
   ],
   "source": [
    "my_queue = QueueOnStacks()\n",
    "for i in range(15):\n",
    "    my_queue.enqueue(i)\n",
    "print(my_queue)\n",
    "\n",
    "for i in range(16):\n",
    "    value = my_queue.dequeue()\n",
    "    print(value)\n",
    "print(my_queue)\n",
    "    "
   ]
  },
  {
   "cell_type": "markdown",
   "metadata": {
    "collapsed": true
   },
   "source": [
    "### Sort of Stack"
   ]
  },
  {
   "cell_type": "code",
   "execution_count": 77,
   "metadata": {
    "collapsed": false
   },
   "outputs": [],
   "source": [
    "# A little bit later optimize it\n",
    "def sort(stack):\n",
    "    temp = Stack()\n",
    "    n = stack.length\n",
    "    for i in range(n):\n",
    "        min_el = stack.peek()\n",
    "        for j in range(n - i):\n",
    "            next_el = stack.pop()\n",
    "            min_el = min(min_el, next_el)\n",
    "            temp.push(next_el)\n",
    "          \n",
    "        stack.push(min_el)\n",
    "        was_min_el = False  \n",
    "        for j in range(n - i):\n",
    "            next_el = temp.pop()\n",
    "            if next_el == min_el and not was_min_el:\n",
    "                was_min_el = True\n",
    "            else:\n",
    "                stack.push(next_el)"
   ]
  },
  {
   "cell_type": "code",
   "execution_count": 75,
   "metadata": {
    "collapsed": true
   },
   "outputs": [],
   "source": [
    "s = Stack()"
   ]
  },
  {
   "cell_type": "code",
   "execution_count": 16,
   "metadata": {
    "collapsed": true
   },
   "outputs": [],
   "source": [
    "from random import randint"
   ]
  },
  {
   "cell_type": "code",
   "execution_count": 76,
   "metadata": {
    "collapsed": false
   },
   "outputs": [
    {
     "name": "stdout",
     "output_type": "stream",
     "text": [
      "[6] > [11] > [13] > [8] > [6] > [13] > [5] > [2] > [6] > [15] > [9] > [3] > [13] > [0] > [6] > [3] > [8] > [14] > [5] > [6] > [8] > [2] > [6] > [10] > [2] > [14] > [8] > [4] > [5] > [13] > None\n",
      "[15] > [14] > [14] > [13] > [13] > [13] > [13] > [11] > [10] > [9] > [8] > [8] > [8] > [8] > [6] > [6] > [6] > [6] > [6] > [6] > [5] > [5] > [5] > [4] > [3] > [3] > [2] > [2] > [2] > [0] > None\n"
     ]
    }
   ],
   "source": [
    "for i in range(30):\n",
    "    s.push(randint(0, 15))\n",
    "print(s)\n",
    "sort(s)\n",
    "print(s)"
   ]
  },
  {
   "cell_type": "markdown",
   "metadata": {},
   "source": [
    "### Cats and Dogs"
   ]
  },
  {
   "cell_type": "code",
   "execution_count": 137,
   "metadata": {
    "collapsed": true
   },
   "outputs": [],
   "source": [
    "class Animal(object):\n",
    "    def __init__(self, name):\n",
    "        self.name = name\n",
    "        \n",
    "    def __repr__(self):\n",
    "        return self.name\n",
    "\n",
    "class Dog(Animal):\n",
    "    def __init__(self, name):\n",
    "        Animal.__init__(self, name)\n",
    "\n",
    "class Cat(Animal):\n",
    "    def __init__(self, name):\n",
    "        Animal.__init__(self, name)"
   ]
  },
  {
   "cell_type": "code",
   "execution_count": 164,
   "metadata": {
    "collapsed": true
   },
   "outputs": [],
   "source": [
    "class LinkedList:\n",
    "    class Node:\n",
    "        def __init__(self, value):\n",
    "            self.next = None\n",
    "            self.value = value\n",
    "        def __repr__(self):\n",
    "            return \"[{}] > {}\".format(self.value, self.next)\n",
    "        \n",
    "    def __init__(self):\n",
    "        self.head = None\n",
    "        self.length = 0\n",
    "    \n",
    "    def AddLast(self, value):\n",
    "        new_tail = LinkedList.Node(value)\n",
    "        self.length += 1\n",
    "        \n",
    "        if self.head is None:\n",
    "            self.head = new_tail\n",
    "            return\n",
    "          \n",
    "        current = self.head\n",
    "        while current.next is not None:\n",
    "            current = current.next\n",
    "        \n",
    "        current.next = new_tail\n",
    "              \n",
    "    def AddFirst(self, value):\n",
    "        new_head = LinkedList.Node(value)\n",
    "        self.length += 1\n",
    "        \n",
    "        if self.head is None:\n",
    "            self.head = new_node\n",
    "            return\n",
    "        \n",
    "        new_node.next = self.head\n",
    "        self.head = new_node\n",
    "        \n",
    "    def GetFirst(self):\n",
    "        if self.head is not None:\n",
    "            return self.head.value\n",
    "    \n",
    "    def GetLast(self):\n",
    "        if self.head is not None:\n",
    "            current = self.head\n",
    "            while current.next is not None:\n",
    "                current = current.next\n",
    "            return current.value\n",
    "        \n",
    "    def Remove(self, value):\n",
    "        if self.head is None:\n",
    "            return\n",
    "        elif self.head.value == value:\n",
    "            self.head = self.head.next\n",
    "            return\n",
    "        \n",
    "        self.length -= 1\n",
    "        current = self.head\n",
    "        while current.next is not None:\n",
    "            if current.next.value == value:\n",
    "                current.next = current.next.next\n",
    "                break\n",
    "            current = current.next\n",
    "            \n",
    "    def RemoveFirst(self):\n",
    "        if self.head is None:\n",
    "            return\n",
    "        \n",
    "        head_value = self.GetFirst()\n",
    "        self.Remove(head_value)\n",
    "        return head_value\n",
    "    \n",
    "    def IsEmpty(self):\n",
    "        return self.head is None\n",
    "    \n",
    "    def __repr__(self):\n",
    "        return str(self.head)"
   ]
  },
  {
   "cell_type": "code",
   "execution_count": 165,
   "metadata": {
    "collapsed": true
   },
   "outputs": [],
   "source": [
    "import random"
   ]
  },
  {
   "cell_type": "code",
   "execution_count": 166,
   "metadata": {
    "collapsed": true
   },
   "outputs": [],
   "source": [
    "class AnimalsQueue:\n",
    "    def __init__(self):\n",
    "        self.dogs_list = LinkedList()\n",
    "        self.cats_list = LinkedList()\n",
    "    \n",
    "    def enqueue(self, animal):\n",
    "        if type(animal) is Cat:\n",
    "            self.cats_list.AddLast(animal)\n",
    "        elif type(animal) is Dog:\n",
    "            self.dogs_list.AddLast(animal)\n",
    "    \n",
    "    def dequeueAny(self):   \n",
    "        if not self.cats_list.IsEmpty():\n",
    "            return self.dequeueCat()\n",
    "        elif not self.dogs_list.IsEmpty():\n",
    "            return self.dequeueDog()\n",
    "    \n",
    "    def dequeueCat(self):\n",
    "        return self.cats_list.RemoveFirst()\n",
    "    \n",
    "    def dequeueDog(self):\n",
    "        return self.dogs_list.RemoveFirst()\n",
    "    \n",
    "    def __repr__(self):\n",
    "        return \"[{}] | [{}]\".format(self.cats_list, self.dogs_list)"
   ]
  },
  {
   "cell_type": "code",
   "execution_count": 167,
   "metadata": {
    "collapsed": false
   },
   "outputs": [
    {
     "name": "stdout",
     "output_type": "stream",
     "text": [
      "[[Mickey] > [Ary] > None] | [[Bobby] > [Samuel] > None]\n"
     ]
    }
   ],
   "source": [
    "animal_shelter = AnimalsQueue()\n",
    "animal_shelter.enqueue(Dog(\"Bobby\"))\n",
    "animal_shelter.enqueue(Cat(\"Mickey\"))\n",
    "animal_shelter.enqueue(Dog(\"Samuel\"))\n",
    "animal_shelter.enqueue(Cat(\"Ary\"))\n",
    "\n",
    "print(animal_shelter)"
   ]
  },
  {
   "cell_type": "code",
   "execution_count": 168,
   "metadata": {
    "collapsed": false
   },
   "outputs": [
    {
     "name": "stdout",
     "output_type": "stream",
     "text": [
      "Mickey\n",
      "Bobby\n",
      "Ary\n",
      "None\n",
      "[None] | [[Samuel] > None]\n"
     ]
    }
   ],
   "source": [
    "print(animal_shelter.dequeueCat())\n",
    "print(animal_shelter.dequeueDog())\n",
    "\n",
    "for i in range(2):\n",
    "    print(animal_shelter.dequeueCat())\n",
    "    \n",
    "print(animal_shelter)"
   ]
  },
  {
   "cell_type": "code",
   "execution_count": 135,
   "metadata": {
    "collapsed": false
   },
   "outputs": [],
   "source": [
    "c = Cat(\"Ary\")"
   ]
  },
  {
   "cell_type": "code",
   "execution_count": 136,
   "metadata": {
    "collapsed": false
   },
   "outputs": [
    {
     "data": {
      "text/plain": [
       "instance"
      ]
     },
     "execution_count": 136,
     "metadata": {},
     "output_type": "execute_result"
    }
   ],
   "source": [
    "type(c)"
   ]
  },
  {
   "cell_type": "markdown",
   "metadata": {},
   "source": [
    "https://stackoverflow.com/questions/6666856/why-does-typemyfield-return-type-instance-and-not-type-field"
   ]
  }
 ],
 "metadata": {
  "anaconda-cloud": {},
  "kernelspec": {
   "display_name": "Python [conda env:py_36]",
   "language": "python",
   "name": "conda-env-py_36-py"
  },
  "language_info": {
   "codemirror_mode": {
    "name": "ipython",
    "version": 3
   },
   "file_extension": ".py",
   "mimetype": "text/x-python",
   "name": "python",
   "nbconvert_exporter": "python",
   "pygments_lexer": "ipython3",
   "version": "3.6.2"
  }
 },
 "nbformat": 4,
 "nbformat_minor": 1
}
