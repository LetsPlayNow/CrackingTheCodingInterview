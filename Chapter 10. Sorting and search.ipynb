{
 "cells": [
  {
   "cell_type": "markdown",
   "metadata": {},
   "source": [
    "# 10. Sorting and search"
   ]
  },
  {
   "cell_type": "markdown",
   "metadata": {},
   "source": [
    "## Bubble sort"
   ]
  },
  {
   "cell_type": "code",
   "execution_count": 22,
   "metadata": {
    "collapsed": true
   },
   "outputs": [],
   "source": [
    "# Fun implementation\n",
    "# Good:\n",
    "# + end when no swaps (if sorted, then return)\n",
    "# - check n elements each iteration (last of them are sorted already)\n",
    "def bubble_sort(a):\n",
    "    was_swap = True\n",
    "    while was_swap:\n",
    "        was_swap = False\n",
    "        for i in range(1, len(a)):\n",
    "            if a[i-1] > a[i]:\n",
    "                a[i-1], a[i] = a[i], a[i-1]\n",
    "                was_swap = True\n",
    "    return a"
   ]
  },
  {
   "cell_type": "code",
   "execution_count": 12,
   "metadata": {
    "collapsed": true
   },
   "outputs": [],
   "source": [
    "# better implementation\n",
    "# second dimension of algo is reduced by every iteration by first dimension\n",
    "def bubble_sort_v2(a):\n",
    "    n = len(a)\n",
    "    for i in range(n-1): # [0, n-2]\n",
    "        was_swap = False\n",
    "        for j in range(n-1-i): # i= 0 j = [0, n-2], i = n-2 j = [0]\n",
    "            if a[j] > a[j+1]:\n",
    "                a[j], a[j+1] = a[j+1], a[j]\n",
    "                was_swap = True\n",
    "        if not was_swap:\n",
    "            return"
   ]
  },
  {
   "cell_type": "markdown",
   "metadata": {},
   "source": [
    "## Selection sort"
   ]
  },
  {
   "cell_type": "code",
   "execution_count": 15,
   "metadata": {
    "collapsed": true
   },
   "outputs": [],
   "source": [
    "def selection_sort(a):\n",
    "    n = len(a)\n",
    "    for i in range(n-1):\n",
    "        min_idx = i\n",
    "        for j in range(i+1, n):\n",
    "            if a[j] < a[min_idx]:\n",
    "                min_idx = j\n",
    "        a[min_idx], a[i] = a[i], a[min_idx]\n",
    "    return a"
   ]
  },
  {
   "cell_type": "markdown",
   "metadata": {},
   "source": [
    "## Merge sort"
   ]
  },
  {
   "cell_type": "code",
   "execution_count": 31,
   "metadata": {
    "collapsed": false
   },
   "outputs": [],
   "source": [
    "# merge sort of array with indices in range [l, r)\n",
    "def merge_sort(a, l, r):\n",
    "    if r - l > 1:\n",
    "        m = (l+r) // 2\n",
    "        merge_sort(a, l, m) # [l, m)\n",
    "        merge_sort(a, m, r) # [m. r)\n",
    "        merge(a, l, m, r)\n",
    "\n",
    "def merge(a, l, m, r):\n",
    "    merged = [] \n",
    "    i = l\n",
    "    j = m\n",
    "    while i+j < m+r:\n",
    "        if j == r or (a[i] < a[j] and i < m):\n",
    "            merged.append(a[i])\n",
    "            i += 1\n",
    "        else:\n",
    "            merged.append(a[j])\n",
    "            j += 1\n",
    "    \n",
    "    a[l:r] = merged"
   ]
  },
  {
   "cell_type": "code",
   "execution_count": 33,
   "metadata": {
    "collapsed": true
   },
   "outputs": [],
   "source": [
    "def merge_sort_wrapper(a):\n",
    "    n = len(a)\n",
    "    merge_sort(a, 0, n)"
   ]
  },
  {
   "cell_type": "markdown",
   "metadata": {},
   "source": [
    "## Quick sort"
   ]
  },
  {
   "cell_type": "code",
   "execution_count": 165,
   "metadata": {
    "collapsed": true
   },
   "outputs": [],
   "source": [
    "def quicksort(a, l, r):\n",
    "    if l < r:\n",
    "        p = partition(a, l, r)\n",
    "        quicksort(a, l, p-1)\n",
    "        quicksort(a, p, r)\n",
    "\n",
    "def partition(a, l, r):\n",
    "    pivot = a[(l+r) // 2]\n",
    "    while l <= r:\n",
    "        while a[l] < pivot: \n",
    "            l+=1\n",
    "        while a[r] > pivot: \n",
    "            r-=1\n",
    "        if l <= r: # pivot element is moving\n",
    "            a[l], a[r] = a[r], a[l]\n",
    "            l += 1\n",
    "            r -= 1\n",
    "    return l"
   ]
  },
  {
   "cell_type": "code",
   "execution_count": 166,
   "metadata": {
    "collapsed": true
   },
   "outputs": [],
   "source": [
    "def quicksort_wrapper(a):\n",
    "    quicksort(a, 0, len(a)-1)"
   ]
  },
  {
   "cell_type": "markdown",
   "metadata": {},
   "source": [
    "## Bit by bit sorting"
   ]
  },
  {
   "cell_type": "markdown",
   "metadata": {},
   "source": [
    "## Summary"
   ]
  },
  {
   "cell_type": "code",
   "execution_count": 1,
   "metadata": {
    "collapsed": true
   },
   "outputs": [],
   "source": [
    "# Create unsorted array\n",
    "import random\n",
    "def rand_array(n):\n",
    "    return random.sample(range(n), n)"
   ]
  },
  {
   "cell_type": "code",
   "execution_count": null,
   "metadata": {
    "collapsed": true
   },
   "outputs": [],
   "source": [
    "import timeit\n",
    "def test_sort(algo):\n",
    "    a = rand_array(10**2)\n",
    "    copy_a = a.copy() # a will be sorted\n",
    "    \n",
    "    start = timeit.time.time()\n",
    "    algo(a)\n",
    "    end = timeit.time.time()\n",
    "    print(\"Time was {} s.\".format(end-start))\n",
    "    print(\"Correct algo? \", a == sorted(copy_a))"
   ]
  },
  {
   "cell_type": "code",
   "execution_count": 175,
   "metadata": {
    "collapsed": false
   },
   "outputs": [
    {
     "name": "stdout",
     "output_type": "stream",
     "text": [
      "<function bubble_sort at 0x7f51303bb840>\n",
      "Time was 0.0045278072357177734 s.\n",
      "Correct algo?  True\n",
      "<function bubble_sort_v2 at 0x7f51304eed08>\n",
      "Time was 0.0027511119842529297 s.\n",
      "Correct algo?  True\n",
      "<function selection_sort at 0x7f51303bbb70>\n",
      "Time was 0.0018911361694335938 s.\n",
      "Correct algo?  True\n",
      "<function merge_sort_wrapper at 0x7f51304eeea0>\n",
      "Time was 0.0012943744659423828 s.\n",
      "Correct algo?  True\n",
      "<function quicksort_wrapper at 0x7f5128e26268>\n",
      "Time was 0.0007619857788085938 s.\n",
      "Correct algo?  True\n"
     ]
    }
   ],
   "source": [
    "# test sorts\n",
    "for sort in [bubble_sort, bubble_sort_v2, selection_sort, merge_sort_wrapper, quicksort_wrapper]:\n",
    "    print(sort)\n",
    "    test_sort(sort)"
   ]
  },
  {
   "cell_type": "markdown",
   "metadata": {},
   "source": [
    "# Tasks\n",
    "## 10.1"
   ]
  },
  {
   "cell_type": "code",
   "execution_count": 12,
   "metadata": {
    "collapsed": true
   },
   "outputs": [],
   "source": [
    "# Idea is to start merge from end of a and b \n",
    "# In that case, highest elements in a will be moved to the end of a, \n",
    "# freeing the place for smaller elements from b or a\n",
    "def merge(a: list, b: list):\n",
    "    'a and b sorted, result is sorted merge of a and b'\n",
    "    # Elements counts\n",
    "    a_n = len(a) - len(b) \n",
    "    b_n = len(b)\n",
    "    i = a_n-1\n",
    "    j = b_n-1\n",
    "    k = len(a) - 1\n",
    "    while k >= 0:\n",
    "        if (j >=0 and b[j] > a[i]) or i < 0:\n",
    "            a[k] = b[j]\n",
    "            j-=1\n",
    "        elif j >= 0:\n",
    "            a[k] = a[i]\n",
    "            i-=1\n",
    "        k-=1"
   ]
  },
  {
   "cell_type": "code",
   "execution_count": 28,
   "metadata": {
    "collapsed": false
   },
   "outputs": [
    {
     "name": "stdout",
     "output_type": "stream",
     "text": [
      "a: [0, 1, 3, 4, 6, 7, 11, 14, 18, 19, None, None, None, None, None, None, None, None, None, None]\n",
      "b: [2, 5, 8, 9, 10, 12, 13, 15, 16, 17]\n"
     ]
    }
   ],
   "source": [
    "n = 20\n",
    "rand_arr = rand_array(n)\n",
    "a = rand_arr[:n//2]\n",
    "b = rand_arr[n//2:]\n",
    "\n",
    "bubble_sort(a)\n",
    "bubble_sort(b)\n",
    "\n",
    "a += [None for i in range(n // 2)]\n",
    "print('a:', a)\n",
    "print('b:', b)"
   ]
  },
  {
   "cell_type": "code",
   "execution_count": 29,
   "metadata": {
    "collapsed": false
   },
   "outputs": [
    {
     "name": "stdout",
     "output_type": "stream",
     "text": [
      "[0, 1, 2, 3, 4, 5, 6, 7, 8, 9, 10, 11, 12, 13, 14, 15, 16, 17, 18, 19]\n"
     ]
    }
   ],
   "source": [
    "merge(a, b)\n",
    "print(a)"
   ]
  },
  {
   "cell_type": "markdown",
   "metadata": {},
   "source": [
    "Wow! This works!  \n",
    "I guess:   \n",
    "time: $O(len(a) + len(b))$  \n",
    "memory: $O(len(a))$"
   ]
  },
  {
   "cell_type": "markdown",
   "metadata": {},
   "source": [
    "### 10.2 Anagrams"
   ]
  },
  {
   "cell_type": "code",
   "execution_count": 14,
   "metadata": {
    "collapsed": true
   },
   "outputs": [],
   "source": [
    "anagrams = ['aba', 'baa', 'aab', 'bbbcv', 'cvbbb', 'aqe', 'qea', 'qee']"
   ]
  },
  {
   "cell_type": "markdown",
   "metadata": {},
   "source": [
    "Метод cmp\n",
    "```\n",
    "Должен возвращать целое: \n",
    "отрицательное, если self < other; \n",
    "нуль, если self == other; \n",
    "положительноеa, если self > other.\n",
    "```"
   ]
  },
  {
   "cell_type": "code",
   "execution_count": 13,
   "metadata": {
    "collapsed": false
   },
   "outputs": [
    {
     "data": {
      "text/plain": [
       "['aab', 'aba', 'aqe', 'baa', 'bbbcv', 'cvbbb', 'qea', 'qee']"
      ]
     },
     "execution_count": 13,
     "metadata": {},
     "output_type": "execute_result"
    }
   ],
   "source": [
    "sorted(anagrams)"
   ]
  },
  {
   "cell_type": "code",
   "execution_count": 4,
   "metadata": {
    "collapsed": false
   },
   "outputs": [],
   "source": [
    "anagrams.sort(key=lambda s: sorted(s))"
   ]
  },
  {
   "cell_type": "code",
   "execution_count": 5,
   "metadata": {
    "collapsed": false
   },
   "outputs": [
    {
     "data": {
      "text/plain": [
       "['aba', 'baa', 'aab', 'aqe', 'qea', 'bbbcv', 'cvbbb', 'qee']"
      ]
     },
     "execution_count": 5,
     "metadata": {},
     "output_type": "execute_result"
    }
   ],
   "source": [
    "anagrams"
   ]
  },
  {
   "cell_type": "code",
   "execution_count": 12,
   "metadata": {
    "collapsed": true
   },
   "outputs": [],
   "source": [
    "# We should only group anagrams, right?\n",
    "def sort(array: list):\n",
    "    anagrams = {}\n",
    "    for s in array:\n",
    "        alphas = \"\".join(sorted(s))\n",
    "        if alphas not in anagrams:\n",
    "            anagrams[alphas] = []\n",
    "        anagrams[alphas].append(s)\n",
    "    \n",
    "    i = 0\n",
    "    for anagram in sorted(anagrams.keys()):\n",
    "        for word in anagrams[anagram]:\n",
    "            array[i] = word\n",
    "            i+=1\n",
    "    return array"
   ]
  },
  {
   "cell_type": "code",
   "execution_count": 15,
   "metadata": {
    "collapsed": false
   },
   "outputs": [
    {
     "data": {
      "text/plain": [
       "['aba', 'baa', 'aab', 'aqe', 'qea', 'bbbcv', 'cvbbb', 'qee']"
      ]
     },
     "execution_count": 15,
     "metadata": {},
     "output_type": "execute_result"
    }
   ],
   "source": [
    "sort(anagrams)"
   ]
  },
  {
   "cell_type": "markdown",
   "metadata": {},
   "source": [
    "### 10.3 Shifter array bin search (wrong solution. Only for ranges)"
   ]
  },
  {
   "cell_type": "code",
   "execution_count": 7,
   "metadata": {
    "collapsed": true
   },
   "outputs": [],
   "source": [
    "def search_in_shifted(a: list, x):\n",
    "    '''a is a cyclically shifted sorted array of n int values in range [1, n]\n",
    "    Last circumstance allows us to use binsearch to find x'''\n",
    "    # find start of shifted sorted array\n",
    "    n = len(a)\n",
    "    lasts = n - a[0]\n",
    "    min_i = (0 + lasts) % n\n",
    "    \n",
    "    # Convert indexation from [0, n-1) \n",
    "    # to cyclic range [min_idx, (min_idx + n)]\n",
    "    new_idx = lambda i : (min_i + i) % n\n",
    "    # Bin search\n",
    "    l = 0\n",
    "    r = n # Whyyyy? \n",
    "    \n",
    "    while r - l > 1:\n",
    "        m = (l + r) // 2\n",
    "        shifted_m = new_idx(m)\n",
    "        if x < a[shifted_m]:\n",
    "            r = m\n",
    "        else:\n",
    "            l = m\n",
    "    \n",
    "    if a[new_idx(l)] == x:\n",
    "        return new_idx(l)\n",
    "    else:\n",
    "        return None"
   ]
  },
  {
   "cell_type": "code",
   "execution_count": 18,
   "metadata": {
    "collapsed": false
   },
   "outputs": [
    {
     "name": "stdout",
     "output_type": "stream",
     "text": [
      "[20, 21, 22, 23, 24, 25, 26, 27, 28, 29, 1, 2, 3, 4, 5, 6, 7, 8, 9, 10, 11, 12, 13, 14, 15, 16, 17, 18, 19]\n"
     ]
    }
   ],
   "source": [
    "n = 30\n",
    "a = list(range(1, n))\n",
    "\n",
    "num_shifts = 10\n",
    "for _ in range(num_shifts):\n",
    "    a.insert(0, a.pop())\n",
    "\n",
    "print(a)"
   ]
  },
  {
   "cell_type": "code",
   "execution_count": 25,
   "metadata": {
    "collapsed": false
   },
   "outputs": [
    {
     "data": {
      "text/plain": [
       "True"
      ]
     },
     "execution_count": 25,
     "metadata": {},
     "output_type": "execute_result"
    }
   ],
   "source": [
    "all([a.index(i) == search_in_shifted(a, i) for i in range(1, n-1)])"
   ]
  },
  {
   "cell_type": "code",
   "execution_count": 27,
   "metadata": {
    "collapsed": false
   },
   "outputs": [
    {
     "data": {
      "text/plain": [
       "False"
      ]
     },
     "execution_count": 27,
     "metadata": {},
     "output_type": "execute_result"
    }
   ],
   "source": [
    "search_in_shifted(a, n-1) != None"
   ]
  },
  {
   "cell_type": "markdown",
   "metadata": {},
   "source": [
    "Seems like it **almost** correct algo. But many possible bags. Like if there numeration starts from 0, not from 1 or numbers are negative"
   ]
  },
  {
   "cell_type": "code",
   "execution_count": 156,
   "metadata": {
    "collapsed": false
   },
   "outputs": [
    {
     "name": "stdout",
     "output_type": "stream",
     "text": [
      "21 th\n",
      "9\n"
     ]
    }
   ],
   "source": [
    "# If zero is first number\n",
    "order_of_num = (a[0] + 1)\n",
    "print(order_of_num, 'th')\n",
    "# Last one is max. min will be after it. Maybe in first part of array so %\n",
    "how_many_lasts = n - order_of_num \n",
    "print(how_many_lasts) \n",
    "# after a[0] 9 more numbers and 10th is min\n",
    "min_idx = ((how_many_lasts) + 1) % n"
   ]
  },
  {
   "cell_type": "code",
   "execution_count": 169,
   "metadata": {
    "collapsed": false
   },
   "outputs": [
    {
     "name": "stdout",
     "output_type": "stream",
     "text": [
      "10\n",
      "True\n"
     ]
    }
   ],
   "source": [
    "#if one is first number\n",
    "lasts = n - a[0]\n",
    "min_idx = (0 + lasts) % n # First element and lsts elements after it\n",
    "print(min_idx)\n",
    "print(a[min_idx] == 1)"
   ]
  },
  {
   "cell_type": "markdown",
   "metadata": {},
   "source": [
    "Algo is so tricky with indices. I'm so tired of that"
   ]
  },
  {
   "cell_type": "code",
   "execution_count": 37,
   "metadata": {
    "collapsed": true
   },
   "outputs": [],
   "source": [
    "search_in_shifted([15,16,19,20,25,1,3,4,5,7,10,14], 5)"
   ]
  },
  {
   "cell_type": "markdown",
   "metadata": {},
   "source": [
    "It doesn't work for test case from book. Seems wrong approach to me. Let's fix it."
   ]
  },
  {
   "cell_type": "code",
   "execution_count": 16,
   "metadata": {
    "collapsed": false
   },
   "outputs": [],
   "source": [
    "def find_split(a: list):\n",
    "    '''a is sorted shifted array\n",
    "    aim is to find split of it where left el is max and right is min\n",
    "    '''\n",
    "    \n",
    "    l = 0\n",
    "    r = len(a) -1\n",
    "    \n",
    "    while r-l > 1:\n",
    "        m = (l+r) // 2\n",
    "        if a[m] > a[r]: # split is between m and r\n",
    "            l = m\n",
    "        elif a[l] > a[m]: # split is between l and m\n",
    "            r = m\n",
    "        else: # no split found. array was not shifted\n",
    "            break \n",
    "    return l, r"
   ]
  },
  {
   "cell_type": "code",
   "execution_count": 52,
   "metadata": {
    "collapsed": false
   },
   "outputs": [
    {
     "data": {
      "text/plain": [
       "(4, 5)"
      ]
     },
     "execution_count": 52,
     "metadata": {},
     "output_type": "execute_result"
    }
   ],
   "source": [
    "a = [15,16,19,20,25,1,3,4,5,7,10,14]\n",
    "find_split(a)"
   ]
  },
  {
   "cell_type": "code",
   "execution_count": 53,
   "metadata": {
    "collapsed": false
   },
   "outputs": [
    {
     "data": {
      "text/plain": [
       "(0, 3)"
      ]
     },
     "execution_count": 53,
     "metadata": {},
     "output_type": "execute_result"
    }
   ],
   "source": [
    "a = [1,2,3,4]\n",
    "find_split(a)"
   ]
  },
  {
   "cell_type": "code",
   "execution_count": 65,
   "metadata": {
    "collapsed": false
   },
   "outputs": [
    {
     "data": {
      "text/plain": [
       "(0, 1)"
      ]
     },
     "execution_count": 65,
     "metadata": {},
     "output_type": "execute_result"
    }
   ],
   "source": [
    "a = [4,1,2,3]\n",
    "find_split(a)"
   ]
  },
  {
   "cell_type": "code",
   "execution_count": 17,
   "metadata": {
    "collapsed": false
   },
   "outputs": [
    {
     "data": {
      "text/plain": [
       "(0, 6)"
      ]
     },
     "execution_count": 17,
     "metadata": {},
     "output_type": "execute_result"
    }
   ],
   "source": [
    "a = [1,1,1,1,1,1,1]\n",
    "find_split(a)"
   ]
  },
  {
   "cell_type": "markdown",
   "metadata": {},
   "source": [
    "Ok, we found it! And can use idea from prev submission. But what about make solution easier and search x while searching split?"
   ]
  },
  {
   "cell_type": "code",
   "execution_count": 77,
   "metadata": {
    "collapsed": false
   },
   "outputs": [],
   "source": [
    "def search_in_shifted(a: list, x):\n",
    "    split = find_split(a)\n",
    "    if a[split[0]] < a[split[1]]:\n",
    "        real_l = split[0]\n",
    "    else:\n",
    "        real_l = split[1]\n",
    "    new_idx = lambda i: (real_l + i) % len(a)\n",
    "    \n",
    "    l = 0\n",
    "    r = len(a)  \n",
    "    while r - l > 1:\n",
    "        m = (l + r) // 2\n",
    "        if x < a[new_idx(m)]:\n",
    "            r = m\n",
    "        else:\n",
    "            l = m\n",
    "    \n",
    "    if a[new_idx(l)] == x:\n",
    "        return new_idx(l)\n",
    "    else:\n",
    "        return None"
   ]
  },
  {
   "cell_type": "code",
   "execution_count": 78,
   "metadata": {
    "collapsed": true
   },
   "outputs": [],
   "source": [
    "a = [15,16,19,20,25,1,3,4,5,7,10,14]"
   ]
  },
  {
   "cell_type": "code",
   "execution_count": 79,
   "metadata": {
    "collapsed": false
   },
   "outputs": [
    {
     "data": {
      "text/plain": [
       "8"
      ]
     },
     "execution_count": 79,
     "metadata": {},
     "output_type": "execute_result"
    }
   ],
   "source": [
    "search_in_shifted(a, 5)"
   ]
  },
  {
   "cell_type": "markdown",
   "metadata": {},
   "source": [
    "Time complexity $O(log_2n)$"
   ]
  },
  {
   "cell_type": "markdown",
   "metadata": {},
   "source": [
    "### 10.4 Sort"
   ]
  },
  {
   "cell_type": "markdown",
   "metadata": {},
   "source": [
    "Solution for 16 Gb\n",
    "\n",
    "![][1]\n",
    "\n",
    "[1]: https://cdn.pbrd.co/images/GLlOXT6.png"
   ]
  },
  {
   "cell_type": "markdown",
   "metadata": {},
   "source": [
    "### 10.5 Search string in array"
   ]
  },
  {
   "cell_type": "markdown",
   "metadata": {},
   "source": [
    "It's time to loo at search algorhyrtms from Levitin book"
   ]
  },
  {
   "cell_type": "code",
   "execution_count": 200,
   "metadata": {
    "collapsed": false
   },
   "outputs": [],
   "source": [
    "# Not nice enough algorhytm but works\n",
    "def find_str(array: list, l: int, r: int, s: str):\n",
    "    if r-l <= 2:\n",
    "        if array[l] == s:\n",
    "            return l\n",
    "        elif array[r] == s:\n",
    "            return r\n",
    "        else:\n",
    "            return None\n",
    "    \n",
    "    m = (l+r) // 2\n",
    "    if array[m] == '':\n",
    "        l_i = find_str(array, l, m-1, s)\n",
    "        if l_i is not None:\n",
    "            return l_i\n",
    "        else:\n",
    "            r_i = find_str(array, m+1, r, s)\n",
    "            return r_i \n",
    "    elif array[m] == s:\n",
    "        return m\n",
    "    elif s < array[m]:\n",
    "        return find_str(array, l, m-1, s)\n",
    "    elif array[m] > s:\n",
    "        return find_str(array, m+1, r, s)"
   ]
  },
  {
   "cell_type": "code",
   "execution_count": 201,
   "metadata": {
    "collapsed": true
   },
   "outputs": [],
   "source": [
    "# This one not works\n",
    "def find_str_v2(array: list, l: int, r: int, s: str):\n",
    "    if r-l <= 1:\n",
    "        if array[l] == s:\n",
    "            return l\n",
    "        \n",
    "    m = (l+r) // 2\n",
    "    mid_s = array[m]\n",
    "    if mid_s == '':\n",
    "        l_i = find_str(array, l, m, s)\n",
    "        if l_i is not None:\n",
    "            return l_i\n",
    "        else: \n",
    "            r_i = find_str(array, m+1, r, s)\n",
    "            return r_i\n",
    "    elif s < mid_s:\n",
    "        return find_str(array, l, m, s)\n",
    "    elif s > mid_s:\n",
    "        return find_str(array, m, r, s)"
   ]
  },
  {
   "cell_type": "code",
   "execution_count": 196,
   "metadata": {
    "collapsed": true
   },
   "outputs": [],
   "source": [
    "a = ['at', 'ball', 'car', 'dad']"
   ]
  },
  {
   "cell_type": "code",
   "execution_count": 110,
   "metadata": {
    "collapsed": true
   },
   "outputs": [],
   "source": [
    "def joinit(iterable, delimiter_iterable):\n",
    "    it = iter(iterable)\n",
    "    yield next(it)\n",
    "    for x in it:\n",
    "        for d in delimiter_iterable:\n",
    "            yield d\n",
    "        yield x"
   ]
  },
  {
   "cell_type": "code",
   "execution_count": null,
   "metadata": {
    "collapsed": false
   },
   "outputs": [],
   "source": [
    "sorted_with_spaces = list(joinit(a, ['', '']))\n",
    "print(sorted_with_spaces)"
   ]
  },
  {
   "cell_type": "code",
   "execution_count": 202,
   "metadata": {
    "collapsed": false
   },
   "outputs": [
    {
     "data": {
      "text/plain": [
       "6"
      ]
     },
     "execution_count": 202,
     "metadata": {},
     "output_type": "execute_result"
    }
   ],
   "source": [
    "find_str(sorted_with_spaces, 0, len(sorted_with_spaces), 'car')"
   ]
  },
  {
   "cell_type": "code",
   "execution_count": 204,
   "metadata": {
    "collapsed": false
   },
   "outputs": [
    {
     "name": "stdout",
     "output_type": "stream",
     "text": [
      "['', '', '', '', '', '', '', '', '', '', 'aa']\n"
     ]
    }
   ],
   "source": [
    "almost_empty = [''] * 10 + ['aa']\n",
    "print(almost_empty)"
   ]
  },
  {
   "cell_type": "code",
   "execution_count": 211,
   "metadata": {
    "collapsed": true
   },
   "outputs": [
    {
     "ename": "IndexError",
     "evalue": "list index out of range",
     "output_type": "error",
     "traceback": [
      "\u001b[0;31m---------------------------------------------------------------------------\u001b[0m",
      "\u001b[0;31mIndexError\u001b[0m                                Traceback (most recent call last)",
      "\u001b[0;32m<ipython-input-211-e42086ca856d>\u001b[0m in \u001b[0;36m<module>\u001b[0;34m()\u001b[0m\n\u001b[0;32m----> 1\u001b[0;31m \u001b[0mfind_str\u001b[0m\u001b[0;34m(\u001b[0m\u001b[0malmost_empty\u001b[0m\u001b[0;34m,\u001b[0m \u001b[0;36m0\u001b[0m\u001b[0;34m,\u001b[0m \u001b[0mlen\u001b[0m\u001b[0;34m(\u001b[0m\u001b[0malmost_empty\u001b[0m\u001b[0;34m)\u001b[0m\u001b[0;34m,\u001b[0m \u001b[0;34m'aa'\u001b[0m\u001b[0;34m)\u001b[0m\u001b[0;34m\u001b[0m\u001b[0m\n\u001b[0m",
      "\u001b[0;32m<ipython-input-200-83bd8bf727aa>\u001b[0m in \u001b[0;36mfind_str\u001b[0;34m(array, l, r, s)\u001b[0m\n\u001b[1;32m     15\u001b[0m             \u001b[0;32mreturn\u001b[0m \u001b[0ml_i\u001b[0m\u001b[0;34m\u001b[0m\u001b[0m\n\u001b[1;32m     16\u001b[0m         \u001b[0;32melse\u001b[0m\u001b[0;34m:\u001b[0m\u001b[0;34m\u001b[0m\u001b[0m\n\u001b[0;32m---> 17\u001b[0;31m             \u001b[0mr_i\u001b[0m \u001b[0;34m=\u001b[0m \u001b[0mfind_str\u001b[0m\u001b[0;34m(\u001b[0m\u001b[0marray\u001b[0m\u001b[0;34m,\u001b[0m \u001b[0mm\u001b[0m\u001b[0;34m+\u001b[0m\u001b[0;36m1\u001b[0m\u001b[0;34m,\u001b[0m \u001b[0mr\u001b[0m\u001b[0;34m,\u001b[0m \u001b[0ms\u001b[0m\u001b[0;34m)\u001b[0m\u001b[0;34m\u001b[0m\u001b[0m\n\u001b[0m\u001b[1;32m     18\u001b[0m             \u001b[0;32mreturn\u001b[0m \u001b[0mr_i\u001b[0m\u001b[0;34m\u001b[0m\u001b[0m\n\u001b[1;32m     19\u001b[0m     \u001b[0;32melif\u001b[0m \u001b[0marray\u001b[0m\u001b[0;34m[\u001b[0m\u001b[0mm\u001b[0m\u001b[0;34m]\u001b[0m \u001b[0;34m==\u001b[0m \u001b[0ms\u001b[0m\u001b[0;34m:\u001b[0m\u001b[0;34m\u001b[0m\u001b[0m\n",
      "\u001b[0;32m<ipython-input-200-83bd8bf727aa>\u001b[0m in \u001b[0;36mfind_str\u001b[0;34m(array, l, r, s)\u001b[0m\n\u001b[1;32m     15\u001b[0m             \u001b[0;32mreturn\u001b[0m \u001b[0ml_i\u001b[0m\u001b[0;34m\u001b[0m\u001b[0m\n\u001b[1;32m     16\u001b[0m         \u001b[0;32melse\u001b[0m\u001b[0;34m:\u001b[0m\u001b[0;34m\u001b[0m\u001b[0m\n\u001b[0;32m---> 17\u001b[0;31m             \u001b[0mr_i\u001b[0m \u001b[0;34m=\u001b[0m \u001b[0mfind_str\u001b[0m\u001b[0;34m(\u001b[0m\u001b[0marray\u001b[0m\u001b[0;34m,\u001b[0m \u001b[0mm\u001b[0m\u001b[0;34m+\u001b[0m\u001b[0;36m1\u001b[0m\u001b[0;34m,\u001b[0m \u001b[0mr\u001b[0m\u001b[0;34m,\u001b[0m \u001b[0ms\u001b[0m\u001b[0;34m)\u001b[0m\u001b[0;34m\u001b[0m\u001b[0m\n\u001b[0m\u001b[1;32m     18\u001b[0m             \u001b[0;32mreturn\u001b[0m \u001b[0mr_i\u001b[0m\u001b[0;34m\u001b[0m\u001b[0m\n\u001b[1;32m     19\u001b[0m     \u001b[0;32melif\u001b[0m \u001b[0marray\u001b[0m\u001b[0;34m[\u001b[0m\u001b[0mm\u001b[0m\u001b[0;34m]\u001b[0m \u001b[0;34m==\u001b[0m \u001b[0ms\u001b[0m\u001b[0;34m:\u001b[0m\u001b[0;34m\u001b[0m\u001b[0m\n",
      "\u001b[0;32m<ipython-input-200-83bd8bf727aa>\u001b[0m in \u001b[0;36mfind_str\u001b[0;34m(array, l, r, s)\u001b[0m\n\u001b[1;32m      4\u001b[0m         \u001b[0;32mif\u001b[0m \u001b[0marray\u001b[0m\u001b[0;34m[\u001b[0m\u001b[0ml\u001b[0m\u001b[0;34m]\u001b[0m \u001b[0;34m==\u001b[0m \u001b[0ms\u001b[0m\u001b[0;34m:\u001b[0m\u001b[0;34m\u001b[0m\u001b[0m\n\u001b[1;32m      5\u001b[0m             \u001b[0;32mreturn\u001b[0m \u001b[0ml\u001b[0m\u001b[0;34m\u001b[0m\u001b[0m\n\u001b[0;32m----> 6\u001b[0;31m         \u001b[0;32melif\u001b[0m \u001b[0marray\u001b[0m\u001b[0;34m[\u001b[0m\u001b[0mr\u001b[0m\u001b[0;34m]\u001b[0m \u001b[0;34m==\u001b[0m \u001b[0ms\u001b[0m\u001b[0;34m:\u001b[0m\u001b[0;34m\u001b[0m\u001b[0m\n\u001b[0m\u001b[1;32m      7\u001b[0m             \u001b[0;32mreturn\u001b[0m \u001b[0mr\u001b[0m\u001b[0;34m\u001b[0m\u001b[0m\n\u001b[1;32m      8\u001b[0m         \u001b[0;32melse\u001b[0m\u001b[0;34m:\u001b[0m\u001b[0;34m\u001b[0m\u001b[0m\n",
      "\u001b[0;31mIndexError\u001b[0m: list index out of range"
     ]
    }
   ],
   "source": [
    "find_str(almost_empty, 0, len(almost_empty), 'aa')"
   ]
  },
  {
   "cell_type": "markdown",
   "metadata": {},
   "source": [
    "### 10.6 Matrix bin search"
   ]
  },
  {
   "cell_type": "code",
   "execution_count": 18,
   "metadata": {
    "collapsed": true
   },
   "outputs": [],
   "source": [
    "import numpy as np"
   ]
  },
  {
   "cell_type": "code",
   "execution_count": 19,
   "metadata": {
    "collapsed": true
   },
   "outputs": [],
   "source": [
    "n, m = 3, 4\n",
    "el = 3"
   ]
  },
  {
   "cell_type": "code",
   "execution_count": 20,
   "metadata": {
    "collapsed": false
   },
   "outputs": [],
   "source": [
    "mat = np.arange(n*m, dtype=int).reshape([n, m])"
   ]
  },
  {
   "cell_type": "code",
   "execution_count": 21,
   "metadata": {
    "collapsed": false
   },
   "outputs": [
    {
     "data": {
      "text/plain": [
       "array([[ 0,  1,  2,  3],\n",
       "       [ 4,  5,  6,  7],\n",
       "       [ 8,  9, 10, 11]])"
      ]
     },
     "execution_count": 21,
     "metadata": {},
     "output_type": "execute_result"
    }
   ],
   "source": [
    "mat"
   ]
  },
  {
   "cell_type": "code",
   "execution_count": 22,
   "metadata": {
    "collapsed": false
   },
   "outputs": [
    {
     "data": {
      "text/plain": [
       "array([0, 1, 2, 3])"
      ]
     },
     "execution_count": 22,
     "metadata": {},
     "output_type": "execute_result"
    }
   ],
   "source": [
    "mat[0]"
   ]
  },
  {
   "cell_type": "code",
   "execution_count": 23,
   "metadata": {
    "collapsed": true
   },
   "outputs": [],
   "source": [
    "def is_sorted(a):\n",
    "    return all(a[i] > a[i-1] for i in range(1, len(a)))"
   ]
  },
  {
   "cell_type": "code",
   "execution_count": 248,
   "metadata": {
    "collapsed": false
   },
   "outputs": [
    {
     "data": {
      "text/plain": [
       "True"
      ]
     },
     "execution_count": 248,
     "metadata": {},
     "output_type": "execute_result"
    }
   ],
   "source": [
    "is_sorted(mat[0])"
   ]
  },
  {
   "cell_type": "code",
   "execution_count": 249,
   "metadata": {
    "collapsed": false
   },
   "outputs": [
    {
     "data": {
      "text/plain": [
       "True"
      ]
     },
     "execution_count": 249,
     "metadata": {},
     "output_type": "execute_result"
    }
   ],
   "source": [
    "is_sorted(mat[:, 0])"
   ]
  },
  {
   "cell_type": "code",
   "execution_count": 24,
   "metadata": {
    "collapsed": true
   },
   "outputs": [],
   "source": [
    "def binsearch(seq, el):\n",
    "    l = 0\n",
    "    r = len(seq)\n",
    "    \n",
    "    while r-l > 1:\n",
    "        m = (l+r) // 2\n",
    "        if el < seq[m]:\n",
    "            r = m\n",
    "        else:\n",
    "            l = m\n",
    "    return l"
   ]
  },
  {
   "cell_type": "code",
   "execution_count": 25,
   "metadata": {
    "collapsed": true
   },
   "outputs": [],
   "source": [
    "def binsearch_in_mat(m, el):\n",
    "    row = binsearch(m[:, 0], el)\n",
    "    col = binsearch(m[row], el)\n",
    "    \n",
    "    if m[row, col] == el:\n",
    "        return row, col\n",
    "    else:\n",
    "        return None, None"
   ]
  },
  {
   "cell_type": "code",
   "execution_count": 26,
   "metadata": {
    "collapsed": false
   },
   "outputs": [
    {
     "data": {
      "text/plain": [
       "array([[ 0,  1,  2,  3],\n",
       "       [ 4,  5,  6,  7],\n",
       "       [ 8,  9, 10, 11]])"
      ]
     },
     "execution_count": 26,
     "metadata": {},
     "output_type": "execute_result"
    }
   ],
   "source": [
    "mat"
   ]
  },
  {
   "cell_type": "code",
   "execution_count": 258,
   "metadata": {
    "collapsed": false
   },
   "outputs": [
    {
     "data": {
      "text/plain": [
       "(0, 0)"
      ]
     },
     "execution_count": 258,
     "metadata": {},
     "output_type": "execute_result"
    }
   ],
   "source": [
    "binsearch_in_mat(mat, 0)"
   ]
  },
  {
   "cell_type": "code",
   "execution_count": 259,
   "metadata": {
    "collapsed": false
   },
   "outputs": [
    {
     "data": {
      "text/plain": [
       "(2, 1)"
      ]
     },
     "execution_count": 259,
     "metadata": {},
     "output_type": "execute_result"
    }
   ],
   "source": [
    "binsearch_in_mat(mat, 9)"
   ]
  },
  {
   "cell_type": "code",
   "execution_count": 260,
   "metadata": {
    "collapsed": false
   },
   "outputs": [
    {
     "data": {
      "text/plain": [
       "(2, 3)"
      ]
     },
     "execution_count": 260,
     "metadata": {},
     "output_type": "execute_result"
    }
   ],
   "source": [
    "binsearch_in_mat(mat, 11)"
   ]
  },
  {
   "cell_type": "markdown",
   "metadata": {},
   "source": [
    "Works fine in $O(log_2 n\\,log_2 m)$"
   ]
  },
  {
   "cell_type": "code",
   "execution_count": 30,
   "metadata": {
    "collapsed": false
   },
   "outputs": [],
   "source": [
    "a = np.array([[15,20,40,85],\n",
    "             [20,35,80,95],\n",
    "             [30,55,95,105],\n",
    "             [40,80,100,120]])"
   ]
  },
  {
   "cell_type": "code",
   "execution_count": 31,
   "metadata": {
    "collapsed": false
   },
   "outputs": [
    {
     "data": {
      "text/plain": [
       "array([[ 15,  20,  40,  85],\n",
       "       [ 20,  35,  80,  95],\n",
       "       [ 30,  55,  95, 105],\n",
       "       [ 40,  80, 100, 120]])"
      ]
     },
     "execution_count": 31,
     "metadata": {},
     "output_type": "execute_result"
    }
   ],
   "source": [
    "a"
   ]
  },
  {
   "cell_type": "code",
   "execution_count": 32,
   "metadata": {
    "collapsed": false
   },
   "outputs": [
    {
     "data": {
      "text/plain": [
       "(None, None)"
      ]
     },
     "execution_count": 32,
     "metadata": {},
     "output_type": "execute_result"
    }
   ],
   "source": [
    "binsearch_in_mat(a, 11)"
   ]
  },
  {
   "cell_type": "code",
   "execution_count": 33,
   "metadata": {
    "collapsed": false
   },
   "outputs": [
    {
     "data": {
      "text/plain": [
       "(None, None)"
      ]
     },
     "execution_count": 33,
     "metadata": {},
     "output_type": "execute_result"
    }
   ],
   "source": [
    "binsearch_in_mat(mat, 85)"
   ]
  },
  {
   "cell_type": "markdown",
   "metadata": {},
   "source": [
    "Uuuups. Not so fine as expected"
   ]
  },
  {
   "cell_type": "markdown",
   "metadata": {},
   "source": [
    "### 10.7 Pyramid"
   ]
  },
  {
   "cell_type": "code",
   "execution_count": 111,
   "metadata": {
    "collapsed": false
   },
   "outputs": [],
   "source": [
    "# Seems like simple sort\n",
    "class Person:\n",
    "    def __init__(self, ht, wt):\n",
    "        self.height = ht\n",
    "        self.weight = wt\n",
    "    \n",
    "    \n",
    "    def __lt__(self, other):\n",
    "        return (self.weight < other.weight and \n",
    "                self.height < other.height)\n",
    "    \n",
    "    def __gt__(self, other):\n",
    "        return (self.weight > other.weight\n",
    "                and self.height > other.height)\n",
    "    \n",
    "    @classmethod\n",
    "    def from_input(cls):\n",
    "        height, weight = map(int, input().split())\n",
    "        return Person(height, weight)\n",
    "    \n",
    "    def __repr__(self):\n",
    "        return \"({}, {})\".format(self.height, self.weight)"
   ]
  },
  {
   "cell_type": "code",
   "execution_count": 95,
   "metadata": {
    "collapsed": false
   },
   "outputs": [
    {
     "name": "stdout",
     "output_type": "stream",
     "text": [
      "12\n",
      "1 1\n",
      "2 4\n",
      "5 5\n",
      "6 6\n",
      "7 7\n",
      "8 8\n",
      "9 9\n",
      "1 15\n",
      "16 2\n",
      "17 16\n",
      "18 19\n",
      "20 20\n"
     ]
    }
   ],
   "source": [
    "# Input\n",
    "n = int(input())\n",
    "people = []\n",
    "for i in range(n):\n",
    "    people.append(Person.from_input())"
   ]
  },
  {
   "cell_type": "code",
   "execution_count": 10,
   "metadata": {
    "collapsed": true
   },
   "outputs": [],
   "source": [
    "# Repeating - mother of learning\n",
    "def merge_sort(a, l, r):\n",
    "    if r - l > 1:\n",
    "        m = (l+r) // 2\n",
    "        merge_sort(a, l, m)\n",
    "        merge_sort(a, m, r)\n",
    "        merge(a, l, m, r)\n",
    "\n",
    "def merge(a, l, m, r):\n",
    "    merged = []\n",
    "    i, j = l, m\n",
    "    while i+j < m+r:\n",
    "        if j == r or (i < m and a[i] < a[j]):\n",
    "            merged.append(a[i])\n",
    "            i += 1\n",
    "        else:\n",
    "            merged.append(a[j])\n",
    "            j += 1\n",
    "    a[l:r] = merged"
   ]
  },
  {
   "cell_type": "code",
   "execution_count": 112,
   "metadata": {
    "collapsed": true
   },
   "outputs": [],
   "source": [
    "people = [Person(p.height, p.weight) for p in people]"
   ]
  },
  {
   "cell_type": "code",
   "execution_count": 5,
   "metadata": {
    "collapsed": true
   },
   "outputs": [],
   "source": [
    "a = [1,5,8,3,2,8,0]"
   ]
  },
  {
   "cell_type": "code",
   "execution_count": 50,
   "metadata": {
    "collapsed": false
   },
   "outputs": [],
   "source": [
    "merge_sort(a, 0, len(a))"
   ]
  },
  {
   "cell_type": "code",
   "execution_count": 52,
   "metadata": {
    "collapsed": false
   },
   "outputs": [
    {
     "data": {
      "text/plain": [
       "[0, 1, 2, 3, 4, 5]"
      ]
     },
     "execution_count": 52,
     "metadata": {},
     "output_type": "execute_result"
    }
   ],
   "source": [
    "a"
   ]
  },
  {
   "cell_type": "markdown",
   "metadata": {},
   "source": [
    "---"
   ]
  },
  {
   "cell_type": "code",
   "execution_count": 107,
   "metadata": {
    "collapsed": false
   },
   "outputs": [],
   "source": [
    "# Algo itself\n",
    "# Sort then calculate max height\n",
    "merge_sort(people, 0, n)"
   ]
  },
  {
   "cell_type": "code",
   "execution_count": 99,
   "metadata": {
    "collapsed": true
   },
   "outputs": [
    {
     "data": {
      "text/plain": [
       "[(1, 1),\n",
       " (16, 2),\n",
       " (1, 15),\n",
       " (2, 4),\n",
       " (5, 5),\n",
       " (6, 6),\n",
       " (7, 7),\n",
       " (8, 8),\n",
       " (9, 9),\n",
       " (17, 16),\n",
       " (18, 19),\n",
       " (20, 20)]"
      ]
     },
     "execution_count": 99,
     "metadata": {},
     "output_type": "execute_result"
    }
   ],
   "source": [
    "people"
   ]
  },
  {
   "cell_type": "code",
   "execution_count": 109,
   "metadata": {
    "collapsed": true
   },
   "outputs": [],
   "source": [
    "people.sort(key=lambda p: max(p.weight, p.height))"
   ]
  },
  {
   "cell_type": "code",
   "execution_count": 110,
   "metadata": {
    "collapsed": true
   },
   "outputs": [
    {
     "data": {
      "text/plain": [
       "[(1, 1),\n",
       " (2, 4),\n",
       " (5, 5),\n",
       " (6, 6),\n",
       " (7, 7),\n",
       " (8, 8),\n",
       " (9, 9),\n",
       " (1, 15),\n",
       " (16, 2),\n",
       " (17, 16),\n",
       " (18, 19),\n",
       " (20, 20)]"
      ]
     },
     "execution_count": 110,
     "metadata": {},
     "output_type": "execute_result"
    }
   ],
   "source": [
    "people"
   ]
  },
  {
   "cell_type": "code",
   "execution_count": null,
   "metadata": {
    "collapsed": true
   },
   "outputs": [],
   "source": []
  },
  {
   "cell_type": "markdown",
   "metadata": {},
   "source": [
    "I think will be enough to del people with w less than prev w but h is bigger or vice versa"
   ]
  },
  {
   "cell_type": "code",
   "execution_count": 86,
   "metadata": {
    "collapsed": true
   },
   "outputs": [],
   "source": [
    "class Pyramid:\n",
    "    def __init__(self, collection):\n",
    "        self.data = [[collection[0]], []]\n",
    "        level_max = 2\n",
    "        level_amount = 0\n",
    "        for item in collection[1:]:\n",
    "            self.data[-1].append(item)\n",
    "            level_amount += 1\n",
    "            if level_amount == level_max:\n",
    "                self.data.append([])\n",
    "                level_max += 1\n",
    "                level_amount = 0\n",
    "\n",
    "        if len(self.data[-1]) == 0:\n",
    "            del self.data[-1]\n",
    "    \n",
    "    def get_children_ij(self, i, j):\n",
    "        children = None\n",
    "        if i+1 < len(self.data):\n",
    "            children = [(i+1, j), (i+1, j+1)]\n",
    "        return children\n",
    "    \n",
    "    def next_el_ij(self, i, j):\n",
    "        if i < len(self.data):\n",
    "            if j+1 < len(self.data[i]):\n",
    "                return (i, j+1)\n",
    "            elif i+1 < len(self.data):\n",
    "                return (i+1, 0)\n",
    "    \n",
    "    def __setitem__(self, key, value):\n",
    "        i, j = key\n",
    "        self.data[i][j] = value\n",
    "        \n",
    "    def __getitem__(self, key):\n",
    "        i, j = key\n",
    "        return self.data[i][j]\n",
    "        \n",
    "    def __len__(self):\n",
    "        return len(self.data)\n",
    "    \n",
    "    def __repr__(self):\n",
    "        levels = []\n",
    "        for level in self.data:\n",
    "            levels.append(repr(level))\n",
    "        return '\\n'.join(levels)\n",
    "    \n",
    "    # We can also yield or implement next instead \n",
    "    # https://www.programiz.com/python-programming/iterator\n",
    "    def __iter__(self): \n",
    "        return iter(self.data)"
   ]
  },
  {
   "cell_type": "code",
   "execution_count": 83,
   "metadata": {
    "collapsed": true
   },
   "outputs": [],
   "source": [
    "a = [1,2,3]"
   ]
  },
  {
   "cell_type": "code",
   "execution_count": 87,
   "metadata": {
    "collapsed": false
   },
   "outputs": [],
   "source": [
    "p = Pyramid(people)"
   ]
  },
  {
   "cell_type": "code",
   "execution_count": 82,
   "metadata": {
    "collapsed": false
   },
   "outputs": [
    {
     "name": "stdout",
     "output_type": "stream",
     "text": [
      "[(56, 90)]\n",
      "[(60, 95), (65, 100)]\n",
      "[(68, 110), (70, 150), (75, 190)]\n"
     ]
    }
   ],
   "source": [
    "for i in p:\n",
    "    print(i)"
   ]
  },
  {
   "cell_type": "code",
   "execution_count": 90,
   "metadata": {
    "collapsed": false
   },
   "outputs": [
    {
     "data": {
      "text/plain": [
       "(2, 0)"
      ]
     },
     "execution_count": 90,
     "metadata": {},
     "output_type": "execute_result"
    }
   ],
   "source": [
    "p.next_el_ij(1,1)"
   ]
  },
  {
   "cell_type": "markdown",
   "metadata": {},
   "source": [
    "This solution is quite scary:  \n",
    "Check each parent and child that they are ok (child.weight > parent.weight and child.height > parent.height).\n",
    "And if something went wrong, search in later elements for good one for this position). then move and delete last and continue.    \n",
    "\n",
    "I think there is somewhere better solution with right sorting and then simple list checking.  \n",
    "But how to check when: in one level can be 3 ecual elements, but at next level it can't be, because  \n",
    "(child.weight == parent.weight and ...)\n",
    "So we should know also at which level we are. Oh it probably can be done."
   ]
  },
  {
   "cell_type": "markdown",
   "metadata": {},
   "source": [
    "## 10.8 Number stream rank"
   ]
  },
  {
   "cell_type": "markdown",
   "metadata": {},
   "source": [
    "It should be a Node tree from pointers, cause each node should know length of it's subtree.\n",
    "\n",
    "rank of number:\n",
    "* find vertex with number x\n",
    "* get length of left subtree (all element smaller than x)\n",
    "\n",
    "add number:\n",
    "* as usual"
   ]
  },
  {
   "cell_type": "code",
   "execution_count": 145,
   "metadata": {
    "collapsed": false
   },
   "outputs": [],
   "source": [
    "# Hah! It's like a binary tree with elements counts\n",
    "class Node:\n",
    "    def __init__(self, value):\n",
    "        self.value = value\n",
    "        self.left = None\n",
    "        self.right = None\n",
    "        self.size = 1\n",
    "        self.amount = 1 \n",
    "    \n",
    "    # It is broken. Good idea but not a best implementation\n",
    "    def insert(self, x):\n",
    "        if x < self.value:\n",
    "            if self.left:\n",
    "                self.left.insert(x)\n",
    "            else:\n",
    "                self.left = Node(x)\n",
    "        elif x > self.value:\n",
    "            if self.right:\n",
    "                self.right.insert(x)\n",
    "            else:\n",
    "                self.right = Node(x)\n",
    "        elif x == self.value:\n",
    "            self.amount += 1\n",
    "        if self.value < x:\n",
    "            self.size += 1\n",
    "    \n",
    "    def rank_of(self, x):\n",
    "        if x < self.value:\n",
    "            if self.left:\n",
    "                return self.left.rank_of(x)\n",
    "            else:\n",
    "                return 0\n",
    "        elif x > self.value:\n",
    "            if self.right:\n",
    "                return self.right.rank_of(x)\n",
    "            else:\n",
    "                return 0\n",
    "        elif x == self.value:\n",
    "            return self.size - 1\n",
    "        else:\n",
    "            return 0\n",
    "    \n",
    "    def __repr__(self):\n",
    "        return '[{} < ({}x{}|{}) > {}]'.format(self.left, self.value, self.amount, self.size, self.right)"
   ]
  },
  {
   "cell_type": "code",
   "execution_count": 146,
   "metadata": {
    "collapsed": true
   },
   "outputs": [],
   "source": [
    "t = Node(5)"
   ]
  },
  {
   "cell_type": "code",
   "execution_count": 147,
   "metadata": {
    "collapsed": true
   },
   "outputs": [],
   "source": [
    "a = [1,4,4,5,9,7,13,3]"
   ]
  },
  {
   "cell_type": "code",
   "execution_count": 148,
   "metadata": {
    "collapsed": true
   },
   "outputs": [],
   "source": [
    "for i in a:\n",
    "    t.insert(i)"
   ]
  },
  {
   "cell_type": "code",
   "execution_count": 149,
   "metadata": {
    "collapsed": false
   },
   "outputs": [
    {
     "data": {
      "text/plain": [
       "[[None < (1x1|4) > [[None < (3x1|1) > None] < (4x2|1) > None]] < (5x2|4) > [[None < (7x1|1) > None] < (9x1|2) > [None < (13x1|1) > None]]]"
      ]
     },
     "execution_count": 149,
     "metadata": {},
     "output_type": "execute_result"
    }
   ],
   "source": [
    "t"
   ]
  },
  {
   "cell_type": "code",
   "execution_count": 128,
   "metadata": {
    "collapsed": false
   },
   "outputs": [
    {
     "data": {
      "text/plain": [
       "2"
      ]
     },
     "execution_count": 128,
     "metadata": {},
     "output_type": "execute_result"
    }
   ],
   "source": [
    "t.rank_of(4)"
   ]
  },
  {
   "cell_type": "markdown",
   "metadata": {},
   "source": [
    "Don't work because of case:  \n",
    "```\n",
    " 5\n",
    "1\n",
    "  3\n",
    "```"
   ]
  },
  {
   "cell_type": "markdown",
   "metadata": {},
   "source": [
    "RANK of number also is an index in sorted array =)"
   ]
  }
 ],
 "metadata": {
  "anaconda-cloud": {},
  "kernelspec": {
   "display_name": "Python [conda env:py_36]",
   "language": "python",
   "name": "conda-env-py_36-py"
  },
  "language_info": {
   "codemirror_mode": {
    "name": "ipython",
    "version": 3
   },
   "file_extension": ".py",
   "mimetype": "text/x-python",
   "name": "python",
   "nbconvert_exporter": "python",
   "pygments_lexer": "ipython3",
   "version": "3.6.2"
  }
 },
 "nbformat": 4,
 "nbformat_minor": 1
}
